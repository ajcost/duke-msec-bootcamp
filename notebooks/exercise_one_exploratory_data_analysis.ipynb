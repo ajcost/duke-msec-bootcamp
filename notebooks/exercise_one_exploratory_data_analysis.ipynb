{
 "cells": [
  {
   "cell_type": "markdown",
   "id": "eec52072-76ca-4acb-99c7-b7c6c73ff835",
   "metadata": {},
   "source": [
    "# Exercise One - Descriptive Statistics\n",
    "\n",
    "In this exercise, we are tasked with summarizing key food cost metrics and trends for economists. We need to provide descriptive statistics for the dataset, including calculating cost of living trends such as the CPI, finding and showing plots of interesting patterns or trends in food costs, and including summary tables per country and product. We will start by loading standard libraries, appending the source code folder to the `PYTHON_PATH`, and setting CSS styling elements for the Jupyter notebooks to ensure our graphs display nicely. Additionally, we will use our utils library to load environment variables from the .env file and other necessary variables from the variables.yml file into our environment for easy access.\n",
    "\n",
    "Here we import necessary libraries, set up the source path by appending the `src` directory to the `PYTHON_PATH` and then imports utility functions and modules for data handling and environment specification. The code includes a CSS style definition to ensure the output graphs are well-formatted in the Jupyter notebook. Environment variables are loaded from the `.env` and `variables.yml` files to facilitate access to configuration settings. We load the base dataset using this setup."
   ]
  },
  {
   "cell_type": "code",
   "execution_count": 18,
   "id": "bd9530ba-fec1-4c91-afde-dd8f47b6d6ad",
   "metadata": {},
   "outputs": [
    {
     "data": {
      "text/html": [
       "\n",
       "<style>\n",
       ".output_png {\n",
       "    display: table-cell;\n",
       "    text-align: center;\n",
       "    vertical-align: middle;\n",
       "}\n",
       "</style>\n"
      ],
      "text/plain": [
       "<IPython.core.display.HTML object>"
      ]
     },
     "execution_count": 18,
     "metadata": {},
     "output_type": "execute_result"
    }
   ],
   "source": [
    "import os\n",
    "import sys\n",
    "import pandas as pd\n",
    "import numpy as np\n",
    "import yaml\n",
    "\n",
    "# setup src path\n",
    "sys.path.append(os.path.join(os.path.dirname(\"../\"), \"src\"))\n",
    "\n",
    "# Load the data\n",
    "import utils\n",
    "from utils import cols, theme\n",
    "import descriptive_statistics\n",
    "import graphing\n",
    "\n",
    "from IPython.core.display import HTML\n",
    "HTML(\"\"\"\n",
    "<style>\n",
    ".output_png {\n",
    "    display: table-cell;\n",
    "    text-align: center;\n",
    "    vertical-align: middle;\n",
    "}\n",
    "</style>\n",
    "\"\"\")\n",
    "\n",
    "utils.load_env(path=\"../.env\")\n",
    "utils.load_variables(path=\"../variables.yml\")\n",
    "\n",
    "df = pd.read_csv(os.path.join(os.getenv(\"LOCAL_DATA_PATH\"), os.getenv(\"FOOD_PRICES_FILENAME\")))"
   ]
  },
  {
   "cell_type": "markdown",
   "id": "9a740a69-1093-454e-bc9d-bd55ed48bed5",
   "metadata": {},
   "source": [
    "#### Initial View of Dataset\n",
    "\n",
    "To get an initial understanding of the dataset, it's common to use the .head() method to view the first few rows. However, this method only shows the beginning of the dataset, which may not be representative. A better approach is to randomly sample or evenly sample rows throughout the dataset to get a more comprehensive view. In this example, we will evenly sample 20 rows from the dataset.\n",
    "\n",
    "First, the dataset is cleaned using the `utils.clean_data` function to ensure that the headers are cleaned up because there is some white spacing on the ends and other small nusances. Then, we create a list of row indices that are evenly spaced throughout the dataset. By dividing the total number of rows by the sample size, we determine the step size for our sampling. We then append these row indices to a list. Here I will just show twenty lines of the dataset to get an idea of what is going on."
   ]
  },
  {
   "cell_type": "code",
   "execution_count": 12,
   "id": "3077e6ff-7146-4d13-9019-a48278c1a52c",
   "metadata": {},
   "outputs": [
    {
     "data": {
      "text/html": [
       "<div>\n",
       "<style scoped>\n",
       "    .dataframe tbody tr th:only-of-type {\n",
       "        vertical-align: middle;\n",
       "    }\n",
       "\n",
       "    .dataframe tbody tr th {\n",
       "        vertical-align: top;\n",
       "    }\n",
       "\n",
       "    .dataframe thead th {\n",
       "        text-align: right;\n",
       "    }\n",
       "</style>\n",
       "<table border=\"1\" class=\"dataframe\">\n",
       "  <thead>\n",
       "    <tr style=\"text-align: right;\">\n",
       "      <th></th>\n",
       "      <th>COUNTRY</th>\n",
       "      <th>YEAR</th>\n",
       "      <th>MONTH</th>\n",
       "      <th>FOOD_ITEM</th>\n",
       "      <th>UNIT_OF_MEASUREMENT</th>\n",
       "      <th>AVERAGE_PRICE</th>\n",
       "      <th>CURRENCY</th>\n",
       "      <th>PRICE_IN_USD</th>\n",
       "      <th>AVAILABILITY</th>\n",
       "      <th>QUALITY</th>\n",
       "    </tr>\n",
       "  </thead>\n",
       "  <tbody>\n",
       "    <tr>\n",
       "      <th>0</th>\n",
       "      <td>Australia</td>\n",
       "      <td>2018</td>\n",
       "      <td>1</td>\n",
       "      <td>Bread</td>\n",
       "      <td>Loaf</td>\n",
       "      <td>2.20</td>\n",
       "      <td>AUD</td>\n",
       "      <td>1.47</td>\n",
       "      <td>1</td>\n",
       "      <td>High</td>\n",
       "    </tr>\n",
       "    <tr>\n",
       "      <th>60</th>\n",
       "      <td>Australia</td>\n",
       "      <td>2018</td>\n",
       "      <td>1</td>\n",
       "      <td>Milk</td>\n",
       "      <td>1 L</td>\n",
       "      <td>1.22</td>\n",
       "      <td>AUD</td>\n",
       "      <td>0.82</td>\n",
       "      <td>1</td>\n",
       "      <td>High</td>\n",
       "    </tr>\n",
       "    <tr>\n",
       "      <th>120</th>\n",
       "      <td>Australia</td>\n",
       "      <td>2018</td>\n",
       "      <td>1</td>\n",
       "      <td>Eggs</td>\n",
       "      <td>Carton of 12</td>\n",
       "      <td>3.10</td>\n",
       "      <td>AUD</td>\n",
       "      <td>2.08</td>\n",
       "      <td>1</td>\n",
       "      <td>High</td>\n",
       "    </tr>\n",
       "    <tr>\n",
       "      <th>180</th>\n",
       "      <td>Australia</td>\n",
       "      <td>2018</td>\n",
       "      <td>1</td>\n",
       "      <td>Potatoes</td>\n",
       "      <td>1 Kg</td>\n",
       "      <td>3.25</td>\n",
       "      <td>AUD</td>\n",
       "      <td>2.18</td>\n",
       "      <td>1</td>\n",
       "      <td>High</td>\n",
       "    </tr>\n",
       "    <tr>\n",
       "      <th>240</th>\n",
       "      <td>Sweden</td>\n",
       "      <td>2018</td>\n",
       "      <td>1</td>\n",
       "      <td>Bread</td>\n",
       "      <td>Loaf</td>\n",
       "      <td>18.61</td>\n",
       "      <td>Kr</td>\n",
       "      <td>1.82</td>\n",
       "      <td>1</td>\n",
       "      <td>High</td>\n",
       "    </tr>\n",
       "    <tr>\n",
       "      <th>300</th>\n",
       "      <td>Sweden</td>\n",
       "      <td>2018</td>\n",
       "      <td>1</td>\n",
       "      <td>Milk</td>\n",
       "      <td>1 L</td>\n",
       "      <td>10.18</td>\n",
       "      <td>Kr</td>\n",
       "      <td>1.00</td>\n",
       "      <td>1</td>\n",
       "      <td>High</td>\n",
       "    </tr>\n",
       "    <tr>\n",
       "      <th>360</th>\n",
       "      <td>Sweden</td>\n",
       "      <td>2018</td>\n",
       "      <td>1</td>\n",
       "      <td>Eggs</td>\n",
       "      <td>Carton of 12</td>\n",
       "      <td>26.08</td>\n",
       "      <td>Kr</td>\n",
       "      <td>2.56</td>\n",
       "      <td>1</td>\n",
       "      <td>High</td>\n",
       "    </tr>\n",
       "    <tr>\n",
       "      <th>420</th>\n",
       "      <td>Sweden</td>\n",
       "      <td>2018</td>\n",
       "      <td>1</td>\n",
       "      <td>Potatoes</td>\n",
       "      <td>1 Kg</td>\n",
       "      <td>11.10</td>\n",
       "      <td>Kr</td>\n",
       "      <td>1.09</td>\n",
       "      <td>1</td>\n",
       "      <td>High</td>\n",
       "    </tr>\n",
       "    <tr>\n",
       "      <th>480</th>\n",
       "      <td>Japan</td>\n",
       "      <td>2018</td>\n",
       "      <td>1</td>\n",
       "      <td>Bread</td>\n",
       "      <td>Loaf</td>\n",
       "      <td>186.39</td>\n",
       "      <td>JPY</td>\n",
       "      <td>1.34</td>\n",
       "      <td>1</td>\n",
       "      <td>High</td>\n",
       "    </tr>\n",
       "    <tr>\n",
       "      <th>540</th>\n",
       "      <td>Japan</td>\n",
       "      <td>2018</td>\n",
       "      <td>1</td>\n",
       "      <td>Milk</td>\n",
       "      <td>1 L</td>\n",
       "      <td>186.24</td>\n",
       "      <td>JPY</td>\n",
       "      <td>1.34</td>\n",
       "      <td>1</td>\n",
       "      <td>High</td>\n",
       "    </tr>\n",
       "    <tr>\n",
       "      <th>600</th>\n",
       "      <td>Japan</td>\n",
       "      <td>2018</td>\n",
       "      <td>1</td>\n",
       "      <td>Eggs</td>\n",
       "      <td>Carton of 12</td>\n",
       "      <td>222.68</td>\n",
       "      <td>JPY</td>\n",
       "      <td>1.60</td>\n",
       "      <td>1</td>\n",
       "      <td>High</td>\n",
       "    </tr>\n",
       "    <tr>\n",
       "      <th>660</th>\n",
       "      <td>Japan</td>\n",
       "      <td>2018</td>\n",
       "      <td>1</td>\n",
       "      <td>Potatoes</td>\n",
       "      <td>1 Kg</td>\n",
       "      <td>359.95</td>\n",
       "      <td>JPY</td>\n",
       "      <td>2.59</td>\n",
       "      <td>1</td>\n",
       "      <td>High</td>\n",
       "    </tr>\n",
       "    <tr>\n",
       "      <th>720</th>\n",
       "      <td>South Africa</td>\n",
       "      <td>2018</td>\n",
       "      <td>1</td>\n",
       "      <td>Bread</td>\n",
       "      <td>Loaf</td>\n",
       "      <td>12.57</td>\n",
       "      <td>ZAR</td>\n",
       "      <td>0.69</td>\n",
       "      <td>1</td>\n",
       "      <td>Medium</td>\n",
       "    </tr>\n",
       "    <tr>\n",
       "      <th>780</th>\n",
       "      <td>South Africa</td>\n",
       "      <td>2018</td>\n",
       "      <td>1</td>\n",
       "      <td>Milk</td>\n",
       "      <td>1 L</td>\n",
       "      <td>14.14</td>\n",
       "      <td>ZAR</td>\n",
       "      <td>0.78</td>\n",
       "      <td>1</td>\n",
       "      <td>Medium</td>\n",
       "    </tr>\n",
       "    <tr>\n",
       "      <th>840</th>\n",
       "      <td>South Africa</td>\n",
       "      <td>2018</td>\n",
       "      <td>1</td>\n",
       "      <td>Eggs</td>\n",
       "      <td>Carton of 12</td>\n",
       "      <td>25.98</td>\n",
       "      <td>ZAR</td>\n",
       "      <td>1.43</td>\n",
       "      <td>1</td>\n",
       "      <td>Medium</td>\n",
       "    </tr>\n",
       "    <tr>\n",
       "      <th>900</th>\n",
       "      <td>South Africa</td>\n",
       "      <td>2018</td>\n",
       "      <td>1</td>\n",
       "      <td>Potatoes</td>\n",
       "      <td>1 Kg</td>\n",
       "      <td>15.81</td>\n",
       "      <td>ZAR</td>\n",
       "      <td>0.87</td>\n",
       "      <td>1</td>\n",
       "      <td>Medium</td>\n",
       "    </tr>\n",
       "    <tr>\n",
       "      <th>960</th>\n",
       "      <td>Canada</td>\n",
       "      <td>2018</td>\n",
       "      <td>1</td>\n",
       "      <td>Bread</td>\n",
       "      <td>Loaf</td>\n",
       "      <td>2.87</td>\n",
       "      <td>CAD</td>\n",
       "      <td>2.18</td>\n",
       "      <td>1</td>\n",
       "      <td>High</td>\n",
       "    </tr>\n",
       "    <tr>\n",
       "      <th>1020</th>\n",
       "      <td>Canada</td>\n",
       "      <td>2018</td>\n",
       "      <td>1</td>\n",
       "      <td>Milk</td>\n",
       "      <td>1 Kg</td>\n",
       "      <td>2.42</td>\n",
       "      <td>CAD</td>\n",
       "      <td>1.84</td>\n",
       "      <td>1</td>\n",
       "      <td>High</td>\n",
       "    </tr>\n",
       "    <tr>\n",
       "      <th>1080</th>\n",
       "      <td>Canada</td>\n",
       "      <td>2018</td>\n",
       "      <td>1</td>\n",
       "      <td>Eggs</td>\n",
       "      <td>Carton of 12</td>\n",
       "      <td>3.79</td>\n",
       "      <td>CAD</td>\n",
       "      <td>2.88</td>\n",
       "      <td>1</td>\n",
       "      <td>High</td>\n",
       "    </tr>\n",
       "    <tr>\n",
       "      <th>1140</th>\n",
       "      <td>Canada</td>\n",
       "      <td>2018</td>\n",
       "      <td>1</td>\n",
       "      <td>Potatoes</td>\n",
       "      <td>1 Kg</td>\n",
       "      <td>2.85</td>\n",
       "      <td>CAD</td>\n",
       "      <td>2.16</td>\n",
       "      <td>1</td>\n",
       "      <td>High</td>\n",
       "    </tr>\n",
       "  </tbody>\n",
       "</table>\n",
       "</div>"
      ],
      "text/plain": [
       "           COUNTRY  YEAR  MONTH FOOD_ITEM UNIT_OF_MEASUREMENT  AVERAGE_PRICE  \\\n",
       "0        Australia  2018      1     Bread                Loaf           2.20   \n",
       "60       Australia  2018      1      Milk                 1 L           1.22   \n",
       "120      Australia  2018      1      Eggs        Carton of 12           3.10   \n",
       "180      Australia  2018      1  Potatoes                1 Kg           3.25   \n",
       "240         Sweden  2018      1     Bread                Loaf          18.61   \n",
       "300         Sweden  2018      1      Milk                 1 L          10.18   \n",
       "360         Sweden  2018      1      Eggs        Carton of 12          26.08   \n",
       "420         Sweden  2018      1  Potatoes                1 Kg          11.10   \n",
       "480          Japan  2018      1     Bread                Loaf         186.39   \n",
       "540          Japan  2018      1      Milk                 1 L         186.24   \n",
       "600          Japan  2018      1      Eggs        Carton of 12         222.68   \n",
       "660          Japan  2018      1  Potatoes                1 Kg         359.95   \n",
       "720   South Africa  2018      1     Bread                Loaf          12.57   \n",
       "780   South Africa  2018      1      Milk                 1 L          14.14   \n",
       "840   South Africa  2018      1      Eggs        Carton of 12          25.98   \n",
       "900   South Africa  2018      1  Potatoes                1 Kg          15.81   \n",
       "960         Canada  2018      1     Bread                Loaf           2.87   \n",
       "1020        Canada  2018      1      Milk                1 Kg           2.42   \n",
       "1080        Canada  2018      1      Eggs        Carton of 12           3.79   \n",
       "1140        Canada  2018      1  Potatoes                1 Kg           2.85   \n",
       "\n",
       "     CURRENCY  PRICE_IN_USD  AVAILABILITY QUALITY  \n",
       "0         AUD          1.47             1    High  \n",
       "60        AUD          0.82             1    High  \n",
       "120       AUD          2.08             1    High  \n",
       "180       AUD          2.18             1    High  \n",
       "240        Kr          1.82             1    High  \n",
       "300        Kr          1.00             1    High  \n",
       "360        Kr          2.56             1    High  \n",
       "420        Kr          1.09             1    High  \n",
       "480      JPY           1.34             1    High  \n",
       "540      JPY           1.34             1    High  \n",
       "600      JPY           1.60             1    High  \n",
       "660      JPY           2.59             1    High  \n",
       "720       ZAR          0.69             1  Medium  \n",
       "780       ZAR          0.78             1  Medium  \n",
       "840       ZAR          1.43             1  Medium  \n",
       "900       ZAR          0.87             1  Medium  \n",
       "960       CAD          2.18             1    High  \n",
       "1020      CAD          1.84             1    High  \n",
       "1080      CAD          2.88             1    High  \n",
       "1140      CAD          2.16             1    High  "
      ]
     },
     "execution_count": 12,
     "metadata": {},
     "output_type": "execute_result"
    }
   ],
   "source": [
    "df = utils.clean_data(df)\n",
    "\n",
    "rows = []\n",
    "sample = 20\n",
    "for i in range(0, sample):\n",
    "    row_num = int(df.shape[0] / sample) * i\n",
    "    rows.append(row_num)\n",
    "\n",
    "df.iloc[rows]"
   ]
  },
  {
   "cell_type": "code",
   "execution_count": 13,
   "id": "11c72af1-faec-442d-99e7-8b61131b7da3",
   "metadata": {},
   "outputs": [
    {
     "data": {
      "text/html": [
       "<div>\n",
       "<style scoped>\n",
       "    .dataframe tbody tr th:only-of-type {\n",
       "        vertical-align: middle;\n",
       "    }\n",
       "\n",
       "    .dataframe tbody tr th {\n",
       "        vertical-align: top;\n",
       "    }\n",
       "\n",
       "    .dataframe thead th {\n",
       "        text-align: right;\n",
       "    }\n",
       "</style>\n",
       "<table border=\"1\" class=\"dataframe\">\n",
       "  <thead>\n",
       "    <tr style=\"text-align: right;\">\n",
       "      <th></th>\n",
       "      <th>AVERAGE_PRICE</th>\n",
       "      <th>PERC_PRICE_CHANGE_START_YEAR_TO_END_YEAR</th>\n",
       "      <th>MAX_INTER_MONTH_PRICE_CHANGE</th>\n",
       "      <th>MAX_OVERALL_PRICE_CHANGE</th>\n",
       "      <th>PRICE_STANDARD_DEVIATION</th>\n",
       "      <th>PRICE_VARIANCE</th>\n",
       "    </tr>\n",
       "    <tr>\n",
       "      <th>YEAR</th>\n",
       "      <th></th>\n",
       "      <th></th>\n",
       "      <th></th>\n",
       "      <th></th>\n",
       "      <th></th>\n",
       "      <th></th>\n",
       "    </tr>\n",
       "  </thead>\n",
       "  <tbody>\n",
       "    <tr>\n",
       "      <th>2018</th>\n",
       "      <td>0.710000</td>\n",
       "      <td>5.797101</td>\n",
       "      <td>0.01</td>\n",
       "      <td>0.04</td>\n",
       "      <td>0.011282</td>\n",
       "      <td>0.000127</td>\n",
       "    </tr>\n",
       "    <tr>\n",
       "      <th>2019</th>\n",
       "      <td>0.742500</td>\n",
       "      <td>4.109589</td>\n",
       "      <td>0.01</td>\n",
       "      <td>0.03</td>\n",
       "      <td>0.009653</td>\n",
       "      <td>0.000093</td>\n",
       "    </tr>\n",
       "    <tr>\n",
       "      <th>2020</th>\n",
       "      <td>0.770833</td>\n",
       "      <td>2.631579</td>\n",
       "      <td>0.01</td>\n",
       "      <td>0.02</td>\n",
       "      <td>0.007930</td>\n",
       "      <td>0.000063</td>\n",
       "    </tr>\n",
       "    <tr>\n",
       "      <th>2021</th>\n",
       "      <td>0.801667</td>\n",
       "      <td>5.128205</td>\n",
       "      <td>0.01</td>\n",
       "      <td>0.04</td>\n",
       "      <td>0.012673</td>\n",
       "      <td>0.000161</td>\n",
       "    </tr>\n",
       "    <tr>\n",
       "      <th>2022</th>\n",
       "      <td>0.850000</td>\n",
       "      <td>7.317073</td>\n",
       "      <td>0.01</td>\n",
       "      <td>0.06</td>\n",
       "      <td>0.018586</td>\n",
       "      <td>0.000345</td>\n",
       "    </tr>\n",
       "  </tbody>\n",
       "</table>\n",
       "</div>"
      ],
      "text/plain": [
       "      AVERAGE_PRICE  PERC_PRICE_CHANGE_START_YEAR_TO_END_YEAR  \\\n",
       "YEAR                                                            \n",
       "2018       0.710000                                  5.797101   \n",
       "2019       0.742500                                  4.109589   \n",
       "2020       0.770833                                  2.631579   \n",
       "2021       0.801667                                  5.128205   \n",
       "2022       0.850000                                  7.317073   \n",
       "\n",
       "      MAX_INTER_MONTH_PRICE_CHANGE  MAX_OVERALL_PRICE_CHANGE  \\\n",
       "YEAR                                                           \n",
       "2018                          0.01                      0.04   \n",
       "2019                          0.01                      0.03   \n",
       "2020                          0.01                      0.02   \n",
       "2021                          0.01                      0.04   \n",
       "2022                          0.01                      0.06   \n",
       "\n",
       "      PRICE_STANDARD_DEVIATION  PRICE_VARIANCE  \n",
       "YEAR                                            \n",
       "2018                  0.011282        0.000127  \n",
       "2019                  0.009653        0.000093  \n",
       "2020                  0.007930        0.000063  \n",
       "2021                  0.012673        0.000161  \n",
       "2022                  0.018586        0.000345  "
      ]
     },
     "execution_count": 13,
     "metadata": {},
     "output_type": "execute_result"
    }
   ],
   "source": [
    "descriptive_statistics.price_statistics(df, \"South Africa\", \"Bread\", \"USD\")"
   ]
  },
  {
   "cell_type": "code",
   "execution_count": 14,
   "id": "3e40c5b8-053b-475d-bc66-85b52858f822",
   "metadata": {},
   "outputs": [],
   "source": [
    "inter_country_price_stats = descriptive_statistics.inter_country_price_statistic_table(df, \"Bread\", \"AVERAGE_PRICE\")\n",
    "\n",
    "# Normalize by the \"Average\" column\n",
    "inter_country_price_stats_norm = inter_country_price_stats.div(inter_country_price_stats[\"Average\"], axis=0)"
   ]
  },
  {
   "cell_type": "code",
   "execution_count": 15,
   "id": "5de2aa5a-bfaf-41ed-9d0e-6ffdddc9c9c1",
   "metadata": {},
   "outputs": [
    {
     "data": {
      "application/vnd.plotly.v1+json": {
       "config": {
        "plotlyServerURL": "https://plot.ly"
       },
       "data": [
        {
         "colorscale": [
          [
           0,
           "#f2f2f2"
          ],
          [
           0.003937007874015748,
           "#f1f2f1"
          ],
          [
           0.007874015748031496,
           "#f1f1f1"
          ],
          [
           0.011811023622047244,
           "#f0f1f0"
          ],
          [
           0.015748031496062992,
           "#eff1f0"
          ],
          [
           0.01968503937007874,
           "#eef0ef"
          ],
          [
           0.023622047244094488,
           "#eef0ef"
          ],
          [
           0.027559055118110236,
           "#edf0ee"
          ],
          [
           0.031496062992125984,
           "#ecefee"
          ],
          [
           0.03543307086614173,
           "#ecefed"
          ],
          [
           0.03937007874015748,
           "#ebefed"
          ],
          [
           0.04330708661417323,
           "#eaeeec"
          ],
          [
           0.047244094488188976,
           "#e9eeec"
          ],
          [
           0.051181102362204724,
           "#e9eeeb"
          ],
          [
           0.05511811023622047,
           "#e8edeb"
          ],
          [
           0.05905511811023622,
           "#e7edea"
          ],
          [
           0.06299212598425197,
           "#e7edea"
          ],
          [
           0.06692913385826772,
           "#e6ece9"
          ],
          [
           0.07086614173228346,
           "#e5ece9"
          ],
          [
           0.07480314960629922,
           "#e4ebe8"
          ],
          [
           0.07874015748031496,
           "#e4ebe7"
          ],
          [
           0.08267716535433071,
           "#e3ebe7"
          ],
          [
           0.08661417322834646,
           "#e2eae6"
          ],
          [
           0.09055118110236221,
           "#e2eae6"
          ],
          [
           0.09448818897637795,
           "#e1eae5"
          ],
          [
           0.0984251968503937,
           "#e0e9e5"
          ],
          [
           0.10236220472440945,
           "#dfe9e4"
          ],
          [
           0.1062992125984252,
           "#dfe9e4"
          ],
          [
           0.11023622047244094,
           "#dee8e3"
          ],
          [
           0.1141732283464567,
           "#dde8e3"
          ],
          [
           0.11811023622047244,
           "#dde8e2"
          ],
          [
           0.1220472440944882,
           "#dce7e2"
          ],
          [
           0.12598425196850394,
           "#dbe7e1"
          ],
          [
           0.12992125984251968,
           "#dae7e1"
          ],
          [
           0.13385826771653545,
           "#dae6e0"
          ],
          [
           0.1377952755905512,
           "#d9e6e0"
          ],
          [
           0.14173228346456693,
           "#d8e6df"
          ],
          [
           0.14566929133858267,
           "#d8e5de"
          ],
          [
           0.14960629921259844,
           "#d7e5de"
          ],
          [
           0.15354330708661418,
           "#d6e5dd"
          ],
          [
           0.15748031496062992,
           "#d5e4dd"
          ],
          [
           0.16141732283464566,
           "#d5e4dc"
          ],
          [
           0.16535433070866143,
           "#d4e4dc"
          ],
          [
           0.16929133858267717,
           "#d3e3db"
          ],
          [
           0.1732283464566929,
           "#d3e3db"
          ],
          [
           0.17716535433070865,
           "#d2e3da"
          ],
          [
           0.18110236220472442,
           "#d1e2da"
          ],
          [
           0.18503937007874016,
           "#d1e2d9"
          ],
          [
           0.1889763779527559,
           "#d0e2d9"
          ],
          [
           0.19291338582677164,
           "#cfe1d8"
          ],
          [
           0.1968503937007874,
           "#cee1d8"
          ],
          [
           0.20078740157480315,
           "#cee1d7"
          ],
          [
           0.2047244094488189,
           "#cde0d7"
          ],
          [
           0.20866141732283464,
           "#cce0d6"
          ],
          [
           0.2125984251968504,
           "#cce0d6"
          ],
          [
           0.21653543307086615,
           "#cbdfd5"
          ],
          [
           0.2204724409448819,
           "#cadfd4"
          ],
          [
           0.22440944881889763,
           "#c9ded4"
          ],
          [
           0.2283464566929134,
           "#c9ded3"
          ],
          [
           0.23228346456692914,
           "#c8ded3"
          ],
          [
           0.23622047244094488,
           "#c7ddd2"
          ],
          [
           0.24015748031496062,
           "#c7ddd2"
          ],
          [
           0.2440944881889764,
           "#c6ddd1"
          ],
          [
           0.24803149606299213,
           "#c5dcd1"
          ],
          [
           0.25196850393700787,
           "#c4dcd0"
          ],
          [
           0.2559055118110236,
           "#c4dcd0"
          ],
          [
           0.25984251968503935,
           "#c3dbcf"
          ],
          [
           0.2637795275590551,
           "#c2dbcf"
          ],
          [
           0.2677165354330709,
           "#c2dbce"
          ],
          [
           0.27165354330708663,
           "#c1dace"
          ],
          [
           0.2755905511811024,
           "#c0dacd"
          ],
          [
           0.2795275590551181,
           "#bfdacd"
          ],
          [
           0.28346456692913385,
           "#bfd9cc"
          ],
          [
           0.2874015748031496,
           "#bed9cb"
          ],
          [
           0.29133858267716534,
           "#bdd9cb"
          ],
          [
           0.2952755905511811,
           "#bdd8ca"
          ],
          [
           0.2992125984251969,
           "#bcd8ca"
          ],
          [
           0.3031496062992126,
           "#bbd8c9"
          ],
          [
           0.30708661417322836,
           "#bad7c9"
          ],
          [
           0.3110236220472441,
           "#bad7c8"
          ],
          [
           0.31496062992125984,
           "#b9d7c8"
          ],
          [
           0.3188976377952756,
           "#b8d6c7"
          ],
          [
           0.3228346456692913,
           "#b8d6c7"
          ],
          [
           0.32677165354330706,
           "#b7d6c6"
          ],
          [
           0.33070866141732286,
           "#b6d5c6"
          ],
          [
           0.3346456692913386,
           "#b5d5c5"
          ],
          [
           0.33858267716535434,
           "#b5d5c5"
          ],
          [
           0.3425196850393701,
           "#b4d4c4"
          ],
          [
           0.3464566929133858,
           "#b3d4c4"
          ],
          [
           0.35039370078740156,
           "#b3d4c3"
          ],
          [
           0.3543307086614173,
           "#b2d3c3"
          ],
          [
           0.35826771653543305,
           "#b1d3c2"
          ],
          [
           0.36220472440944884,
           "#b0d2c1"
          ],
          [
           0.3661417322834646,
           "#b0d2c1"
          ],
          [
           0.3700787401574803,
           "#afd2c0"
          ],
          [
           0.37401574803149606,
           "#aed1c0"
          ],
          [
           0.3779527559055118,
           "#aed1bf"
          ],
          [
           0.38188976377952755,
           "#add1bf"
          ],
          [
           0.3858267716535433,
           "#acd0be"
          ],
          [
           0.38976377952755903,
           "#abd0be"
          ],
          [
           0.3937007874015748,
           "#abd0bd"
          ],
          [
           0.39763779527559057,
           "#aacfbd"
          ],
          [
           0.4015748031496063,
           "#a9cfbc"
          ],
          [
           0.40551181102362205,
           "#a9cfbc"
          ],
          [
           0.4094488188976378,
           "#a8cebb"
          ],
          [
           0.41338582677165353,
           "#a7cebb"
          ],
          [
           0.41732283464566927,
           "#a6ceba"
          ],
          [
           0.421259842519685,
           "#a6cdba"
          ],
          [
           0.4251968503937008,
           "#a5cdb9"
          ],
          [
           0.42913385826771655,
           "#a4cdb8"
          ],
          [
           0.4330708661417323,
           "#a4ccb8"
          ],
          [
           0.43700787401574803,
           "#a3ccb7"
          ],
          [
           0.4409448818897638,
           "#a2ccb7"
          ],
          [
           0.4448818897637795,
           "#a1cbb6"
          ],
          [
           0.44881889763779526,
           "#a1cbb6"
          ],
          [
           0.452755905511811,
           "#a0cbb5"
          ],
          [
           0.4566929133858268,
           "#9fcab5"
          ],
          [
           0.46062992125984253,
           "#9fcab4"
          ],
          [
           0.4645669291338583,
           "#9ecab4"
          ],
          [
           0.468503937007874,
           "#9dc9b3"
          ],
          [
           0.47244094488188976,
           "#9cc9b3"
          ],
          [
           0.4763779527559055,
           "#9cc9b2"
          ],
          [
           0.48031496062992124,
           "#9bc8b2"
          ],
          [
           0.484251968503937,
           "#9ac8b1"
          ],
          [
           0.4881889763779528,
           "#9ac8b1"
          ],
          [
           0.4921259842519685,
           "#99c7b0"
          ],
          [
           0.49606299212598426,
           "#98c7b0"
          ],
          [
           0.5,
           "#98c6af"
          ],
          [
           0.5039370078740157,
           "#97c6ae"
          ],
          [
           0.5078740157480315,
           "#96c6ae"
          ],
          [
           0.5118110236220472,
           "#95c5ad"
          ],
          [
           0.515748031496063,
           "#95c5ad"
          ],
          [
           0.5196850393700787,
           "#94c5ac"
          ],
          [
           0.5236220472440944,
           "#93c4ac"
          ],
          [
           0.5275590551181102,
           "#93c4ab"
          ],
          [
           0.531496062992126,
           "#92c4ab"
          ],
          [
           0.5354330708661418,
           "#91c3aa"
          ],
          [
           0.5393700787401575,
           "#90c3aa"
          ],
          [
           0.5433070866141733,
           "#90c3a9"
          ],
          [
           0.547244094488189,
           "#8fc2a9"
          ],
          [
           0.5511811023622047,
           "#8ec2a8"
          ],
          [
           0.5551181102362205,
           "#8ec2a8"
          ],
          [
           0.5590551181102362,
           "#8dc1a7"
          ],
          [
           0.562992125984252,
           "#8cc1a7"
          ],
          [
           0.5669291338582677,
           "#8bc1a6"
          ],
          [
           0.5708661417322834,
           "#8bc0a6"
          ],
          [
           0.5748031496062992,
           "#8ac0a5"
          ],
          [
           0.5787401574803149,
           "#89c0a4"
          ],
          [
           0.5826771653543307,
           "#89bfa4"
          ],
          [
           0.5866141732283464,
           "#88bfa3"
          ],
          [
           0.5905511811023622,
           "#87bfa3"
          ],
          [
           0.594488188976378,
           "#86bea2"
          ],
          [
           0.5984251968503937,
           "#86bea2"
          ],
          [
           0.6023622047244095,
           "#85bea1"
          ],
          [
           0.6062992125984252,
           "#84bda1"
          ],
          [
           0.610236220472441,
           "#84bda0"
          ],
          [
           0.6141732283464567,
           "#83bda0"
          ],
          [
           0.6181102362204725,
           "#82bc9f"
          ],
          [
           0.6220472440944882,
           "#81bc9f"
          ],
          [
           0.6259842519685039,
           "#81bc9e"
          ],
          [
           0.6299212598425197,
           "#80bb9e"
          ],
          [
           0.6338582677165354,
           "#7fbb9d"
          ],
          [
           0.6377952755905512,
           "#7fbb9d"
          ],
          [
           0.6417322834645669,
           "#7eba9c"
          ],
          [
           0.6456692913385826,
           "#7dba9b"
          ],
          [
           0.6496062992125984,
           "#7cb99b"
          ],
          [
           0.6535433070866141,
           "#7cb99a"
          ],
          [
           0.65748031496063,
           "#7bb99a"
          ],
          [
           0.6614173228346457,
           "#7ab899"
          ],
          [
           0.6653543307086615,
           "#7ab899"
          ],
          [
           0.6692913385826772,
           "#79b898"
          ],
          [
           0.6732283464566929,
           "#78b798"
          ],
          [
           0.6771653543307087,
           "#77b797"
          ],
          [
           0.6811023622047244,
           "#77b797"
          ],
          [
           0.6850393700787402,
           "#76b696"
          ],
          [
           0.6889763779527559,
           "#75b696"
          ],
          [
           0.6929133858267716,
           "#75b695"
          ],
          [
           0.6968503937007874,
           "#74b595"
          ],
          [
           0.7007874015748031,
           "#73b594"
          ],
          [
           0.7047244094488189,
           "#72b594"
          ],
          [
           0.7086614173228346,
           "#72b493"
          ],
          [
           0.7125984251968503,
           "#71b493"
          ],
          [
           0.7165354330708661,
           "#70b492"
          ],
          [
           0.7204724409448819,
           "#70b391"
          ],
          [
           0.7244094488188977,
           "#6fb391"
          ],
          [
           0.7283464566929134,
           "#6eb390"
          ],
          [
           0.7322834645669292,
           "#6db290"
          ],
          [
           0.7362204724409449,
           "#6db28f"
          ],
          [
           0.7401574803149606,
           "#6cb28f"
          ],
          [
           0.7440944881889764,
           "#6bb18e"
          ],
          [
           0.7480314960629921,
           "#6bb18e"
          ],
          [
           0.7519685039370079,
           "#6ab18d"
          ],
          [
           0.7559055118110236,
           "#69b08d"
          ],
          [
           0.7598425196850394,
           "#68b08c"
          ],
          [
           0.7637795275590551,
           "#68b08c"
          ],
          [
           0.7677165354330708,
           "#67af8b"
          ],
          [
           0.7716535433070866,
           "#66af8b"
          ],
          [
           0.7755905511811023,
           "#66af8a"
          ],
          [
           0.7795275590551181,
           "#65ae8a"
          ],
          [
           0.7834645669291339,
           "#64ae89"
          ],
          [
           0.7874015748031497,
           "#63ad88"
          ],
          [
           0.7913385826771654,
           "#63ad88"
          ],
          [
           0.7952755905511811,
           "#62ad87"
          ],
          [
           0.7992125984251969,
           "#61ac87"
          ],
          [
           0.8031496062992126,
           "#61ac86"
          ],
          [
           0.8070866141732284,
           "#60ac86"
          ],
          [
           0.8110236220472441,
           "#5fab85"
          ],
          [
           0.8149606299212598,
           "#5eab85"
          ],
          [
           0.8188976377952756,
           "#5eab84"
          ],
          [
           0.8228346456692913,
           "#5daa84"
          ],
          [
           0.8267716535433071,
           "#5caa83"
          ],
          [
           0.8307086614173228,
           "#5caa83"
          ],
          [
           0.8346456692913385,
           "#5ba982"
          ],
          [
           0.8385826771653543,
           "#5aa982"
          ],
          [
           0.84251968503937,
           "#5aa981"
          ],
          [
           0.8464566929133859,
           "#59a881"
          ],
          [
           0.8503937007874016,
           "#58a880"
          ],
          [
           0.8543307086614174,
           "#57a880"
          ],
          [
           0.8582677165354331,
           "#57a77f"
          ],
          [
           0.8622047244094488,
           "#56a77e"
          ],
          [
           0.8661417322834646,
           "#55a77e"
          ],
          [
           0.8700787401574803,
           "#55a67d"
          ],
          [
           0.8740157480314961,
           "#54a67d"
          ],
          [
           0.8779527559055118,
           "#53a67c"
          ],
          [
           0.8818897637795275,
           "#52a57c"
          ],
          [
           0.8858267716535433,
           "#52a57b"
          ],
          [
           0.889763779527559,
           "#51a57b"
          ],
          [
           0.8937007874015748,
           "#50a47a"
          ],
          [
           0.8976377952755905,
           "#50a47a"
          ],
          [
           0.9015748031496063,
           "#4fa479"
          ],
          [
           0.905511811023622,
           "#4ea379"
          ],
          [
           0.9094488188976378,
           "#4da378"
          ],
          [
           0.9133858267716536,
           "#4da378"
          ],
          [
           0.9173228346456693,
           "#4ca277"
          ],
          [
           0.9212598425196851,
           "#4ba277"
          ],
          [
           0.9251968503937008,
           "#4ba276"
          ],
          [
           0.9291338582677166,
           "#4aa175"
          ],
          [
           0.9330708661417323,
           "#49a175"
          ],
          [
           0.937007874015748,
           "#48a074"
          ],
          [
           0.9409448818897638,
           "#48a074"
          ],
          [
           0.9448818897637795,
           "#47a073"
          ],
          [
           0.9488188976377953,
           "#469f73"
          ],
          [
           0.952755905511811,
           "#469f72"
          ],
          [
           0.9566929133858267,
           "#459f72"
          ],
          [
           0.9606299212598425,
           "#449e71"
          ],
          [
           0.9645669291338582,
           "#439e71"
          ],
          [
           0.968503937007874,
           "#439e70"
          ],
          [
           0.9724409448818898,
           "#429d70"
          ],
          [
           0.9763779527559056,
           "#419d6f"
          ],
          [
           0.9803149606299213,
           "#419d6f"
          ],
          [
           0.984251968503937,
           "#409c6e"
          ],
          [
           0.9881889763779528,
           "#3f9c6e"
          ],
          [
           0.9921259842519685,
           "#3e9c6d"
          ],
          [
           0.9960629921259843,
           "#3e9b6d"
          ],
          [
           1,
           "#3d9b6c"
          ]
         ],
         "hovertemplate": "Country: %{y}<br>Year: %{x}<br>Value: $%{z:.2f}<extra></extra>",
         "showlegend": false,
         "showscale": false,
         "type": "heatmap",
         "x": [
          "Australia",
          "Canada",
          "Japan",
          "South Africa",
          "Sweden",
          "Average"
         ],
         "xaxis": "x",
         "y": [
          2018,
          2019,
          2020,
          2021,
          2022
         ],
         "yaxis": "y",
         "z": [
          [
           1.4883333333333333,
           2.2041666666666666,
           1.3616666666666666,
           0.71,
           1.8500000000000003,
           1.5228333333333335
          ],
          [
           1.5433333333333337,
           2.2625,
           1.3966666666666665,
           0.7424999999999998,
           1.963333333333333,
           1.5816666666666668
          ],
          [
           1.5975,
           2.306666666666666,
           1.3966666666666665,
           0.7708333333333334,
           2.064166666666667,
           1.6271666666666667
          ],
          [
           1.7025000000000003,
           2.355,
           1.3983333333333334,
           0.8016666666666667,
           2.1616666666666666,
           1.6838333333333333
          ],
          [
           1.8866666666666665,
           2.439166666666667,
           1.47,
           0.85,
           2.4000000000000004,
           1.8091666666666666
          ]
         ]
        },
        {
         "colorscale": [
          [
           0,
           "rgb(247,251,255)"
          ],
          [
           0.125,
           "rgb(222,235,247)"
          ],
          [
           0.25,
           "rgb(198,219,239)"
          ],
          [
           0.375,
           "rgb(158,202,225)"
          ],
          [
           0.5,
           "rgb(107,174,214)"
          ],
          [
           0.625,
           "rgb(66,146,198)"
          ],
          [
           0.75,
           "rgb(33,113,181)"
          ],
          [
           0.875,
           "rgb(8,81,156)"
          ],
          [
           1,
           "rgb(8,48,107)"
          ]
         ],
         "hovertemplate": "Country: %{y}<br>Year: %{x}<br>Value: %{z:.2f}<extra></extra>",
         "showlegend": false,
         "showscale": false,
         "type": "heatmap",
         "x": [
          "Australia",
          "Canada",
          "Japan",
          "South Africa",
          "Sweden",
          "Average"
         ],
         "xaxis": "x2",
         "y": [
          2018,
          2019,
          2020,
          2021,
          2022
         ],
         "yaxis": "y2",
         "z": [
          [
           0.9773448615519316,
           1.4474116230710297,
           0.8941665754624054,
           0.4662361825544489,
           1.214840757360184,
           1
          ],
          [
           0.9757639620653321,
           1.4304531085353003,
           0.8830347734457322,
           0.46944151738672274,
           1.2413066385669123,
           1
          ],
          [
           0.9817678992113079,
           1.4175970500870632,
           0.8583427225238143,
           0.4737273379084298,
           1.2685649902693845,
           1
          ],
          [
           1.0110858160942298,
           1.3985944768880532,
           0.8304464020587945,
           0.4760962090468178,
           1.2837770959121053,
           1
          ],
          [
           1.0428374021188391,
           1.3482266236757257,
           0.8125287885766928,
           0.4698295716259788,
           1.3265776140027639,
           1
          ]
         ]
        }
       ],
       "layout": {
        "annotations": [
         {
          "font": {
           "size": 16
          },
          "showarrow": false,
          "text": "Average Prices Heatmap",
          "x": 0.225,
          "xanchor": "center",
          "xref": "paper",
          "y": 1.075,
          "yanchor": "bottom",
          "yref": "paper"
         },
         {
          "font": {
           "size": 16
          },
          "showarrow": false,
          "text": "Normalized Average Prices Heatmap",
          "x": 0.775,
          "xanchor": "center",
          "xref": "paper",
          "y": 1.075,
          "yanchor": "bottom",
          "yref": "paper"
         },
         {
          "font": {
           "color": "black"
          },
          "showarrow": false,
          "text": "$1.36",
          "x": "Japan",
          "xref": "x",
          "y": 2018,
          "yref": "y"
         },
         {
          "font": {
           "color": "black"
          },
          "showarrow": false,
          "text": "$0.71",
          "x": "South Africa",
          "xref": "x",
          "y": 2018,
          "yref": "y"
         },
         {
          "font": {
           "color": "black"
          },
          "showarrow": false,
          "text": "$1.85",
          "x": "Sweden",
          "xref": "x",
          "y": 2018,
          "yref": "y"
         },
         {
          "font": {
           "color": "black"
          },
          "showarrow": false,
          "text": "$1.52",
          "x": "Average",
          "xref": "x",
          "y": 2018,
          "yref": "y"
         },
         {
          "font": {
           "color": "black"
          },
          "showarrow": false,
          "text": "$1.54",
          "x": "Australia",
          "xref": "x",
          "y": 2019,
          "yref": "y"
         },
         {
          "font": {
           "color": "black"
          },
          "showarrow": false,
          "text": "$2.26",
          "x": "Canada",
          "xref": "x",
          "y": 2019,
          "yref": "y"
         },
         {
          "font": {
           "color": "black"
          },
          "showarrow": false,
          "text": "$1.40",
          "x": "Japan",
          "xref": "x",
          "y": 2019,
          "yref": "y"
         },
         {
          "font": {
           "color": "black"
          },
          "showarrow": false,
          "text": "$0.74",
          "x": "South Africa",
          "xref": "x",
          "y": 2019,
          "yref": "y"
         },
         {
          "font": {
           "color": "black"
          },
          "showarrow": false,
          "text": "$1.96",
          "x": "Sweden",
          "xref": "x",
          "y": 2019,
          "yref": "y"
         },
         {
          "font": {
           "color": "black"
          },
          "showarrow": false,
          "text": "$1.58",
          "x": "Average",
          "xref": "x",
          "y": 2019,
          "yref": "y"
         },
         {
          "font": {
           "color": "black"
          },
          "showarrow": false,
          "text": "$1.60",
          "x": "Australia",
          "xref": "x",
          "y": 2020,
          "yref": "y"
         },
         {
          "font": {
           "color": "black"
          },
          "showarrow": false,
          "text": "$2.31",
          "x": "Canada",
          "xref": "x",
          "y": 2020,
          "yref": "y"
         },
         {
          "font": {
           "color": "black"
          },
          "showarrow": false,
          "text": "$1.40",
          "x": "Japan",
          "xref": "x",
          "y": 2020,
          "yref": "y"
         },
         {
          "font": {
           "color": "black"
          },
          "showarrow": false,
          "text": "$0.77",
          "x": "South Africa",
          "xref": "x",
          "y": 2020,
          "yref": "y"
         },
         {
          "font": {
           "color": "black"
          },
          "showarrow": false,
          "text": "$2.06",
          "x": "Sweden",
          "xref": "x",
          "y": 2020,
          "yref": "y"
         },
         {
          "font": {
           "color": "black"
          },
          "showarrow": false,
          "text": "$1.63",
          "x": "Average",
          "xref": "x",
          "y": 2020,
          "yref": "y"
         },
         {
          "font": {
           "color": "black"
          },
          "showarrow": false,
          "text": "$1.70",
          "x": "Australia",
          "xref": "x",
          "y": 2021,
          "yref": "y"
         },
         {
          "font": {
           "color": "black"
          },
          "showarrow": false,
          "text": "$2.35",
          "x": "Canada",
          "xref": "x",
          "y": 2021,
          "yref": "y"
         },
         {
          "font": {
           "color": "black"
          },
          "showarrow": false,
          "text": "$1.40",
          "x": "Japan",
          "xref": "x",
          "y": 2021,
          "yref": "y"
         },
         {
          "font": {
           "color": "black"
          },
          "showarrow": false,
          "text": "$0.80",
          "x": "South Africa",
          "xref": "x",
          "y": 2021,
          "yref": "y"
         },
         {
          "font": {
           "color": "black"
          },
          "showarrow": false,
          "text": "$2.16",
          "x": "Sweden",
          "xref": "x",
          "y": 2021,
          "yref": "y"
         },
         {
          "font": {
           "color": "black"
          },
          "showarrow": false,
          "text": "$1.68",
          "x": "Average",
          "xref": "x",
          "y": 2021,
          "yref": "y"
         },
         {
          "font": {
           "color": "black"
          },
          "showarrow": false,
          "text": "$1.89",
          "x": "Australia",
          "xref": "x",
          "y": 2022,
          "yref": "y"
         },
         {
          "font": {
           "color": "black"
          },
          "showarrow": false,
          "text": "$2.44",
          "x": "Canada",
          "xref": "x",
          "y": 2022,
          "yref": "y"
         },
         {
          "font": {
           "color": "black"
          },
          "showarrow": false,
          "text": "$1.47",
          "x": "Japan",
          "xref": "x",
          "y": 2022,
          "yref": "y"
         },
         {
          "font": {
           "color": "black"
          },
          "showarrow": false,
          "text": "$0.85",
          "x": "South Africa",
          "xref": "x",
          "y": 2022,
          "yref": "y"
         },
         {
          "font": {
           "color": "black"
          },
          "showarrow": false,
          "text": "$2.40",
          "x": "Sweden",
          "xref": "x",
          "y": 2022,
          "yref": "y"
         },
         {
          "font": {
           "color": "black"
          },
          "showarrow": false,
          "text": "$1.81",
          "x": "Average",
          "xref": "x",
          "y": 2022,
          "yref": "y"
         },
         {
          "font": {
           "color": "black"
          },
          "showarrow": false,
          "text": "0.98",
          "x": "Australia",
          "xref": "x2",
          "y": 2018,
          "yref": "y2"
         },
         {
          "font": {
           "color": "black"
          },
          "showarrow": false,
          "text": "1.45",
          "x": "Canada",
          "xref": "x2",
          "y": 2018,
          "yref": "y2"
         },
         {
          "font": {
           "color": "black"
          },
          "showarrow": false,
          "text": "0.89",
          "x": "Japan",
          "xref": "x2",
          "y": 2018,
          "yref": "y2"
         },
         {
          "font": {
           "color": "black"
          },
          "showarrow": false,
          "text": "0.47",
          "x": "South Africa",
          "xref": "x2",
          "y": 2018,
          "yref": "y2"
         },
         {
          "font": {
           "color": "black"
          },
          "showarrow": false,
          "text": "1.21",
          "x": "Sweden",
          "xref": "x2",
          "y": 2018,
          "yref": "y2"
         },
         {
          "font": {
           "color": "black"
          },
          "showarrow": false,
          "text": "1.00",
          "x": "Average",
          "xref": "x2",
          "y": 2018,
          "yref": "y2"
         },
         {
          "font": {
           "color": "black"
          },
          "showarrow": false,
          "text": "0.98",
          "x": "Australia",
          "xref": "x2",
          "y": 2019,
          "yref": "y2"
         },
         {
          "font": {
           "color": "black"
          },
          "showarrow": false,
          "text": "1.43",
          "x": "Canada",
          "xref": "x2",
          "y": 2019,
          "yref": "y2"
         },
         {
          "font": {
           "color": "black"
          },
          "showarrow": false,
          "text": "0.88",
          "x": "Japan",
          "xref": "x2",
          "y": 2019,
          "yref": "y2"
         },
         {
          "font": {
           "color": "black"
          },
          "showarrow": false,
          "text": "0.47",
          "x": "South Africa",
          "xref": "x2",
          "y": 2019,
          "yref": "y2"
         },
         {
          "font": {
           "color": "black"
          },
          "showarrow": false,
          "text": "1.24",
          "x": "Sweden",
          "xref": "x2",
          "y": 2019,
          "yref": "y2"
         },
         {
          "font": {
           "color": "black"
          },
          "showarrow": false,
          "text": "1.00",
          "x": "Average",
          "xref": "x2",
          "y": 2019,
          "yref": "y2"
         },
         {
          "font": {
           "color": "black"
          },
          "showarrow": false,
          "text": "0.98",
          "x": "Australia",
          "xref": "x2",
          "y": 2020,
          "yref": "y2"
         },
         {
          "font": {
           "color": "black"
          },
          "showarrow": false,
          "text": "1.42",
          "x": "Canada",
          "xref": "x2",
          "y": 2020,
          "yref": "y2"
         },
         {
          "font": {
           "color": "black"
          },
          "showarrow": false,
          "text": "0.86",
          "x": "Japan",
          "xref": "x2",
          "y": 2020,
          "yref": "y2"
         },
         {
          "font": {
           "color": "black"
          },
          "showarrow": false,
          "text": "0.47",
          "x": "South Africa",
          "xref": "x2",
          "y": 2020,
          "yref": "y2"
         },
         {
          "font": {
           "color": "black"
          },
          "showarrow": false,
          "text": "1.27",
          "x": "Sweden",
          "xref": "x2",
          "y": 2020,
          "yref": "y2"
         },
         {
          "font": {
           "color": "black"
          },
          "showarrow": false,
          "text": "1.00",
          "x": "Average",
          "xref": "x2",
          "y": 2020,
          "yref": "y2"
         },
         {
          "font": {
           "color": "black"
          },
          "showarrow": false,
          "text": "1.01",
          "x": "Australia",
          "xref": "x2",
          "y": 2021,
          "yref": "y2"
         },
         {
          "font": {
           "color": "black"
          },
          "showarrow": false,
          "text": "1.40",
          "x": "Canada",
          "xref": "x2",
          "y": 2021,
          "yref": "y2"
         },
         {
          "font": {
           "color": "black"
          },
          "showarrow": false,
          "text": "0.83",
          "x": "Japan",
          "xref": "x2",
          "y": 2021,
          "yref": "y2"
         },
         {
          "font": {
           "color": "black"
          },
          "showarrow": false,
          "text": "0.48",
          "x": "South Africa",
          "xref": "x2",
          "y": 2021,
          "yref": "y2"
         },
         {
          "font": {
           "color": "black"
          },
          "showarrow": false,
          "text": "1.28",
          "x": "Sweden",
          "xref": "x2",
          "y": 2021,
          "yref": "y2"
         },
         {
          "font": {
           "color": "black"
          },
          "showarrow": false,
          "text": "1.00",
          "x": "Average",
          "xref": "x2",
          "y": 2021,
          "yref": "y2"
         },
         {
          "font": {
           "color": "black"
          },
          "showarrow": false,
          "text": "1.04",
          "x": "Australia",
          "xref": "x2",
          "y": 2022,
          "yref": "y2"
         },
         {
          "font": {
           "color": "black"
          },
          "showarrow": false,
          "text": "1.35",
          "x": "Canada",
          "xref": "x2",
          "y": 2022,
          "yref": "y2"
         },
         {
          "font": {
           "color": "black"
          },
          "showarrow": false,
          "text": "0.81",
          "x": "Japan",
          "xref": "x2",
          "y": 2022,
          "yref": "y2"
         },
         {
          "font": {
           "color": "black"
          },
          "showarrow": false,
          "text": "0.47",
          "x": "South Africa",
          "xref": "x2",
          "y": 2022,
          "yref": "y2"
         },
         {
          "font": {
           "color": "black"
          },
          "showarrow": false,
          "text": "1.33",
          "x": "Sweden",
          "xref": "x2",
          "y": 2022,
          "yref": "y2"
         },
         {
          "font": {
           "color": "black"
          },
          "showarrow": false,
          "text": "1.00",
          "x": "Average",
          "xref": "x2",
          "y": 2022,
          "yref": "y2"
         }
        ],
        "height": 500,
        "margin": {
         "b": 100,
         "l": 100,
         "r": 100,
         "t": 100
        },
        "template": {
         "data": {
          "bar": [
           {
            "error_x": {
             "color": "#2a3f5f"
            },
            "error_y": {
             "color": "#2a3f5f"
            },
            "marker": {
             "line": {
              "color": "#E5ECF6",
              "width": 0.5
             },
             "pattern": {
              "fillmode": "overlay",
              "size": 10,
              "solidity": 0.2
             }
            },
            "type": "bar"
           }
          ],
          "barpolar": [
           {
            "marker": {
             "line": {
              "color": "#E5ECF6",
              "width": 0.5
             },
             "pattern": {
              "fillmode": "overlay",
              "size": 10,
              "solidity": 0.2
             }
            },
            "type": "barpolar"
           }
          ],
          "carpet": [
           {
            "aaxis": {
             "endlinecolor": "#2a3f5f",
             "gridcolor": "white",
             "linecolor": "white",
             "minorgridcolor": "white",
             "startlinecolor": "#2a3f5f"
            },
            "baxis": {
             "endlinecolor": "#2a3f5f",
             "gridcolor": "white",
             "linecolor": "white",
             "minorgridcolor": "white",
             "startlinecolor": "#2a3f5f"
            },
            "type": "carpet"
           }
          ],
          "choropleth": [
           {
            "colorbar": {
             "outlinewidth": 0,
             "ticks": ""
            },
            "type": "choropleth"
           }
          ],
          "contour": [
           {
            "colorbar": {
             "outlinewidth": 0,
             "ticks": ""
            },
            "colorscale": [
             [
              0,
              "#0d0887"
             ],
             [
              0.1111111111111111,
              "#46039f"
             ],
             [
              0.2222222222222222,
              "#7201a8"
             ],
             [
              0.3333333333333333,
              "#9c179e"
             ],
             [
              0.4444444444444444,
              "#bd3786"
             ],
             [
              0.5555555555555556,
              "#d8576b"
             ],
             [
              0.6666666666666666,
              "#ed7953"
             ],
             [
              0.7777777777777778,
              "#fb9f3a"
             ],
             [
              0.8888888888888888,
              "#fdca26"
             ],
             [
              1,
              "#f0f921"
             ]
            ],
            "type": "contour"
           }
          ],
          "contourcarpet": [
           {
            "colorbar": {
             "outlinewidth": 0,
             "ticks": ""
            },
            "type": "contourcarpet"
           }
          ],
          "heatmap": [
           {
            "colorbar": {
             "outlinewidth": 0,
             "ticks": ""
            },
            "colorscale": [
             [
              0,
              "#0d0887"
             ],
             [
              0.1111111111111111,
              "#46039f"
             ],
             [
              0.2222222222222222,
              "#7201a8"
             ],
             [
              0.3333333333333333,
              "#9c179e"
             ],
             [
              0.4444444444444444,
              "#bd3786"
             ],
             [
              0.5555555555555556,
              "#d8576b"
             ],
             [
              0.6666666666666666,
              "#ed7953"
             ],
             [
              0.7777777777777778,
              "#fb9f3a"
             ],
             [
              0.8888888888888888,
              "#fdca26"
             ],
             [
              1,
              "#f0f921"
             ]
            ],
            "type": "heatmap"
           }
          ],
          "heatmapgl": [
           {
            "colorbar": {
             "outlinewidth": 0,
             "ticks": ""
            },
            "colorscale": [
             [
              0,
              "#0d0887"
             ],
             [
              0.1111111111111111,
              "#46039f"
             ],
             [
              0.2222222222222222,
              "#7201a8"
             ],
             [
              0.3333333333333333,
              "#9c179e"
             ],
             [
              0.4444444444444444,
              "#bd3786"
             ],
             [
              0.5555555555555556,
              "#d8576b"
             ],
             [
              0.6666666666666666,
              "#ed7953"
             ],
             [
              0.7777777777777778,
              "#fb9f3a"
             ],
             [
              0.8888888888888888,
              "#fdca26"
             ],
             [
              1,
              "#f0f921"
             ]
            ],
            "type": "heatmapgl"
           }
          ],
          "histogram": [
           {
            "marker": {
             "pattern": {
              "fillmode": "overlay",
              "size": 10,
              "solidity": 0.2
             }
            },
            "type": "histogram"
           }
          ],
          "histogram2d": [
           {
            "colorbar": {
             "outlinewidth": 0,
             "ticks": ""
            },
            "colorscale": [
             [
              0,
              "#0d0887"
             ],
             [
              0.1111111111111111,
              "#46039f"
             ],
             [
              0.2222222222222222,
              "#7201a8"
             ],
             [
              0.3333333333333333,
              "#9c179e"
             ],
             [
              0.4444444444444444,
              "#bd3786"
             ],
             [
              0.5555555555555556,
              "#d8576b"
             ],
             [
              0.6666666666666666,
              "#ed7953"
             ],
             [
              0.7777777777777778,
              "#fb9f3a"
             ],
             [
              0.8888888888888888,
              "#fdca26"
             ],
             [
              1,
              "#f0f921"
             ]
            ],
            "type": "histogram2d"
           }
          ],
          "histogram2dcontour": [
           {
            "colorbar": {
             "outlinewidth": 0,
             "ticks": ""
            },
            "colorscale": [
             [
              0,
              "#0d0887"
             ],
             [
              0.1111111111111111,
              "#46039f"
             ],
             [
              0.2222222222222222,
              "#7201a8"
             ],
             [
              0.3333333333333333,
              "#9c179e"
             ],
             [
              0.4444444444444444,
              "#bd3786"
             ],
             [
              0.5555555555555556,
              "#d8576b"
             ],
             [
              0.6666666666666666,
              "#ed7953"
             ],
             [
              0.7777777777777778,
              "#fb9f3a"
             ],
             [
              0.8888888888888888,
              "#fdca26"
             ],
             [
              1,
              "#f0f921"
             ]
            ],
            "type": "histogram2dcontour"
           }
          ],
          "mesh3d": [
           {
            "colorbar": {
             "outlinewidth": 0,
             "ticks": ""
            },
            "type": "mesh3d"
           }
          ],
          "parcoords": [
           {
            "line": {
             "colorbar": {
              "outlinewidth": 0,
              "ticks": ""
             }
            },
            "type": "parcoords"
           }
          ],
          "pie": [
           {
            "automargin": true,
            "type": "pie"
           }
          ],
          "scatter": [
           {
            "fillpattern": {
             "fillmode": "overlay",
             "size": 10,
             "solidity": 0.2
            },
            "type": "scatter"
           }
          ],
          "scatter3d": [
           {
            "line": {
             "colorbar": {
              "outlinewidth": 0,
              "ticks": ""
             }
            },
            "marker": {
             "colorbar": {
              "outlinewidth": 0,
              "ticks": ""
             }
            },
            "type": "scatter3d"
           }
          ],
          "scattercarpet": [
           {
            "marker": {
             "colorbar": {
              "outlinewidth": 0,
              "ticks": ""
             }
            },
            "type": "scattercarpet"
           }
          ],
          "scattergeo": [
           {
            "marker": {
             "colorbar": {
              "outlinewidth": 0,
              "ticks": ""
             }
            },
            "type": "scattergeo"
           }
          ],
          "scattergl": [
           {
            "marker": {
             "colorbar": {
              "outlinewidth": 0,
              "ticks": ""
             }
            },
            "type": "scattergl"
           }
          ],
          "scattermapbox": [
           {
            "marker": {
             "colorbar": {
              "outlinewidth": 0,
              "ticks": ""
             }
            },
            "type": "scattermapbox"
           }
          ],
          "scatterpolar": [
           {
            "marker": {
             "colorbar": {
              "outlinewidth": 0,
              "ticks": ""
             }
            },
            "type": "scatterpolar"
           }
          ],
          "scatterpolargl": [
           {
            "marker": {
             "colorbar": {
              "outlinewidth": 0,
              "ticks": ""
             }
            },
            "type": "scatterpolargl"
           }
          ],
          "scatterternary": [
           {
            "marker": {
             "colorbar": {
              "outlinewidth": 0,
              "ticks": ""
             }
            },
            "type": "scatterternary"
           }
          ],
          "surface": [
           {
            "colorbar": {
             "outlinewidth": 0,
             "ticks": ""
            },
            "colorscale": [
             [
              0,
              "#0d0887"
             ],
             [
              0.1111111111111111,
              "#46039f"
             ],
             [
              0.2222222222222222,
              "#7201a8"
             ],
             [
              0.3333333333333333,
              "#9c179e"
             ],
             [
              0.4444444444444444,
              "#bd3786"
             ],
             [
              0.5555555555555556,
              "#d8576b"
             ],
             [
              0.6666666666666666,
              "#ed7953"
             ],
             [
              0.7777777777777778,
              "#fb9f3a"
             ],
             [
              0.8888888888888888,
              "#fdca26"
             ],
             [
              1,
              "#f0f921"
             ]
            ],
            "type": "surface"
           }
          ],
          "table": [
           {
            "cells": {
             "fill": {
              "color": "#EBF0F8"
             },
             "line": {
              "color": "white"
             }
            },
            "header": {
             "fill": {
              "color": "#C8D4E3"
             },
             "line": {
              "color": "white"
             }
            },
            "type": "table"
           }
          ]
         },
         "layout": {
          "annotationdefaults": {
           "arrowcolor": "#2a3f5f",
           "arrowhead": 0,
           "arrowwidth": 1
          },
          "autotypenumbers": "strict",
          "coloraxis": {
           "colorbar": {
            "outlinewidth": 0,
            "ticks": ""
           }
          },
          "colorscale": {
           "diverging": [
            [
             0,
             "#8e0152"
            ],
            [
             0.1,
             "#c51b7d"
            ],
            [
             0.2,
             "#de77ae"
            ],
            [
             0.3,
             "#f1b6da"
            ],
            [
             0.4,
             "#fde0ef"
            ],
            [
             0.5,
             "#f7f7f7"
            ],
            [
             0.6,
             "#e6f5d0"
            ],
            [
             0.7,
             "#b8e186"
            ],
            [
             0.8,
             "#7fbc41"
            ],
            [
             0.9,
             "#4d9221"
            ],
            [
             1,
             "#276419"
            ]
           ],
           "sequential": [
            [
             0,
             "#0d0887"
            ],
            [
             0.1111111111111111,
             "#46039f"
            ],
            [
             0.2222222222222222,
             "#7201a8"
            ],
            [
             0.3333333333333333,
             "#9c179e"
            ],
            [
             0.4444444444444444,
             "#bd3786"
            ],
            [
             0.5555555555555556,
             "#d8576b"
            ],
            [
             0.6666666666666666,
             "#ed7953"
            ],
            [
             0.7777777777777778,
             "#fb9f3a"
            ],
            [
             0.8888888888888888,
             "#fdca26"
            ],
            [
             1,
             "#f0f921"
            ]
           ],
           "sequentialminus": [
            [
             0,
             "#0d0887"
            ],
            [
             0.1111111111111111,
             "#46039f"
            ],
            [
             0.2222222222222222,
             "#7201a8"
            ],
            [
             0.3333333333333333,
             "#9c179e"
            ],
            [
             0.4444444444444444,
             "#bd3786"
            ],
            [
             0.5555555555555556,
             "#d8576b"
            ],
            [
             0.6666666666666666,
             "#ed7953"
            ],
            [
             0.7777777777777778,
             "#fb9f3a"
            ],
            [
             0.8888888888888888,
             "#fdca26"
            ],
            [
             1,
             "#f0f921"
            ]
           ]
          },
          "colorway": [
           "#636efa",
           "#EF553B",
           "#00cc96",
           "#ab63fa",
           "#FFA15A",
           "#19d3f3",
           "#FF6692",
           "#B6E880",
           "#FF97FF",
           "#FECB52"
          ],
          "font": {
           "color": "#2a3f5f"
          },
          "geo": {
           "bgcolor": "white",
           "lakecolor": "white",
           "landcolor": "#E5ECF6",
           "showlakes": true,
           "showland": true,
           "subunitcolor": "white"
          },
          "hoverlabel": {
           "align": "left"
          },
          "hovermode": "closest",
          "mapbox": {
           "style": "light"
          },
          "paper_bgcolor": "white",
          "plot_bgcolor": "#E5ECF6",
          "polar": {
           "angularaxis": {
            "gridcolor": "white",
            "linecolor": "white",
            "ticks": ""
           },
           "bgcolor": "#E5ECF6",
           "radialaxis": {
            "gridcolor": "white",
            "linecolor": "white",
            "ticks": ""
           }
          },
          "scene": {
           "xaxis": {
            "backgroundcolor": "#E5ECF6",
            "gridcolor": "white",
            "gridwidth": 2,
            "linecolor": "white",
            "showbackground": true,
            "ticks": "",
            "zerolinecolor": "white"
           },
           "yaxis": {
            "backgroundcolor": "#E5ECF6",
            "gridcolor": "white",
            "gridwidth": 2,
            "linecolor": "white",
            "showbackground": true,
            "ticks": "",
            "zerolinecolor": "white"
           },
           "zaxis": {
            "backgroundcolor": "#E5ECF6",
            "gridcolor": "white",
            "gridwidth": 2,
            "linecolor": "white",
            "showbackground": true,
            "ticks": "",
            "zerolinecolor": "white"
           }
          },
          "shapedefaults": {
           "line": {
            "color": "#2a3f5f"
           }
          },
          "ternary": {
           "aaxis": {
            "gridcolor": "white",
            "linecolor": "white",
            "ticks": ""
           },
           "baxis": {
            "gridcolor": "white",
            "linecolor": "white",
            "ticks": ""
           },
           "bgcolor": "#E5ECF6",
           "caxis": {
            "gridcolor": "white",
            "linecolor": "white",
            "ticks": ""
           }
          },
          "title": {
           "x": 0.05
          },
          "xaxis": {
           "automargin": true,
           "gridcolor": "white",
           "linecolor": "white",
           "ticks": "",
           "title": {
            "standoff": 15
           },
           "zerolinecolor": "white",
           "zerolinewidth": 2
          },
          "yaxis": {
           "automargin": true,
           "gridcolor": "white",
           "linecolor": "white",
           "ticks": "",
           "title": {
            "standoff": 15
           },
           "zerolinecolor": "white",
           "zerolinewidth": 2
          }
         }
        },
        "title": {
         "text": "Heatmaps of Average Prices for Bread by Country and Year"
        },
        "width": 1100,
        "xaxis": {
         "anchor": "y",
         "autorange": true,
         "domain": [
          0,
          0.45
         ],
         "range": [
          -0.5,
          5.5
         ],
         "scaleanchor": "y",
         "scaleratio": 1,
         "side": "top",
         "tickmode": "array",
         "ticktext": [
          "Australia",
          "Canada",
          "Japan",
          "South Africa",
          "Sweden",
          "Average"
         ],
         "tickvals": [
          0,
          1,
          2,
          3,
          4,
          5
         ],
         "title": {
          "font": {
           "family": "Arial",
           "size": 14
          }
         },
         "type": "category"
        },
        "xaxis2": {
         "anchor": "y2",
         "autorange": true,
         "domain": [
          0.55,
          1
         ],
         "range": [
          -0.5,
          5.5
         ],
         "scaleanchor": "y",
         "scaleratio": 1,
         "side": "top",
         "tickmode": "array",
         "ticktext": [
          "Australia",
          "Canada",
          "Japan",
          "South Africa",
          "Sweden",
          "Average"
         ],
         "tickvals": [
          0,
          1,
          2,
          3,
          4,
          5
         ],
         "title": {
          "font": {
           "family": "Arial",
           "size": 14
          }
         },
         "type": "category"
        },
        "yaxis": {
         "anchor": "x",
         "autorange": true,
         "domain": [
          0,
          1
         ],
         "range": [
          2017.5,
          2022.5
         ],
         "side": "left",
         "tickfont": {
          "family": "sans-serif"
         },
         "ticks": "",
         "ticksuffix": " ",
         "type": "linear"
        },
        "yaxis2": {
         "anchor": "x2",
         "autorange": true,
         "domain": [
          0,
          1
         ],
         "range": [
          2017.5,
          2022.5
         ],
         "side": "left",
         "tickfont": {
          "family": "sans-serif"
         },
         "ticks": "",
         "ticksuffix": " ",
         "type": "linear"
        }
       }
      },
      "image/png": "[encoded data removed]",
      "text/html": [
       "<div>                            <div id=\"51cc9ca0-31b4-4a3b-9f59-46941456b7bc\" class=\"plotly-graph-div\" style=\"height:500px; width:1100px;\"></div>            <script type=\"text/javascript\">                require([\"plotly\"], function(Plotly) {                    window.PLOTLYENV=window.PLOTLYENV || {};                                    if (document.getElementById(\"51cc9ca0-31b4-4a3b-9f59-46941456b7bc\")) {                    Plotly.newPlot(                        \"51cc9ca0-31b4-4a3b-9f59-46941456b7bc\",                        [{\"colorscale\":[[0.0,\"#f2f2f2\"],[0.003937007874015748,\"#f1f2f1\"],[0.007874015748031496,\"#f1f1f1\"],[0.011811023622047244,\"#f0f1f0\"],[0.015748031496062992,\"#eff1f0\"],[0.01968503937007874,\"#eef0ef\"],[0.023622047244094488,\"#eef0ef\"],[0.027559055118110236,\"#edf0ee\"],[0.031496062992125984,\"#ecefee\"],[0.03543307086614173,\"#ecefed\"],[0.03937007874015748,\"#ebefed\"],[0.04330708661417323,\"#eaeeec\"],[0.047244094488188976,\"#e9eeec\"],[0.051181102362204724,\"#e9eeeb\"],[0.05511811023622047,\"#e8edeb\"],[0.05905511811023622,\"#e7edea\"],[0.06299212598425197,\"#e7edea\"],[0.06692913385826772,\"#e6ece9\"],[0.07086614173228346,\"#e5ece9\"],[0.07480314960629922,\"#e4ebe8\"],[0.07874015748031496,\"#e4ebe7\"],[0.08267716535433071,\"#e3ebe7\"],[0.08661417322834646,\"#e2eae6\"],[0.09055118110236221,\"#e2eae6\"],[0.09448818897637795,\"#e1eae5\"],[0.0984251968503937,\"#e0e9e5\"],[0.10236220472440945,\"#dfe9e4\"],[0.1062992125984252,\"#dfe9e4\"],[0.11023622047244094,\"#dee8e3\"],[0.1141732283464567,\"#dde8e3\"],[0.11811023622047244,\"#dde8e2\"],[0.1220472440944882,\"#dce7e2\"],[0.12598425196850394,\"#dbe7e1\"],[0.12992125984251968,\"#dae7e1\"],[0.13385826771653545,\"#dae6e0\"],[0.1377952755905512,\"#d9e6e0\"],[0.14173228346456693,\"#d8e6df\"],[0.14566929133858267,\"#d8e5de\"],[0.14960629921259844,\"#d7e5de\"],[0.15354330708661418,\"#d6e5dd\"],[0.15748031496062992,\"#d5e4dd\"],[0.16141732283464566,\"#d5e4dc\"],[0.16535433070866143,\"#d4e4dc\"],[0.16929133858267717,\"#d3e3db\"],[0.1732283464566929,\"#d3e3db\"],[0.17716535433070865,\"#d2e3da\"],[0.18110236220472442,\"#d1e2da\"],[0.18503937007874016,\"#d1e2d9\"],[0.1889763779527559,\"#d0e2d9\"],[0.19291338582677164,\"#cfe1d8\"],[0.1968503937007874,\"#cee1d8\"],[0.20078740157480315,\"#cee1d7\"],[0.2047244094488189,\"#cde0d7\"],[0.20866141732283464,\"#cce0d6\"],[0.2125984251968504,\"#cce0d6\"],[0.21653543307086615,\"#cbdfd5\"],[0.2204724409448819,\"#cadfd4\"],[0.22440944881889763,\"#c9ded4\"],[0.2283464566929134,\"#c9ded3\"],[0.23228346456692914,\"#c8ded3\"],[0.23622047244094488,\"#c7ddd2\"],[0.24015748031496062,\"#c7ddd2\"],[0.2440944881889764,\"#c6ddd1\"],[0.24803149606299213,\"#c5dcd1\"],[0.25196850393700787,\"#c4dcd0\"],[0.2559055118110236,\"#c4dcd0\"],[0.25984251968503935,\"#c3dbcf\"],[0.2637795275590551,\"#c2dbcf\"],[0.2677165354330709,\"#c2dbce\"],[0.27165354330708663,\"#c1dace\"],[0.2755905511811024,\"#c0dacd\"],[0.2795275590551181,\"#bfdacd\"],[0.28346456692913385,\"#bfd9cc\"],[0.2874015748031496,\"#bed9cb\"],[0.29133858267716534,\"#bdd9cb\"],[0.2952755905511811,\"#bdd8ca\"],[0.2992125984251969,\"#bcd8ca\"],[0.3031496062992126,\"#bbd8c9\"],[0.30708661417322836,\"#bad7c9\"],[0.3110236220472441,\"#bad7c8\"],[0.31496062992125984,\"#b9d7c8\"],[0.3188976377952756,\"#b8d6c7\"],[0.3228346456692913,\"#b8d6c7\"],[0.32677165354330706,\"#b7d6c6\"],[0.33070866141732286,\"#b6d5c6\"],[0.3346456692913386,\"#b5d5c5\"],[0.33858267716535434,\"#b5d5c5\"],[0.3425196850393701,\"#b4d4c4\"],[0.3464566929133858,\"#b3d4c4\"],[0.35039370078740156,\"#b3d4c3\"],[0.3543307086614173,\"#b2d3c3\"],[0.35826771653543305,\"#b1d3c2\"],[0.36220472440944884,\"#b0d2c1\"],[0.3661417322834646,\"#b0d2c1\"],[0.3700787401574803,\"#afd2c0\"],[0.37401574803149606,\"#aed1c0\"],[0.3779527559055118,\"#aed1bf\"],[0.38188976377952755,\"#add1bf\"],[0.3858267716535433,\"#acd0be\"],[0.38976377952755903,\"#abd0be\"],[0.3937007874015748,\"#abd0bd\"],[0.39763779527559057,\"#aacfbd\"],[0.4015748031496063,\"#a9cfbc\"],[0.40551181102362205,\"#a9cfbc\"],[0.4094488188976378,\"#a8cebb\"],[0.41338582677165353,\"#a7cebb\"],[0.41732283464566927,\"#a6ceba\"],[0.421259842519685,\"#a6cdba\"],[0.4251968503937008,\"#a5cdb9\"],[0.42913385826771655,\"#a4cdb8\"],[0.4330708661417323,\"#a4ccb8\"],[0.43700787401574803,\"#a3ccb7\"],[0.4409448818897638,\"#a2ccb7\"],[0.4448818897637795,\"#a1cbb6\"],[0.44881889763779526,\"#a1cbb6\"],[0.452755905511811,\"#a0cbb5\"],[0.4566929133858268,\"#9fcab5\"],[0.46062992125984253,\"#9fcab4\"],[0.4645669291338583,\"#9ecab4\"],[0.468503937007874,\"#9dc9b3\"],[0.47244094488188976,\"#9cc9b3\"],[0.4763779527559055,\"#9cc9b2\"],[0.48031496062992124,\"#9bc8b2\"],[0.484251968503937,\"#9ac8b1\"],[0.4881889763779528,\"#9ac8b1\"],[0.4921259842519685,\"#99c7b0\"],[0.49606299212598426,\"#98c7b0\"],[0.5,\"#98c6af\"],[0.5039370078740157,\"#97c6ae\"],[0.5078740157480315,\"#96c6ae\"],[0.5118110236220472,\"#95c5ad\"],[0.515748031496063,\"#95c5ad\"],[0.5196850393700787,\"#94c5ac\"],[0.5236220472440944,\"#93c4ac\"],[0.5275590551181102,\"#93c4ab\"],[0.531496062992126,\"#92c4ab\"],[0.5354330708661418,\"#91c3aa\"],[0.5393700787401575,\"#90c3aa\"],[0.5433070866141733,\"#90c3a9\"],[0.547244094488189,\"#8fc2a9\"],[0.5511811023622047,\"#8ec2a8\"],[0.5551181102362205,\"#8ec2a8\"],[0.5590551181102362,\"#8dc1a7\"],[0.562992125984252,\"#8cc1a7\"],[0.5669291338582677,\"#8bc1a6\"],[0.5708661417322834,\"#8bc0a6\"],[0.5748031496062992,\"#8ac0a5\"],[0.5787401574803149,\"#89c0a4\"],[0.5826771653543307,\"#89bfa4\"],[0.5866141732283464,\"#88bfa3\"],[0.5905511811023622,\"#87bfa3\"],[0.594488188976378,\"#86bea2\"],[0.5984251968503937,\"#86bea2\"],[0.6023622047244095,\"#85bea1\"],[0.6062992125984252,\"#84bda1\"],[0.610236220472441,\"#84bda0\"],[0.6141732283464567,\"#83bda0\"],[0.6181102362204725,\"#82bc9f\"],[0.6220472440944882,\"#81bc9f\"],[0.6259842519685039,\"#81bc9e\"],[0.6299212598425197,\"#80bb9e\"],[0.6338582677165354,\"#7fbb9d\"],[0.6377952755905512,\"#7fbb9d\"],[0.6417322834645669,\"#7eba9c\"],[0.6456692913385826,\"#7dba9b\"],[0.6496062992125984,\"#7cb99b\"],[0.6535433070866141,\"#7cb99a\"],[0.65748031496063,\"#7bb99a\"],[0.6614173228346457,\"#7ab899\"],[0.6653543307086615,\"#7ab899\"],[0.6692913385826772,\"#79b898\"],[0.6732283464566929,\"#78b798\"],[0.6771653543307087,\"#77b797\"],[0.6811023622047244,\"#77b797\"],[0.6850393700787402,\"#76b696\"],[0.6889763779527559,\"#75b696\"],[0.6929133858267716,\"#75b695\"],[0.6968503937007874,\"#74b595\"],[0.7007874015748031,\"#73b594\"],[0.7047244094488189,\"#72b594\"],[0.7086614173228346,\"#72b493\"],[0.7125984251968503,\"#71b493\"],[0.7165354330708661,\"#70b492\"],[0.7204724409448819,\"#70b391\"],[0.7244094488188977,\"#6fb391\"],[0.7283464566929134,\"#6eb390\"],[0.7322834645669292,\"#6db290\"],[0.7362204724409449,\"#6db28f\"],[0.7401574803149606,\"#6cb28f\"],[0.7440944881889764,\"#6bb18e\"],[0.7480314960629921,\"#6bb18e\"],[0.7519685039370079,\"#6ab18d\"],[0.7559055118110236,\"#69b08d\"],[0.7598425196850394,\"#68b08c\"],[0.7637795275590551,\"#68b08c\"],[0.7677165354330708,\"#67af8b\"],[0.7716535433070866,\"#66af8b\"],[0.7755905511811023,\"#66af8a\"],[0.7795275590551181,\"#65ae8a\"],[0.7834645669291339,\"#64ae89\"],[0.7874015748031497,\"#63ad88\"],[0.7913385826771654,\"#63ad88\"],[0.7952755905511811,\"#62ad87\"],[0.7992125984251969,\"#61ac87\"],[0.8031496062992126,\"#61ac86\"],[0.8070866141732284,\"#60ac86\"],[0.8110236220472441,\"#5fab85\"],[0.8149606299212598,\"#5eab85\"],[0.8188976377952756,\"#5eab84\"],[0.8228346456692913,\"#5daa84\"],[0.8267716535433071,\"#5caa83\"],[0.8307086614173228,\"#5caa83\"],[0.8346456692913385,\"#5ba982\"],[0.8385826771653543,\"#5aa982\"],[0.84251968503937,\"#5aa981\"],[0.8464566929133859,\"#59a881\"],[0.8503937007874016,\"#58a880\"],[0.8543307086614174,\"#57a880\"],[0.8582677165354331,\"#57a77f\"],[0.8622047244094488,\"#56a77e\"],[0.8661417322834646,\"#55a77e\"],[0.8700787401574803,\"#55a67d\"],[0.8740157480314961,\"#54a67d\"],[0.8779527559055118,\"#53a67c\"],[0.8818897637795275,\"#52a57c\"],[0.8858267716535433,\"#52a57b\"],[0.889763779527559,\"#51a57b\"],[0.8937007874015748,\"#50a47a\"],[0.8976377952755905,\"#50a47a\"],[0.9015748031496063,\"#4fa479\"],[0.905511811023622,\"#4ea379\"],[0.9094488188976378,\"#4da378\"],[0.9133858267716536,\"#4da378\"],[0.9173228346456693,\"#4ca277\"],[0.9212598425196851,\"#4ba277\"],[0.9251968503937008,\"#4ba276\"],[0.9291338582677166,\"#4aa175\"],[0.9330708661417323,\"#49a175\"],[0.937007874015748,\"#48a074\"],[0.9409448818897638,\"#48a074\"],[0.9448818897637795,\"#47a073\"],[0.9488188976377953,\"#469f73\"],[0.952755905511811,\"#469f72\"],[0.9566929133858267,\"#459f72\"],[0.9606299212598425,\"#449e71\"],[0.9645669291338582,\"#439e71\"],[0.968503937007874,\"#439e70\"],[0.9724409448818898,\"#429d70\"],[0.9763779527559056,\"#419d6f\"],[0.9803149606299213,\"#419d6f\"],[0.984251968503937,\"#409c6e\"],[0.9881889763779528,\"#3f9c6e\"],[0.9921259842519685,\"#3e9c6d\"],[0.9960629921259843,\"#3e9b6d\"],[1.0,\"#3d9b6c\"]],\"hovertemplate\":\"Country: %{y}\\u003cbr\\u003eYear: %{x}\\u003cbr\\u003eValue: $%{z:.2f}\\u003cextra\\u003e\\u003c\\u002fextra\\u003e\",\"showlegend\":false,\"showscale\":false,\"x\":[\"Australia\",\"Canada\",\"Japan\",\"South Africa\",\"Sweden\",\"Average\"],\"y\":[2018,2019,2020,2021,2022],\"z\":[[1.4883333333333333,2.2041666666666666,1.3616666666666666,0.71,1.8500000000000003,1.5228333333333335],[1.5433333333333337,2.2625,1.3966666666666665,0.7424999999999998,1.963333333333333,1.5816666666666668],[1.5975,2.306666666666666,1.3966666666666665,0.7708333333333334,2.064166666666667,1.6271666666666667],[1.7025000000000003,2.355,1.3983333333333334,0.8016666666666667,2.1616666666666666,1.6838333333333333],[1.8866666666666665,2.439166666666667,1.47,0.85,2.4000000000000004,1.8091666666666666]],\"type\":\"heatmap\",\"xaxis\":\"x\",\"yaxis\":\"y\"},{\"colorscale\":[[0.0,\"rgb(247,251,255)\"],[0.125,\"rgb(222,235,247)\"],[0.25,\"rgb(198,219,239)\"],[0.375,\"rgb(158,202,225)\"],[0.5,\"rgb(107,174,214)\"],[0.625,\"rgb(66,146,198)\"],[0.75,\"rgb(33,113,181)\"],[0.875,\"rgb(8,81,156)\"],[1.0,\"rgb(8,48,107)\"]],\"hovertemplate\":\"Country: %{y}\\u003cbr\\u003eYear: %{x}\\u003cbr\\u003eValue: %{z:.2f}\\u003cextra\\u003e\\u003c\\u002fextra\\u003e\",\"showlegend\":false,\"showscale\":false,\"x\":[\"Australia\",\"Canada\",\"Japan\",\"South Africa\",\"Sweden\",\"Average\"],\"y\":[2018,2019,2020,2021,2022],\"z\":[[0.9773448615519316,1.4474116230710297,0.8941665754624054,0.4662361825544489,1.214840757360184,1.0],[0.9757639620653321,1.4304531085353003,0.8830347734457322,0.46944151738672274,1.2413066385669123,1.0],[0.9817678992113079,1.4175970500870632,0.8583427225238143,0.4737273379084298,1.2685649902693845,1.0],[1.0110858160942298,1.3985944768880532,0.8304464020587945,0.4760962090468178,1.2837770959121053,1.0],[1.0428374021188391,1.3482266236757257,0.8125287885766928,0.4698295716259788,1.3265776140027639,1.0]],\"type\":\"heatmap\",\"xaxis\":\"x2\",\"yaxis\":\"y2\"}],                        {\"template\":{\"data\":{\"histogram2dcontour\":[{\"type\":\"histogram2dcontour\",\"colorbar\":{\"outlinewidth\":0,\"ticks\":\"\"},\"colorscale\":[[0.0,\"#0d0887\"],[0.1111111111111111,\"#46039f\"],[0.2222222222222222,\"#7201a8\"],[0.3333333333333333,\"#9c179e\"],[0.4444444444444444,\"#bd3786\"],[0.5555555555555556,\"#d8576b\"],[0.6666666666666666,\"#ed7953\"],[0.7777777777777778,\"#fb9f3a\"],[0.8888888888888888,\"#fdca26\"],[1.0,\"#f0f921\"]]}],\"choropleth\":[{\"type\":\"choropleth\",\"colorbar\":{\"outlinewidth\":0,\"ticks\":\"\"}}],\"histogram2d\":[{\"type\":\"histogram2d\",\"colorbar\":{\"outlinewidth\":0,\"ticks\":\"\"},\"colorscale\":[[0.0,\"#0d0887\"],[0.1111111111111111,\"#46039f\"],[0.2222222222222222,\"#7201a8\"],[0.3333333333333333,\"#9c179e\"],[0.4444444444444444,\"#bd3786\"],[0.5555555555555556,\"#d8576b\"],[0.6666666666666666,\"#ed7953\"],[0.7777777777777778,\"#fb9f3a\"],[0.8888888888888888,\"#fdca26\"],[1.0,\"#f0f921\"]]}],\"heatmap\":[{\"type\":\"heatmap\",\"colorbar\":{\"outlinewidth\":0,\"ticks\":\"\"},\"colorscale\":[[0.0,\"#0d0887\"],[0.1111111111111111,\"#46039f\"],[0.2222222222222222,\"#7201a8\"],[0.3333333333333333,\"#9c179e\"],[0.4444444444444444,\"#bd3786\"],[0.5555555555555556,\"#d8576b\"],[0.6666666666666666,\"#ed7953\"],[0.7777777777777778,\"#fb9f3a\"],[0.8888888888888888,\"#fdca26\"],[1.0,\"#f0f921\"]]}],\"heatmapgl\":[{\"type\":\"heatmapgl\",\"colorbar\":{\"outlinewidth\":0,\"ticks\":\"\"},\"colorscale\":[[0.0,\"#0d0887\"],[0.1111111111111111,\"#46039f\"],[0.2222222222222222,\"#7201a8\"],[0.3333333333333333,\"#9c179e\"],[0.4444444444444444,\"#bd3786\"],[0.5555555555555556,\"#d8576b\"],[0.6666666666666666,\"#ed7953\"],[0.7777777777777778,\"#fb9f3a\"],[0.8888888888888888,\"#fdca26\"],[1.0,\"#f0f921\"]]}],\"contourcarpet\":[{\"type\":\"contourcarpet\",\"colorbar\":{\"outlinewidth\":0,\"ticks\":\"\"}}],\"contour\":[{\"type\":\"contour\",\"colorbar\":{\"outlinewidth\":0,\"ticks\":\"\"},\"colorscale\":[[0.0,\"#0d0887\"],[0.1111111111111111,\"#46039f\"],[0.2222222222222222,\"#7201a8\"],[0.3333333333333333,\"#9c179e\"],[0.4444444444444444,\"#bd3786\"],[0.5555555555555556,\"#d8576b\"],[0.6666666666666666,\"#ed7953\"],[0.7777777777777778,\"#fb9f3a\"],[0.8888888888888888,\"#fdca26\"],[1.0,\"#f0f921\"]]}],\"surface\":[{\"type\":\"surface\",\"colorbar\":{\"outlinewidth\":0,\"ticks\":\"\"},\"colorscale\":[[0.0,\"#0d0887\"],[0.1111111111111111,\"#46039f\"],[0.2222222222222222,\"#7201a8\"],[0.3333333333333333,\"#9c179e\"],[0.4444444444444444,\"#bd3786\"],[0.5555555555555556,\"#d8576b\"],[0.6666666666666666,\"#ed7953\"],[0.7777777777777778,\"#fb9f3a\"],[0.8888888888888888,\"#fdca26\"],[1.0,\"#f0f921\"]]}],\"mesh3d\":[{\"type\":\"mesh3d\",\"colorbar\":{\"outlinewidth\":0,\"ticks\":\"\"}}],\"scatter\":[{\"fillpattern\":{\"fillmode\":\"overlay\",\"size\":10,\"solidity\":0.2},\"type\":\"scatter\"}],\"parcoords\":[{\"type\":\"parcoords\",\"line\":{\"colorbar\":{\"outlinewidth\":0,\"ticks\":\"\"}}}],\"scatterpolargl\":[{\"type\":\"scatterpolargl\",\"marker\":{\"colorbar\":{\"outlinewidth\":0,\"ticks\":\"\"}}}],\"bar\":[{\"error_x\":{\"color\":\"#2a3f5f\"},\"error_y\":{\"color\":\"#2a3f5f\"},\"marker\":{\"line\":{\"color\":\"#E5ECF6\",\"width\":0.5},\"pattern\":{\"fillmode\":\"overlay\",\"size\":10,\"solidity\":0.2}},\"type\":\"bar\"}],\"scattergeo\":[{\"type\":\"scattergeo\",\"marker\":{\"colorbar\":{\"outlinewidth\":0,\"ticks\":\"\"}}}],\"scatterpolar\":[{\"type\":\"scatterpolar\",\"marker\":{\"colorbar\":{\"outlinewidth\":0,\"ticks\":\"\"}}}],\"histogram\":[{\"marker\":{\"pattern\":{\"fillmode\":\"overlay\",\"size\":10,\"solidity\":0.2}},\"type\":\"histogram\"}],\"scattergl\":[{\"type\":\"scattergl\",\"marker\":{\"colorbar\":{\"outlinewidth\":0,\"ticks\":\"\"}}}],\"scatter3d\":[{\"type\":\"scatter3d\",\"line\":{\"colorbar\":{\"outlinewidth\":0,\"ticks\":\"\"}},\"marker\":{\"colorbar\":{\"outlinewidth\":0,\"ticks\":\"\"}}}],\"scattermapbox\":[{\"type\":\"scattermapbox\",\"marker\":{\"colorbar\":{\"outlinewidth\":0,\"ticks\":\"\"}}}],\"scatterternary\":[{\"type\":\"scatterternary\",\"marker\":{\"colorbar\":{\"outlinewidth\":0,\"ticks\":\"\"}}}],\"scattercarpet\":[{\"type\":\"scattercarpet\",\"marker\":{\"colorbar\":{\"outlinewidth\":0,\"ticks\":\"\"}}}],\"carpet\":[{\"aaxis\":{\"endlinecolor\":\"#2a3f5f\",\"gridcolor\":\"white\",\"linecolor\":\"white\",\"minorgridcolor\":\"white\",\"startlinecolor\":\"#2a3f5f\"},\"baxis\":{\"endlinecolor\":\"#2a3f5f\",\"gridcolor\":\"white\",\"linecolor\":\"white\",\"minorgridcolor\":\"white\",\"startlinecolor\":\"#2a3f5f\"},\"type\":\"carpet\"}],\"table\":[{\"cells\":{\"fill\":{\"color\":\"#EBF0F8\"},\"line\":{\"color\":\"white\"}},\"header\":{\"fill\":{\"color\":\"#C8D4E3\"},\"line\":{\"color\":\"white\"}},\"type\":\"table\"}],\"barpolar\":[{\"marker\":{\"line\":{\"color\":\"#E5ECF6\",\"width\":0.5},\"pattern\":{\"fillmode\":\"overlay\",\"size\":10,\"solidity\":0.2}},\"type\":\"barpolar\"}],\"pie\":[{\"automargin\":true,\"type\":\"pie\"}]},\"layout\":{\"autotypenumbers\":\"strict\",\"colorway\":[\"#636efa\",\"#EF553B\",\"#00cc96\",\"#ab63fa\",\"#FFA15A\",\"#19d3f3\",\"#FF6692\",\"#B6E880\",\"#FF97FF\",\"#FECB52\"],\"font\":{\"color\":\"#2a3f5f\"},\"hovermode\":\"closest\",\"hoverlabel\":{\"align\":\"left\"},\"paper_bgcolor\":\"white\",\"plot_bgcolor\":\"#E5ECF6\",\"polar\":{\"bgcolor\":\"#E5ECF6\",\"angularaxis\":{\"gridcolor\":\"white\",\"linecolor\":\"white\",\"ticks\":\"\"},\"radialaxis\":{\"gridcolor\":\"white\",\"linecolor\":\"white\",\"ticks\":\"\"}},\"ternary\":{\"bgcolor\":\"#E5ECF6\",\"aaxis\":{\"gridcolor\":\"white\",\"linecolor\":\"white\",\"ticks\":\"\"},\"baxis\":{\"gridcolor\":\"white\",\"linecolor\":\"white\",\"ticks\":\"\"},\"caxis\":{\"gridcolor\":\"white\",\"linecolor\":\"white\",\"ticks\":\"\"}},\"coloraxis\":{\"colorbar\":{\"outlinewidth\":0,\"ticks\":\"\"}},\"colorscale\":{\"sequential\":[[0.0,\"#0d0887\"],[0.1111111111111111,\"#46039f\"],[0.2222222222222222,\"#7201a8\"],[0.3333333333333333,\"#9c179e\"],[0.4444444444444444,\"#bd3786\"],[0.5555555555555556,\"#d8576b\"],[0.6666666666666666,\"#ed7953\"],[0.7777777777777778,\"#fb9f3a\"],[0.8888888888888888,\"#fdca26\"],[1.0,\"#f0f921\"]],\"sequentialminus\":[[0.0,\"#0d0887\"],[0.1111111111111111,\"#46039f\"],[0.2222222222222222,\"#7201a8\"],[0.3333333333333333,\"#9c179e\"],[0.4444444444444444,\"#bd3786\"],[0.5555555555555556,\"#d8576b\"],[0.6666666666666666,\"#ed7953\"],[0.7777777777777778,\"#fb9f3a\"],[0.8888888888888888,\"#fdca26\"],[1.0,\"#f0f921\"]],\"diverging\":[[0,\"#8e0152\"],[0.1,\"#c51b7d\"],[0.2,\"#de77ae\"],[0.3,\"#f1b6da\"],[0.4,\"#fde0ef\"],[0.5,\"#f7f7f7\"],[0.6,\"#e6f5d0\"],[0.7,\"#b8e186\"],[0.8,\"#7fbc41\"],[0.9,\"#4d9221\"],[1,\"#276419\"]]},\"xaxis\":{\"gridcolor\":\"white\",\"linecolor\":\"white\",\"ticks\":\"\",\"title\":{\"standoff\":15},\"zerolinecolor\":\"white\",\"automargin\":true,\"zerolinewidth\":2},\"yaxis\":{\"gridcolor\":\"white\",\"linecolor\":\"white\",\"ticks\":\"\",\"title\":{\"standoff\":15},\"zerolinecolor\":\"white\",\"automargin\":true,\"zerolinewidth\":2},\"scene\":{\"xaxis\":{\"backgroundcolor\":\"#E5ECF6\",\"gridcolor\":\"white\",\"linecolor\":\"white\",\"showbackground\":true,\"ticks\":\"\",\"zerolinecolor\":\"white\",\"gridwidth\":2},\"yaxis\":{\"backgroundcolor\":\"#E5ECF6\",\"gridcolor\":\"white\",\"linecolor\":\"white\",\"showbackground\":true,\"ticks\":\"\",\"zerolinecolor\":\"white\",\"gridwidth\":2},\"zaxis\":{\"backgroundcolor\":\"#E5ECF6\",\"gridcolor\":\"white\",\"linecolor\":\"white\",\"showbackground\":true,\"ticks\":\"\",\"zerolinecolor\":\"white\",\"gridwidth\":2}},\"shapedefaults\":{\"line\":{\"color\":\"#2a3f5f\"}},\"annotationdefaults\":{\"arrowcolor\":\"#2a3f5f\",\"arrowhead\":0,\"arrowwidth\":1},\"geo\":{\"bgcolor\":\"white\",\"landcolor\":\"#E5ECF6\",\"subunitcolor\":\"white\",\"showland\":true,\"showlakes\":true,\"lakecolor\":\"white\"},\"title\":{\"x\":0.05},\"mapbox\":{\"style\":\"light\"}}},\"xaxis\":{\"anchor\":\"y\",\"domain\":[0.0,0.45],\"title\":{\"font\":{\"size\":14,\"family\":\"Arial\"}},\"side\":\"top\",\"tickmode\":\"array\",\"tickvals\":[0,1,2,3,4,5],\"ticktext\":[\"Australia\",\"Canada\",\"Japan\",\"South Africa\",\"Sweden\",\"Average\"],\"scaleanchor\":\"y\",\"scaleratio\":1},\"yaxis\":{\"anchor\":\"x\",\"domain\":[0.0,1.0],\"tickfont\":{\"family\":\"sans-serif\"},\"side\":\"left\",\"ticks\":\"\",\"ticksuffix\":\" \"},\"xaxis2\":{\"anchor\":\"y2\",\"domain\":[0.55,1.0],\"title\":{\"font\":{\"size\":14,\"family\":\"Arial\"}},\"side\":\"top\",\"tickmode\":\"array\",\"tickvals\":[0,1,2,3,4,5],\"ticktext\":[\"Australia\",\"Canada\",\"Japan\",\"South Africa\",\"Sweden\",\"Average\"],\"scaleanchor\":\"y\",\"scaleratio\":1},\"yaxis2\":{\"anchor\":\"x2\",\"domain\":[0.0,1.0],\"tickfont\":{\"family\":\"sans-serif\"},\"side\":\"left\",\"ticks\":\"\",\"ticksuffix\":\" \"},\"annotations\":[{\"font\":{\"size\":16},\"showarrow\":false,\"text\":\"Average Prices Heatmap\",\"x\":0.225,\"xanchor\":\"center\",\"xref\":\"paper\",\"y\":1.075,\"yanchor\":\"bottom\",\"yref\":\"paper\"},{\"font\":{\"size\":16},\"showarrow\":false,\"text\":\"Normalized Average Prices Heatmap\",\"x\":0.775,\"xanchor\":\"center\",\"xref\":\"paper\",\"y\":1.075,\"yanchor\":\"bottom\",\"yref\":\"paper\"},{\"font\":{\"color\":\"black\"},\"showarrow\":false,\"text\":\"$1.36\",\"x\":\"Japan\",\"xref\":\"x\",\"y\":2018,\"yref\":\"y\"},{\"font\":{\"color\":\"black\"},\"showarrow\":false,\"text\":\"$0.71\",\"x\":\"South Africa\",\"xref\":\"x\",\"y\":2018,\"yref\":\"y\"},{\"font\":{\"color\":\"black\"},\"showarrow\":false,\"text\":\"$1.85\",\"x\":\"Sweden\",\"xref\":\"x\",\"y\":2018,\"yref\":\"y\"},{\"font\":{\"color\":\"black\"},\"showarrow\":false,\"text\":\"$1.52\",\"x\":\"Average\",\"xref\":\"x\",\"y\":2018,\"yref\":\"y\"},{\"font\":{\"color\":\"black\"},\"showarrow\":false,\"text\":\"$1.54\",\"x\":\"Australia\",\"xref\":\"x\",\"y\":2019,\"yref\":\"y\"},{\"font\":{\"color\":\"black\"},\"showarrow\":false,\"text\":\"$2.26\",\"x\":\"Canada\",\"xref\":\"x\",\"y\":2019,\"yref\":\"y\"},{\"font\":{\"color\":\"black\"},\"showarrow\":false,\"text\":\"$1.40\",\"x\":\"Japan\",\"xref\":\"x\",\"y\":2019,\"yref\":\"y\"},{\"font\":{\"color\":\"black\"},\"showarrow\":false,\"text\":\"$0.74\",\"x\":\"South Africa\",\"xref\":\"x\",\"y\":2019,\"yref\":\"y\"},{\"font\":{\"color\":\"black\"},\"showarrow\":false,\"text\":\"$1.96\",\"x\":\"Sweden\",\"xref\":\"x\",\"y\":2019,\"yref\":\"y\"},{\"font\":{\"color\":\"black\"},\"showarrow\":false,\"text\":\"$1.58\",\"x\":\"Average\",\"xref\":\"x\",\"y\":2019,\"yref\":\"y\"},{\"font\":{\"color\":\"black\"},\"showarrow\":false,\"text\":\"$1.60\",\"x\":\"Australia\",\"xref\":\"x\",\"y\":2020,\"yref\":\"y\"},{\"font\":{\"color\":\"black\"},\"showarrow\":false,\"text\":\"$2.31\",\"x\":\"Canada\",\"xref\":\"x\",\"y\":2020,\"yref\":\"y\"},{\"font\":{\"color\":\"black\"},\"showarrow\":false,\"text\":\"$1.40\",\"x\":\"Japan\",\"xref\":\"x\",\"y\":2020,\"yref\":\"y\"},{\"font\":{\"color\":\"black\"},\"showarrow\":false,\"text\":\"$0.77\",\"x\":\"South Africa\",\"xref\":\"x\",\"y\":2020,\"yref\":\"y\"},{\"font\":{\"color\":\"black\"},\"showarrow\":false,\"text\":\"$2.06\",\"x\":\"Sweden\",\"xref\":\"x\",\"y\":2020,\"yref\":\"y\"},{\"font\":{\"color\":\"black\"},\"showarrow\":false,\"text\":\"$1.63\",\"x\":\"Average\",\"xref\":\"x\",\"y\":2020,\"yref\":\"y\"},{\"font\":{\"color\":\"black\"},\"showarrow\":false,\"text\":\"$1.70\",\"x\":\"Australia\",\"xref\":\"x\",\"y\":2021,\"yref\":\"y\"},{\"font\":{\"color\":\"black\"},\"showarrow\":false,\"text\":\"$2.35\",\"x\":\"Canada\",\"xref\":\"x\",\"y\":2021,\"yref\":\"y\"},{\"font\":{\"color\":\"black\"},\"showarrow\":false,\"text\":\"$1.40\",\"x\":\"Japan\",\"xref\":\"x\",\"y\":2021,\"yref\":\"y\"},{\"font\":{\"color\":\"black\"},\"showarrow\":false,\"text\":\"$0.80\",\"x\":\"South Africa\",\"xref\":\"x\",\"y\":2021,\"yref\":\"y\"},{\"font\":{\"color\":\"black\"},\"showarrow\":false,\"text\":\"$2.16\",\"x\":\"Sweden\",\"xref\":\"x\",\"y\":2021,\"yref\":\"y\"},{\"font\":{\"color\":\"black\"},\"showarrow\":false,\"text\":\"$1.68\",\"x\":\"Average\",\"xref\":\"x\",\"y\":2021,\"yref\":\"y\"},{\"font\":{\"color\":\"black\"},\"showarrow\":false,\"text\":\"$1.89\",\"x\":\"Australia\",\"xref\":\"x\",\"y\":2022,\"yref\":\"y\"},{\"font\":{\"color\":\"black\"},\"showarrow\":false,\"text\":\"$2.44\",\"x\":\"Canada\",\"xref\":\"x\",\"y\":2022,\"yref\":\"y\"},{\"font\":{\"color\":\"black\"},\"showarrow\":false,\"text\":\"$1.47\",\"x\":\"Japan\",\"xref\":\"x\",\"y\":2022,\"yref\":\"y\"},{\"font\":{\"color\":\"black\"},\"showarrow\":false,\"text\":\"$0.85\",\"x\":\"South Africa\",\"xref\":\"x\",\"y\":2022,\"yref\":\"y\"},{\"font\":{\"color\":\"black\"},\"showarrow\":false,\"text\":\"$2.40\",\"x\":\"Sweden\",\"xref\":\"x\",\"y\":2022,\"yref\":\"y\"},{\"font\":{\"color\":\"black\"},\"showarrow\":false,\"text\":\"$1.81\",\"x\":\"Average\",\"xref\":\"x\",\"y\":2022,\"yref\":\"y\"},{\"font\":{\"color\":\"black\"},\"showarrow\":false,\"text\":\"0.98\",\"x\":\"Australia\",\"xref\":\"x2\",\"y\":2018,\"yref\":\"y2\"},{\"font\":{\"color\":\"black\"},\"showarrow\":false,\"text\":\"1.45\",\"x\":\"Canada\",\"xref\":\"x2\",\"y\":2018,\"yref\":\"y2\"},{\"font\":{\"color\":\"black\"},\"showarrow\":false,\"text\":\"0.89\",\"x\":\"Japan\",\"xref\":\"x2\",\"y\":2018,\"yref\":\"y2\"},{\"font\":{\"color\":\"black\"},\"showarrow\":false,\"text\":\"0.47\",\"x\":\"South Africa\",\"xref\":\"x2\",\"y\":2018,\"yref\":\"y2\"},{\"font\":{\"color\":\"black\"},\"showarrow\":false,\"text\":\"1.21\",\"x\":\"Sweden\",\"xref\":\"x2\",\"y\":2018,\"yref\":\"y2\"},{\"font\":{\"color\":\"black\"},\"showarrow\":false,\"text\":\"1.00\",\"x\":\"Average\",\"xref\":\"x2\",\"y\":2018,\"yref\":\"y2\"},{\"font\":{\"color\":\"black\"},\"showarrow\":false,\"text\":\"0.98\",\"x\":\"Australia\",\"xref\":\"x2\",\"y\":2019,\"yref\":\"y2\"},{\"font\":{\"color\":\"black\"},\"showarrow\":false,\"text\":\"1.43\",\"x\":\"Canada\",\"xref\":\"x2\",\"y\":2019,\"yref\":\"y2\"},{\"font\":{\"color\":\"black\"},\"showarrow\":false,\"text\":\"0.88\",\"x\":\"Japan\",\"xref\":\"x2\",\"y\":2019,\"yref\":\"y2\"},{\"font\":{\"color\":\"black\"},\"showarrow\":false,\"text\":\"0.47\",\"x\":\"South Africa\",\"xref\":\"x2\",\"y\":2019,\"yref\":\"y2\"},{\"font\":{\"color\":\"black\"},\"showarrow\":false,\"text\":\"1.24\",\"x\":\"Sweden\",\"xref\":\"x2\",\"y\":2019,\"yref\":\"y2\"},{\"font\":{\"color\":\"black\"},\"showarrow\":false,\"text\":\"1.00\",\"x\":\"Average\",\"xref\":\"x2\",\"y\":2019,\"yref\":\"y2\"},{\"font\":{\"color\":\"black\"},\"showarrow\":false,\"text\":\"0.98\",\"x\":\"Australia\",\"xref\":\"x2\",\"y\":2020,\"yref\":\"y2\"},{\"font\":{\"color\":\"black\"},\"showarrow\":false,\"text\":\"1.42\",\"x\":\"Canada\",\"xref\":\"x2\",\"y\":2020,\"yref\":\"y2\"},{\"font\":{\"color\":\"black\"},\"showarrow\":false,\"text\":\"0.86\",\"x\":\"Japan\",\"xref\":\"x2\",\"y\":2020,\"yref\":\"y2\"},{\"font\":{\"color\":\"black\"},\"showarrow\":false,\"text\":\"0.47\",\"x\":\"South Africa\",\"xref\":\"x2\",\"y\":2020,\"yref\":\"y2\"},{\"font\":{\"color\":\"black\"},\"showarrow\":false,\"text\":\"1.27\",\"x\":\"Sweden\",\"xref\":\"x2\",\"y\":2020,\"yref\":\"y2\"},{\"font\":{\"color\":\"black\"},\"showarrow\":false,\"text\":\"1.00\",\"x\":\"Average\",\"xref\":\"x2\",\"y\":2020,\"yref\":\"y2\"},{\"font\":{\"color\":\"black\"},\"showarrow\":false,\"text\":\"1.01\",\"x\":\"Australia\",\"xref\":\"x2\",\"y\":2021,\"yref\":\"y2\"},{\"font\":{\"color\":\"black\"},\"showarrow\":false,\"text\":\"1.40\",\"x\":\"Canada\",\"xref\":\"x2\",\"y\":2021,\"yref\":\"y2\"},{\"font\":{\"color\":\"black\"},\"showarrow\":false,\"text\":\"0.83\",\"x\":\"Japan\",\"xref\":\"x2\",\"y\":2021,\"yref\":\"y2\"},{\"font\":{\"color\":\"black\"},\"showarrow\":false,\"text\":\"0.48\",\"x\":\"South Africa\",\"xref\":\"x2\",\"y\":2021,\"yref\":\"y2\"},{\"font\":{\"color\":\"black\"},\"showarrow\":false,\"text\":\"1.28\",\"x\":\"Sweden\",\"xref\":\"x2\",\"y\":2021,\"yref\":\"y2\"},{\"font\":{\"color\":\"black\"},\"showarrow\":false,\"text\":\"1.00\",\"x\":\"Average\",\"xref\":\"x2\",\"y\":2021,\"yref\":\"y2\"},{\"font\":{\"color\":\"black\"},\"showarrow\":false,\"text\":\"1.04\",\"x\":\"Australia\",\"xref\":\"x2\",\"y\":2022,\"yref\":\"y2\"},{\"font\":{\"color\":\"black\"},\"showarrow\":false,\"text\":\"1.35\",\"x\":\"Canada\",\"xref\":\"x2\",\"y\":2022,\"yref\":\"y2\"},{\"font\":{\"color\":\"black\"},\"showarrow\":false,\"text\":\"0.81\",\"x\":\"Japan\",\"xref\":\"x2\",\"y\":2022,\"yref\":\"y2\"},{\"font\":{\"color\":\"black\"},\"showarrow\":false,\"text\":\"0.47\",\"x\":\"South Africa\",\"xref\":\"x2\",\"y\":2022,\"yref\":\"y2\"},{\"font\":{\"color\":\"black\"},\"showarrow\":false,\"text\":\"1.33\",\"x\":\"Sweden\",\"xref\":\"x2\",\"y\":2022,\"yref\":\"y2\"},{\"font\":{\"color\":\"black\"},\"showarrow\":false,\"text\":\"1.00\",\"x\":\"Average\",\"xref\":\"x2\",\"y\":2022,\"yref\":\"y2\"}],\"title\":{\"text\":\"Heatmaps of Average Prices for Bread by Country and Year\"},\"margin\":{\"l\":100,\"r\":100,\"t\":100,\"b\":100},\"width\":1100,\"height\":500},                        {\"responsive\": true}                    ).then(function(){\n",
       "                            \n",
       "var gd = document.getElementById('51cc9ca0-31b4-4a3b-9f59-46941456b7bc');\n",
       "var x = new MutationObserver(function (mutations, observer) {{\n",
       "        var display = window.getComputedStyle(gd).display;\n",
       "        if (!display || display === 'none') {{\n",
       "            console.log([gd, 'removed!']);\n",
       "            Plotly.purge(gd);\n",
       "            observer.disconnect();\n",
       "        }}\n",
       "}});\n",
       "\n",
       "// Listen for the removal of the full notebook cells\n",
       "var notebookContainer = gd.closest('#notebook-container');\n",
       "if (notebookContainer) {{\n",
       "    x.observe(notebookContainer, {childList: true});\n",
       "}}\n",
       "\n",
       "// Listen for the clearing of the current output cell\n",
       "var outputEl = gd.closest('.output');\n",
       "if (outputEl) {{\n",
       "    x.observe(outputEl, {childList: true});\n",
       "}}\n",
       "\n",
       "                        })                };                });            </script>        </div>"
      ]
     },
     "metadata": {},
     "output_type": "display_data"
    }
   ],
   "source": [
    "graphing.inter_country_price_heatmaps(inter_country_price_stats, inter_country_price_stats_norm, \"Bread\", \"AVERAGE_PRICE\")"
   ]
  },
  {
   "cell_type": "code",
   "execution_count": 16,
   "id": "5a10569f-ef3d-4dba-8cc4-dc77f976b53f",
   "metadata": {},
   "outputs": [],
   "source": [
    "inter_country_price_stats = descriptive_statistics.inter_country_price_statistic_table(df, \"Milk\", \"PERC_PRICE_CHANGE_START_YEAR_TO_END_YEAR\")\n",
    "\n",
    "# Normalize by the \"Average\" column\n",
    "inter_country_price_stats_norm = inter_country_price_stats.div(inter_country_price_stats[\"Average\"], axis=0)"
   ]
  },
  {
   "cell_type": "code",
   "execution_count": 17,
   "id": "ffc30e32-8e39-4d32-9031-f59f170af65f",
   "metadata": {},
   "outputs": [
    {
     "data": {
      "application/vnd.plotly.v1+json": {
       "config": {
        "plotlyServerURL": "https://plot.ly"
       },
       "data": [
        {
         "colorscale": [
          [
           0,
           "#f2f2f2"
          ],
          [
           0.003937007874015748,
           "#f1f2f1"
          ],
          [
           0.007874015748031496,
           "#f1f1f1"
          ],
          [
           0.011811023622047244,
           "#f0f1f0"
          ],
          [
           0.015748031496062992,
           "#eff1f0"
          ],
          [
           0.01968503937007874,
           "#eef0ef"
          ],
          [
           0.023622047244094488,
           "#eef0ef"
          ],
          [
           0.027559055118110236,
           "#edf0ee"
          ],
          [
           0.031496062992125984,
           "#ecefee"
          ],
          [
           0.03543307086614173,
           "#ecefed"
          ],
          [
           0.03937007874015748,
           "#ebefed"
          ],
          [
           0.04330708661417323,
           "#eaeeec"
          ],
          [
           0.047244094488188976,
           "#e9eeec"
          ],
          [
           0.051181102362204724,
           "#e9eeeb"
          ],
          [
           0.05511811023622047,
           "#e8edeb"
          ],
          [
           0.05905511811023622,
           "#e7edea"
          ],
          [
           0.06299212598425197,
           "#e7edea"
          ],
          [
           0.06692913385826772,
           "#e6ece9"
          ],
          [
           0.07086614173228346,
           "#e5ece9"
          ],
          [
           0.07480314960629922,
           "#e4ebe8"
          ],
          [
           0.07874015748031496,
           "#e4ebe7"
          ],
          [
           0.08267716535433071,
           "#e3ebe7"
          ],
          [
           0.08661417322834646,
           "#e2eae6"
          ],
          [
           0.09055118110236221,
           "#e2eae6"
          ],
          [
           0.09448818897637795,
           "#e1eae5"
          ],
          [
           0.0984251968503937,
           "#e0e9e5"
          ],
          [
           0.10236220472440945,
           "#dfe9e4"
          ],
          [
           0.1062992125984252,
           "#dfe9e4"
          ],
          [
           0.11023622047244094,
           "#dee8e3"
          ],
          [
           0.1141732283464567,
           "#dde8e3"
          ],
          [
           0.11811023622047244,
           "#dde8e2"
          ],
          [
           0.1220472440944882,
           "#dce7e2"
          ],
          [
           0.12598425196850394,
           "#dbe7e1"
          ],
          [
           0.12992125984251968,
           "#dae7e1"
          ],
          [
           0.13385826771653545,
           "#dae6e0"
          ],
          [
           0.1377952755905512,
           "#d9e6e0"
          ],
          [
           0.14173228346456693,
           "#d8e6df"
          ],
          [
           0.14566929133858267,
           "#d8e5de"
          ],
          [
           0.14960629921259844,
           "#d7e5de"
          ],
          [
           0.15354330708661418,
           "#d6e5dd"
          ],
          [
           0.15748031496062992,
           "#d5e4dd"
          ],
          [
           0.16141732283464566,
           "#d5e4dc"
          ],
          [
           0.16535433070866143,
           "#d4e4dc"
          ],
          [
           0.16929133858267717,
           "#d3e3db"
          ],
          [
           0.1732283464566929,
           "#d3e3db"
          ],
          [
           0.17716535433070865,
           "#d2e3da"
          ],
          [
           0.18110236220472442,
           "#d1e2da"
          ],
          [
           0.18503937007874016,
           "#d1e2d9"
          ],
          [
           0.1889763779527559,
           "#d0e2d9"
          ],
          [
           0.19291338582677164,
           "#cfe1d8"
          ],
          [
           0.1968503937007874,
           "#cee1d8"
          ],
          [
           0.20078740157480315,
           "#cee1d7"
          ],
          [
           0.2047244094488189,
           "#cde0d7"
          ],
          [
           0.20866141732283464,
           "#cce0d6"
          ],
          [
           0.2125984251968504,
           "#cce0d6"
          ],
          [
           0.21653543307086615,
           "#cbdfd5"
          ],
          [
           0.2204724409448819,
           "#cadfd4"
          ],
          [
           0.22440944881889763,
           "#c9ded4"
          ],
          [
           0.2283464566929134,
           "#c9ded3"
          ],
          [
           0.23228346456692914,
           "#c8ded3"
          ],
          [
           0.23622047244094488,
           "#c7ddd2"
          ],
          [
           0.24015748031496062,
           "#c7ddd2"
          ],
          [
           0.2440944881889764,
           "#c6ddd1"
          ],
          [
           0.24803149606299213,
           "#c5dcd1"
          ],
          [
           0.25196850393700787,
           "#c4dcd0"
          ],
          [
           0.2559055118110236,
           "#c4dcd0"
          ],
          [
           0.25984251968503935,
           "#c3dbcf"
          ],
          [
           0.2637795275590551,
           "#c2dbcf"
          ],
          [
           0.2677165354330709,
           "#c2dbce"
          ],
          [
           0.27165354330708663,
           "#c1dace"
          ],
          [
           0.2755905511811024,
           "#c0dacd"
          ],
          [
           0.2795275590551181,
           "#bfdacd"
          ],
          [
           0.28346456692913385,
           "#bfd9cc"
          ],
          [
           0.2874015748031496,
           "#bed9cb"
          ],
          [
           0.29133858267716534,
           "#bdd9cb"
          ],
          [
           0.2952755905511811,
           "#bdd8ca"
          ],
          [
           0.2992125984251969,
           "#bcd8ca"
          ],
          [
           0.3031496062992126,
           "#bbd8c9"
          ],
          [
           0.30708661417322836,
           "#bad7c9"
          ],
          [
           0.3110236220472441,
           "#bad7c8"
          ],
          [
           0.31496062992125984,
           "#b9d7c8"
          ],
          [
           0.3188976377952756,
           "#b8d6c7"
          ],
          [
           0.3228346456692913,
           "#b8d6c7"
          ],
          [
           0.32677165354330706,
           "#b7d6c6"
          ],
          [
           0.33070866141732286,
           "#b6d5c6"
          ],
          [
           0.3346456692913386,
           "#b5d5c5"
          ],
          [
           0.33858267716535434,
           "#b5d5c5"
          ],
          [
           0.3425196850393701,
           "#b4d4c4"
          ],
          [
           0.3464566929133858,
           "#b3d4c4"
          ],
          [
           0.35039370078740156,
           "#b3d4c3"
          ],
          [
           0.3543307086614173,
           "#b2d3c3"
          ],
          [
           0.35826771653543305,
           "#b1d3c2"
          ],
          [
           0.36220472440944884,
           "#b0d2c1"
          ],
          [
           0.3661417322834646,
           "#b0d2c1"
          ],
          [
           0.3700787401574803,
           "#afd2c0"
          ],
          [
           0.37401574803149606,
           "#aed1c0"
          ],
          [
           0.3779527559055118,
           "#aed1bf"
          ],
          [
           0.38188976377952755,
           "#add1bf"
          ],
          [
           0.3858267716535433,
           "#acd0be"
          ],
          [
           0.38976377952755903,
           "#abd0be"
          ],
          [
           0.3937007874015748,
           "#abd0bd"
          ],
          [
           0.39763779527559057,
           "#aacfbd"
          ],
          [
           0.4015748031496063,
           "#a9cfbc"
          ],
          [
           0.40551181102362205,
           "#a9cfbc"
          ],
          [
           0.4094488188976378,
           "#a8cebb"
          ],
          [
           0.41338582677165353,
           "#a7cebb"
          ],
          [
           0.41732283464566927,
           "#a6ceba"
          ],
          [
           0.421259842519685,
           "#a6cdba"
          ],
          [
           0.4251968503937008,
           "#a5cdb9"
          ],
          [
           0.42913385826771655,
           "#a4cdb8"
          ],
          [
           0.4330708661417323,
           "#a4ccb8"
          ],
          [
           0.43700787401574803,
           "#a3ccb7"
          ],
          [
           0.4409448818897638,
           "#a2ccb7"
          ],
          [
           0.4448818897637795,
           "#a1cbb6"
          ],
          [
           0.44881889763779526,
           "#a1cbb6"
          ],
          [
           0.452755905511811,
           "#a0cbb5"
          ],
          [
           0.4566929133858268,
           "#9fcab5"
          ],
          [
           0.46062992125984253,
           "#9fcab4"
          ],
          [
           0.4645669291338583,
           "#9ecab4"
          ],
          [
           0.468503937007874,
           "#9dc9b3"
          ],
          [
           0.47244094488188976,
           "#9cc9b3"
          ],
          [
           0.4763779527559055,
           "#9cc9b2"
          ],
          [
           0.48031496062992124,
           "#9bc8b2"
          ],
          [
           0.484251968503937,
           "#9ac8b1"
          ],
          [
           0.4881889763779528,
           "#9ac8b1"
          ],
          [
           0.4921259842519685,
           "#99c7b0"
          ],
          [
           0.49606299212598426,
           "#98c7b0"
          ],
          [
           0.5,
           "#98c6af"
          ],
          [
           0.5039370078740157,
           "#97c6ae"
          ],
          [
           0.5078740157480315,
           "#96c6ae"
          ],
          [
           0.5118110236220472,
           "#95c5ad"
          ],
          [
           0.515748031496063,
           "#95c5ad"
          ],
          [
           0.5196850393700787,
           "#94c5ac"
          ],
          [
           0.5236220472440944,
           "#93c4ac"
          ],
          [
           0.5275590551181102,
           "#93c4ab"
          ],
          [
           0.531496062992126,
           "#92c4ab"
          ],
          [
           0.5354330708661418,
           "#91c3aa"
          ],
          [
           0.5393700787401575,
           "#90c3aa"
          ],
          [
           0.5433070866141733,
           "#90c3a9"
          ],
          [
           0.547244094488189,
           "#8fc2a9"
          ],
          [
           0.5511811023622047,
           "#8ec2a8"
          ],
          [
           0.5551181102362205,
           "#8ec2a8"
          ],
          [
           0.5590551181102362,
           "#8dc1a7"
          ],
          [
           0.562992125984252,
           "#8cc1a7"
          ],
          [
           0.5669291338582677,
           "#8bc1a6"
          ],
          [
           0.5708661417322834,
           "#8bc0a6"
          ],
          [
           0.5748031496062992,
           "#8ac0a5"
          ],
          [
           0.5787401574803149,
           "#89c0a4"
          ],
          [
           0.5826771653543307,
           "#89bfa4"
          ],
          [
           0.5866141732283464,
           "#88bfa3"
          ],
          [
           0.5905511811023622,
           "#87bfa3"
          ],
          [
           0.594488188976378,
           "#86bea2"
          ],
          [
           0.5984251968503937,
           "#86bea2"
          ],
          [
           0.6023622047244095,
           "#85bea1"
          ],
          [
           0.6062992125984252,
           "#84bda1"
          ],
          [
           0.610236220472441,
           "#84bda0"
          ],
          [
           0.6141732283464567,
           "#83bda0"
          ],
          [
           0.6181102362204725,
           "#82bc9f"
          ],
          [
           0.6220472440944882,
           "#81bc9f"
          ],
          [
           0.6259842519685039,
           "#81bc9e"
          ],
          [
           0.6299212598425197,
           "#80bb9e"
          ],
          [
           0.6338582677165354,
           "#7fbb9d"
          ],
          [
           0.6377952755905512,
           "#7fbb9d"
          ],
          [
           0.6417322834645669,
           "#7eba9c"
          ],
          [
           0.6456692913385826,
           "#7dba9b"
          ],
          [
           0.6496062992125984,
           "#7cb99b"
          ],
          [
           0.6535433070866141,
           "#7cb99a"
          ],
          [
           0.65748031496063,
           "#7bb99a"
          ],
          [
           0.6614173228346457,
           "#7ab899"
          ],
          [
           0.6653543307086615,
           "#7ab899"
          ],
          [
           0.6692913385826772,
           "#79b898"
          ],
          [
           0.6732283464566929,
           "#78b798"
          ],
          [
           0.6771653543307087,
           "#77b797"
          ],
          [
           0.6811023622047244,
           "#77b797"
          ],
          [
           0.6850393700787402,
           "#76b696"
          ],
          [
           0.6889763779527559,
           "#75b696"
          ],
          [
           0.6929133858267716,
           "#75b695"
          ],
          [
           0.6968503937007874,
           "#74b595"
          ],
          [
           0.7007874015748031,
           "#73b594"
          ],
          [
           0.7047244094488189,
           "#72b594"
          ],
          [
           0.7086614173228346,
           "#72b493"
          ],
          [
           0.7125984251968503,
           "#71b493"
          ],
          [
           0.7165354330708661,
           "#70b492"
          ],
          [
           0.7204724409448819,
           "#70b391"
          ],
          [
           0.7244094488188977,
           "#6fb391"
          ],
          [
           0.7283464566929134,
           "#6eb390"
          ],
          [
           0.7322834645669292,
           "#6db290"
          ],
          [
           0.7362204724409449,
           "#6db28f"
          ],
          [
           0.7401574803149606,
           "#6cb28f"
          ],
          [
           0.7440944881889764,
           "#6bb18e"
          ],
          [
           0.7480314960629921,
           "#6bb18e"
          ],
          [
           0.7519685039370079,
           "#6ab18d"
          ],
          [
           0.7559055118110236,
           "#69b08d"
          ],
          [
           0.7598425196850394,
           "#68b08c"
          ],
          [
           0.7637795275590551,
           "#68b08c"
          ],
          [
           0.7677165354330708,
           "#67af8b"
          ],
          [
           0.7716535433070866,
           "#66af8b"
          ],
          [
           0.7755905511811023,
           "#66af8a"
          ],
          [
           0.7795275590551181,
           "#65ae8a"
          ],
          [
           0.7834645669291339,
           "#64ae89"
          ],
          [
           0.7874015748031497,
           "#63ad88"
          ],
          [
           0.7913385826771654,
           "#63ad88"
          ],
          [
           0.7952755905511811,
           "#62ad87"
          ],
          [
           0.7992125984251969,
           "#61ac87"
          ],
          [
           0.8031496062992126,
           "#61ac86"
          ],
          [
           0.8070866141732284,
           "#60ac86"
          ],
          [
           0.8110236220472441,
           "#5fab85"
          ],
          [
           0.8149606299212598,
           "#5eab85"
          ],
          [
           0.8188976377952756,
           "#5eab84"
          ],
          [
           0.8228346456692913,
           "#5daa84"
          ],
          [
           0.8267716535433071,
           "#5caa83"
          ],
          [
           0.8307086614173228,
           "#5caa83"
          ],
          [
           0.8346456692913385,
           "#5ba982"
          ],
          [
           0.8385826771653543,
           "#5aa982"
          ],
          [
           0.84251968503937,
           "#5aa981"
          ],
          [
           0.8464566929133859,
           "#59a881"
          ],
          [
           0.8503937007874016,
           "#58a880"
          ],
          [
           0.8543307086614174,
           "#57a880"
          ],
          [
           0.8582677165354331,
           "#57a77f"
          ],
          [
           0.8622047244094488,
           "#56a77e"
          ],
          [
           0.8661417322834646,
           "#55a77e"
          ],
          [
           0.8700787401574803,
           "#55a67d"
          ],
          [
           0.8740157480314961,
           "#54a67d"
          ],
          [
           0.8779527559055118,
           "#53a67c"
          ],
          [
           0.8818897637795275,
           "#52a57c"
          ],
          [
           0.8858267716535433,
           "#52a57b"
          ],
          [
           0.889763779527559,
           "#51a57b"
          ],
          [
           0.8937007874015748,
           "#50a47a"
          ],
          [
           0.8976377952755905,
           "#50a47a"
          ],
          [
           0.9015748031496063,
           "#4fa479"
          ],
          [
           0.905511811023622,
           "#4ea379"
          ],
          [
           0.9094488188976378,
           "#4da378"
          ],
          [
           0.9133858267716536,
           "#4da378"
          ],
          [
           0.9173228346456693,
           "#4ca277"
          ],
          [
           0.9212598425196851,
           "#4ba277"
          ],
          [
           0.9251968503937008,
           "#4ba276"
          ],
          [
           0.9291338582677166,
           "#4aa175"
          ],
          [
           0.9330708661417323,
           "#49a175"
          ],
          [
           0.937007874015748,
           "#48a074"
          ],
          [
           0.9409448818897638,
           "#48a074"
          ],
          [
           0.9448818897637795,
           "#47a073"
          ],
          [
           0.9488188976377953,
           "#469f73"
          ],
          [
           0.952755905511811,
           "#469f72"
          ],
          [
           0.9566929133858267,
           "#459f72"
          ],
          [
           0.9606299212598425,
           "#449e71"
          ],
          [
           0.9645669291338582,
           "#439e71"
          ],
          [
           0.968503937007874,
           "#439e70"
          ],
          [
           0.9724409448818898,
           "#429d70"
          ],
          [
           0.9763779527559056,
           "#419d6f"
          ],
          [
           0.9803149606299213,
           "#419d6f"
          ],
          [
           0.984251968503937,
           "#409c6e"
          ],
          [
           0.9881889763779528,
           "#3f9c6e"
          ],
          [
           0.9921259842519685,
           "#3e9c6d"
          ],
          [
           0.9960629921259843,
           "#3e9b6d"
          ],
          [
           1,
           "#3d9b6c"
          ]
         ],
         "hovertemplate": "Country: %{y}<br>Year: %{x}<br>Value: $%{z:.2f}<extra></extra>",
         "showlegend": false,
         "showscale": false,
         "type": "heatmap",
         "x": [
          "Australia",
          "Canada",
          "Japan",
          "South Africa",
          "Sweden",
          "Average"
         ],
         "xaxis": "x",
         "y": [
          2018,
          2019,
          2020,
          2021,
          2022
         ],
         "yaxis": "y",
         "z": [
          [
           8.536585365853666,
           2.7173913043478164,
           0.7462686567164185,
           2.5641025641025665,
           5.000000000000004,
           1.176
          ],
          [
           7.865168539325837,
           2.6455026455026482,
           2.2222222222222077,
           2.4999999999999885,
           7.547169811320741,
           1.2225
          ],
          [
           4.1666666666666705,
           0.5154639175257737,
           0,
           4.878048780487809,
           1.7391304347826104,
           1.2615
          ],
          [
           14.999999999999991,
           3.589743589743593,
           0.724637681159421,
           3.4883720930232593,
           8.547008547008556,
           1.3098333333333334
          ],
          [
           1.7094017094017109,
           3.44827586206898,
           2.158273381294966,
           5.555555555555548,
           8.593749999999991,
           1.3798333333333332
          ]
         ]
        },
        {
         "colorscale": [
          [
           0,
           "rgb(247,251,255)"
          ],
          [
           0.125,
           "rgb(222,235,247)"
          ],
          [
           0.25,
           "rgb(198,219,239)"
          ],
          [
           0.375,
           "rgb(158,202,225)"
          ],
          [
           0.5,
           "rgb(107,174,214)"
          ],
          [
           0.625,
           "rgb(66,146,198)"
          ],
          [
           0.75,
           "rgb(33,113,181)"
          ],
          [
           0.875,
           "rgb(8,81,156)"
          ],
          [
           1,
           "rgb(8,48,107)"
          ]
         ],
         "hovertemplate": "Country: %{y}<br>Year: %{x}<br>Value: %{z:.2f}<extra></extra>",
         "showlegend": false,
         "showscale": false,
         "type": "heatmap",
         "x": [
          "Australia",
          "Canada",
          "Japan",
          "South Africa",
          "Sweden",
          "Average"
         ],
         "xaxis": "x2",
         "y": [
          2018,
          2019,
          2020,
          2021,
          2022
         ],
         "yaxis": "y2",
         "z": [
          [
           7.259001161440192,
           2.310706891452225,
           0.6345821910853899,
           2.1803593232164684,
           4.251700680272113,
           1
          ],
          [
           6.4336756967900515,
           2.1640103439694465,
           1.8177686889343214,
           2.0449897750511155,
           6.1735540378901765,
           1
          ],
          [
           3.3029462280354105,
           0.4086119044992261,
           0,
           3.866863876724383,
           1.3786210343104324,
           1
          ],
          [
           11.451838656317591,
           2.740610960486265,
           0.5532289205950535,
           2.663218292166886,
           6.525264191633965,
           1
          ],
          [
           1.2388465100145267,
           2.4990524426155187,
           1.564155125953593,
           4.026251157547203,
           6.228107259330831,
           1
          ]
         ]
        }
       ],
       "layout": {
        "annotations": [
         {
          "font": {
           "size": 16
          },
          "showarrow": false,
          "text": "Percentage Price Change Heatmap",
          "x": 0.225,
          "xanchor": "center",
          "xref": "paper",
          "y": 1.075,
          "yanchor": "bottom",
          "yref": "paper"
         },
         {
          "font": {
           "size": 16
          },
          "showarrow": false,
          "text": "Normalized Percentage Price Change Heatmap",
          "x": 0.775,
          "xanchor": "center",
          "xref": "paper",
          "y": 1.075,
          "yanchor": "bottom",
          "yref": "paper"
         },
         {
          "font": {
           "color": "black"
          },
          "showarrow": false,
          "text": "0.75%",
          "x": "Japan",
          "xref": "x",
          "y": 2018,
          "yref": "y"
         },
         {
          "font": {
           "color": "black"
          },
          "showarrow": false,
          "text": "2.56%",
          "x": "South Africa",
          "xref": "x",
          "y": 2018,
          "yref": "y"
         },
         {
          "font": {
           "color": "black"
          },
          "showarrow": false,
          "text": "5.00%",
          "x": "Sweden",
          "xref": "x",
          "y": 2018,
          "yref": "y"
         },
         {
          "font": {
           "color": "black"
          },
          "showarrow": false,
          "text": "1.18%",
          "x": "Average",
          "xref": "x",
          "y": 2018,
          "yref": "y"
         },
         {
          "font": {
           "color": "black"
          },
          "showarrow": false,
          "text": "7.87%",
          "x": "Australia",
          "xref": "x",
          "y": 2019,
          "yref": "y"
         },
         {
          "font": {
           "color": "black"
          },
          "showarrow": false,
          "text": "2.65%",
          "x": "Canada",
          "xref": "x",
          "y": 2019,
          "yref": "y"
         },
         {
          "font": {
           "color": "black"
          },
          "showarrow": false,
          "text": "2.22%",
          "x": "Japan",
          "xref": "x",
          "y": 2019,
          "yref": "y"
         },
         {
          "font": {
           "color": "black"
          },
          "showarrow": false,
          "text": "2.50%",
          "x": "South Africa",
          "xref": "x",
          "y": 2019,
          "yref": "y"
         },
         {
          "font": {
           "color": "black"
          },
          "showarrow": false,
          "text": "7.55%",
          "x": "Sweden",
          "xref": "x",
          "y": 2019,
          "yref": "y"
         },
         {
          "font": {
           "color": "black"
          },
          "showarrow": false,
          "text": "1.22%",
          "x": "Average",
          "xref": "x",
          "y": 2019,
          "yref": "y"
         },
         {
          "font": {
           "color": "black"
          },
          "showarrow": false,
          "text": "4.17%",
          "x": "Australia",
          "xref": "x",
          "y": 2020,
          "yref": "y"
         },
         {
          "font": {
           "color": "black"
          },
          "showarrow": false,
          "text": "0.52%",
          "x": "Canada",
          "xref": "x",
          "y": 2020,
          "yref": "y"
         },
         {
          "font": {
           "color": "black"
          },
          "showarrow": false,
          "text": "0.00%",
          "x": "Japan",
          "xref": "x",
          "y": 2020,
          "yref": "y"
         },
         {
          "font": {
           "color": "black"
          },
          "showarrow": false,
          "text": "4.88%",
          "x": "South Africa",
          "xref": "x",
          "y": 2020,
          "yref": "y"
         },
         {
          "font": {
           "color": "black"
          },
          "showarrow": false,
          "text": "1.74%",
          "x": "Sweden",
          "xref": "x",
          "y": 2020,
          "yref": "y"
         },
         {
          "font": {
           "color": "black"
          },
          "showarrow": false,
          "text": "1.26%",
          "x": "Average",
          "xref": "x",
          "y": 2020,
          "yref": "y"
         },
         {
          "font": {
           "color": "black"
          },
          "showarrow": false,
          "text": "15.00%",
          "x": "Australia",
          "xref": "x",
          "y": 2021,
          "yref": "y"
         },
         {
          "font": {
           "color": "black"
          },
          "showarrow": false,
          "text": "3.59%",
          "x": "Canada",
          "xref": "x",
          "y": 2021,
          "yref": "y"
         },
         {
          "font": {
           "color": "black"
          },
          "showarrow": false,
          "text": "0.72%",
          "x": "Japan",
          "xref": "x",
          "y": 2021,
          "yref": "y"
         },
         {
          "font": {
           "color": "black"
          },
          "showarrow": false,
          "text": "3.49%",
          "x": "South Africa",
          "xref": "x",
          "y": 2021,
          "yref": "y"
         },
         {
          "font": {
           "color": "black"
          },
          "showarrow": false,
          "text": "8.55%",
          "x": "Sweden",
          "xref": "x",
          "y": 2021,
          "yref": "y"
         },
         {
          "font": {
           "color": "black"
          },
          "showarrow": false,
          "text": "1.31%",
          "x": "Average",
          "xref": "x",
          "y": 2021,
          "yref": "y"
         },
         {
          "font": {
           "color": "black"
          },
          "showarrow": false,
          "text": "1.71%",
          "x": "Australia",
          "xref": "x",
          "y": 2022,
          "yref": "y"
         },
         {
          "font": {
           "color": "black"
          },
          "showarrow": false,
          "text": "3.45%",
          "x": "Canada",
          "xref": "x",
          "y": 2022,
          "yref": "y"
         },
         {
          "font": {
           "color": "black"
          },
          "showarrow": false,
          "text": "2.16%",
          "x": "Japan",
          "xref": "x",
          "y": 2022,
          "yref": "y"
         },
         {
          "font": {
           "color": "black"
          },
          "showarrow": false,
          "text": "5.56%",
          "x": "South Africa",
          "xref": "x",
          "y": 2022,
          "yref": "y"
         },
         {
          "font": {
           "color": "black"
          },
          "showarrow": false,
          "text": "8.59%",
          "x": "Sweden",
          "xref": "x",
          "y": 2022,
          "yref": "y"
         },
         {
          "font": {
           "color": "black"
          },
          "showarrow": false,
          "text": "1.38%",
          "x": "Average",
          "xref": "x",
          "y": 2022,
          "yref": "y"
         },
         {
          "font": {
           "color": "black"
          },
          "showarrow": false,
          "text": "7.26",
          "x": "Australia",
          "xref": "x2",
          "y": 2018,
          "yref": "y2"
         },
         {
          "font": {
           "color": "black"
          },
          "showarrow": false,
          "text": "2.31",
          "x": "Canada",
          "xref": "x2",
          "y": 2018,
          "yref": "y2"
         },
         {
          "font": {
           "color": "black"
          },
          "showarrow": false,
          "text": "0.63",
          "x": "Japan",
          "xref": "x2",
          "y": 2018,
          "yref": "y2"
         },
         {
          "font": {
           "color": "black"
          },
          "showarrow": false,
          "text": "2.18",
          "x": "South Africa",
          "xref": "x2",
          "y": 2018,
          "yref": "y2"
         },
         {
          "font": {
           "color": "black"
          },
          "showarrow": false,
          "text": "4.25",
          "x": "Sweden",
          "xref": "x2",
          "y": 2018,
          "yref": "y2"
         },
         {
          "font": {
           "color": "black"
          },
          "showarrow": false,
          "text": "1.00",
          "x": "Average",
          "xref": "x2",
          "y": 2018,
          "yref": "y2"
         },
         {
          "font": {
           "color": "black"
          },
          "showarrow": false,
          "text": "6.43",
          "x": "Australia",
          "xref": "x2",
          "y": 2019,
          "yref": "y2"
         },
         {
          "font": {
           "color": "black"
          },
          "showarrow": false,
          "text": "2.16",
          "x": "Canada",
          "xref": "x2",
          "y": 2019,
          "yref": "y2"
         },
         {
          "font": {
           "color": "black"
          },
          "showarrow": false,
          "text": "1.82",
          "x": "Japan",
          "xref": "x2",
          "y": 2019,
          "yref": "y2"
         },
         {
          "font": {
           "color": "black"
          },
          "showarrow": false,
          "text": "2.04",
          "x": "South Africa",
          "xref": "x2",
          "y": 2019,
          "yref": "y2"
         },
         {
          "font": {
           "color": "black"
          },
          "showarrow": false,
          "text": "6.17",
          "x": "Sweden",
          "xref": "x2",
          "y": 2019,
          "yref": "y2"
         },
         {
          "font": {
           "color": "black"
          },
          "showarrow": false,
          "text": "1.00",
          "x": "Average",
          "xref": "x2",
          "y": 2019,
          "yref": "y2"
         },
         {
          "font": {
           "color": "black"
          },
          "showarrow": false,
          "text": "3.30",
          "x": "Australia",
          "xref": "x2",
          "y": 2020,
          "yref": "y2"
         },
         {
          "font": {
           "color": "black"
          },
          "showarrow": false,
          "text": "0.41",
          "x": "Canada",
          "xref": "x2",
          "y": 2020,
          "yref": "y2"
         },
         {
          "font": {
           "color": "black"
          },
          "showarrow": false,
          "text": "0.00",
          "x": "Japan",
          "xref": "x2",
          "y": 2020,
          "yref": "y2"
         },
         {
          "font": {
           "color": "black"
          },
          "showarrow": false,
          "text": "3.87",
          "x": "South Africa",
          "xref": "x2",
          "y": 2020,
          "yref": "y2"
         },
         {
          "font": {
           "color": "black"
          },
          "showarrow": false,
          "text": "1.38",
          "x": "Sweden",
          "xref": "x2",
          "y": 2020,
          "yref": "y2"
         },
         {
          "font": {
           "color": "black"
          },
          "showarrow": false,
          "text": "1.00",
          "x": "Average",
          "xref": "x2",
          "y": 2020,
          "yref": "y2"
         },
         {
          "font": {
           "color": "black"
          },
          "showarrow": false,
          "text": "11.45",
          "x": "Australia",
          "xref": "x2",
          "y": 2021,
          "yref": "y2"
         },
         {
          "font": {
           "color": "black"
          },
          "showarrow": false,
          "text": "2.74",
          "x": "Canada",
          "xref": "x2",
          "y": 2021,
          "yref": "y2"
         },
         {
          "font": {
           "color": "black"
          },
          "showarrow": false,
          "text": "0.55",
          "x": "Japan",
          "xref": "x2",
          "y": 2021,
          "yref": "y2"
         },
         {
          "font": {
           "color": "black"
          },
          "showarrow": false,
          "text": "2.66",
          "x": "South Africa",
          "xref": "x2",
          "y": 2021,
          "yref": "y2"
         },
         {
          "font": {
           "color": "black"
          },
          "showarrow": false,
          "text": "6.53",
          "x": "Sweden",
          "xref": "x2",
          "y": 2021,
          "yref": "y2"
         },
         {
          "font": {
           "color": "black"
          },
          "showarrow": false,
          "text": "1.00",
          "x": "Average",
          "xref": "x2",
          "y": 2021,
          "yref": "y2"
         },
         {
          "font": {
           "color": "black"
          },
          "showarrow": false,
          "text": "1.24",
          "x": "Australia",
          "xref": "x2",
          "y": 2022,
          "yref": "y2"
         },
         {
          "font": {
           "color": "black"
          },
          "showarrow": false,
          "text": "2.50",
          "x": "Canada",
          "xref": "x2",
          "y": 2022,
          "yref": "y2"
         },
         {
          "font": {
           "color": "black"
          },
          "showarrow": false,
          "text": "1.56",
          "x": "Japan",
          "xref": "x2",
          "y": 2022,
          "yref": "y2"
         },
         {
          "font": {
           "color": "black"
          },
          "showarrow": false,
          "text": "4.03",
          "x": "South Africa",
          "xref": "x2",
          "y": 2022,
          "yref": "y2"
         },
         {
          "font": {
           "color": "black"
          },
          "showarrow": false,
          "text": "6.23",
          "x": "Sweden",
          "xref": "x2",
          "y": 2022,
          "yref": "y2"
         },
         {
          "font": {
           "color": "black"
          },
          "showarrow": false,
          "text": "1.00",
          "x": "Average",
          "xref": "x2",
          "y": 2022,
          "yref": "y2"
         }
        ],
        "height": 500,
        "margin": {
         "b": 100,
         "l": 100,
         "r": 100,
         "t": 100
        },
        "template": {
         "data": {
          "bar": [
           {
            "error_x": {
             "color": "#2a3f5f"
            },
            "error_y": {
             "color": "#2a3f5f"
            },
            "marker": {
             "line": {
              "color": "#E5ECF6",
              "width": 0.5
             },
             "pattern": {
              "fillmode": "overlay",
              "size": 10,
              "solidity": 0.2
             }
            },
            "type": "bar"
           }
          ],
          "barpolar": [
           {
            "marker": {
             "line": {
              "color": "#E5ECF6",
              "width": 0.5
             },
             "pattern": {
              "fillmode": "overlay",
              "size": 10,
              "solidity": 0.2
             }
            },
            "type": "barpolar"
           }
          ],
          "carpet": [
           {
            "aaxis": {
             "endlinecolor": "#2a3f5f",
             "gridcolor": "white",
             "linecolor": "white",
             "minorgridcolor": "white",
             "startlinecolor": "#2a3f5f"
            },
            "baxis": {
             "endlinecolor": "#2a3f5f",
             "gridcolor": "white",
             "linecolor": "white",
             "minorgridcolor": "white",
             "startlinecolor": "#2a3f5f"
            },
            "type": "carpet"
           }
          ],
          "choropleth": [
           {
            "colorbar": {
             "outlinewidth": 0,
             "ticks": ""
            },
            "type": "choropleth"
           }
          ],
          "contour": [
           {
            "colorbar": {
             "outlinewidth": 0,
             "ticks": ""
            },
            "colorscale": [
             [
              0,
              "#0d0887"
             ],
             [
              0.1111111111111111,
              "#46039f"
             ],
             [
              0.2222222222222222,
              "#7201a8"
             ],
             [
              0.3333333333333333,
              "#9c179e"
             ],
             [
              0.4444444444444444,
              "#bd3786"
             ],
             [
              0.5555555555555556,
              "#d8576b"
             ],
             [
              0.6666666666666666,
              "#ed7953"
             ],
             [
              0.7777777777777778,
              "#fb9f3a"
             ],
             [
              0.8888888888888888,
              "#fdca26"
             ],
             [
              1,
              "#f0f921"
             ]
            ],
            "type": "contour"
           }
          ],
          "contourcarpet": [
           {
            "colorbar": {
             "outlinewidth": 0,
             "ticks": ""
            },
            "type": "contourcarpet"
           }
          ],
          "heatmap": [
           {
            "colorbar": {
             "outlinewidth": 0,
             "ticks": ""
            },
            "colorscale": [
             [
              0,
              "#0d0887"
             ],
             [
              0.1111111111111111,
              "#46039f"
             ],
             [
              0.2222222222222222,
              "#7201a8"
             ],
             [
              0.3333333333333333,
              "#9c179e"
             ],
             [
              0.4444444444444444,
              "#bd3786"
             ],
             [
              0.5555555555555556,
              "#d8576b"
             ],
             [
              0.6666666666666666,
              "#ed7953"
             ],
             [
              0.7777777777777778,
              "#fb9f3a"
             ],
             [
              0.8888888888888888,
              "#fdca26"
             ],
             [
              1,
              "#f0f921"
             ]
            ],
            "type": "heatmap"
           }
          ],
          "heatmapgl": [
           {
            "colorbar": {
             "outlinewidth": 0,
             "ticks": ""
            },
            "colorscale": [
             [
              0,
              "#0d0887"
             ],
             [
              0.1111111111111111,
              "#46039f"
             ],
             [
              0.2222222222222222,
              "#7201a8"
             ],
             [
              0.3333333333333333,
              "#9c179e"
             ],
             [
              0.4444444444444444,
              "#bd3786"
             ],
             [
              0.5555555555555556,
              "#d8576b"
             ],
             [
              0.6666666666666666,
              "#ed7953"
             ],
             [
              0.7777777777777778,
              "#fb9f3a"
             ],
             [
              0.8888888888888888,
              "#fdca26"
             ],
             [
              1,
              "#f0f921"
             ]
            ],
            "type": "heatmapgl"
           }
          ],
          "histogram": [
           {
            "marker": {
             "pattern": {
              "fillmode": "overlay",
              "size": 10,
              "solidity": 0.2
             }
            },
            "type": "histogram"
           }
          ],
          "histogram2d": [
           {
            "colorbar": {
             "outlinewidth": 0,
             "ticks": ""
            },
            "colorscale": [
             [
              0,
              "#0d0887"
             ],
             [
              0.1111111111111111,
              "#46039f"
             ],
             [
              0.2222222222222222,
              "#7201a8"
             ],
             [
              0.3333333333333333,
              "#9c179e"
             ],
             [
              0.4444444444444444,
              "#bd3786"
             ],
             [
              0.5555555555555556,
              "#d8576b"
             ],
             [
              0.6666666666666666,
              "#ed7953"
             ],
             [
              0.7777777777777778,
              "#fb9f3a"
             ],
             [
              0.8888888888888888,
              "#fdca26"
             ],
             [
              1,
              "#f0f921"
             ]
            ],
            "type": "histogram2d"
           }
          ],
          "histogram2dcontour": [
           {
            "colorbar": {
             "outlinewidth": 0,
             "ticks": ""
            },
            "colorscale": [
             [
              0,
              "#0d0887"
             ],
             [
              0.1111111111111111,
              "#46039f"
             ],
             [
              0.2222222222222222,
              "#7201a8"
             ],
             [
              0.3333333333333333,
              "#9c179e"
             ],
             [
              0.4444444444444444,
              "#bd3786"
             ],
             [
              0.5555555555555556,
              "#d8576b"
             ],
             [
              0.6666666666666666,
              "#ed7953"
             ],
             [
              0.7777777777777778,
              "#fb9f3a"
             ],
             [
              0.8888888888888888,
              "#fdca26"
             ],
             [
              1,
              "#f0f921"
             ]
            ],
            "type": "histogram2dcontour"
           }
          ],
          "mesh3d": [
           {
            "colorbar": {
             "outlinewidth": 0,
             "ticks": ""
            },
            "type": "mesh3d"
           }
          ],
          "parcoords": [
           {
            "line": {
             "colorbar": {
              "outlinewidth": 0,
              "ticks": ""
             }
            },
            "type": "parcoords"
           }
          ],
          "pie": [
           {
            "automargin": true,
            "type": "pie"
           }
          ],
          "scatter": [
           {
            "fillpattern": {
             "fillmode": "overlay",
             "size": 10,
             "solidity": 0.2
            },
            "type": "scatter"
           }
          ],
          "scatter3d": [
           {
            "line": {
             "colorbar": {
              "outlinewidth": 0,
              "ticks": ""
             }
            },
            "marker": {
             "colorbar": {
              "outlinewidth": 0,
              "ticks": ""
             }
            },
            "type": "scatter3d"
           }
          ],
          "scattercarpet": [
           {
            "marker": {
             "colorbar": {
              "outlinewidth": 0,
              "ticks": ""
             }
            },
            "type": "scattercarpet"
           }
          ],
          "scattergeo": [
           {
            "marker": {
             "colorbar": {
              "outlinewidth": 0,
              "ticks": ""
             }
            },
            "type": "scattergeo"
           }
          ],
          "scattergl": [
           {
            "marker": {
             "colorbar": {
              "outlinewidth": 0,
              "ticks": ""
             }
            },
            "type": "scattergl"
           }
          ],
          "scattermapbox": [
           {
            "marker": {
             "colorbar": {
              "outlinewidth": 0,
              "ticks": ""
             }
            },
            "type": "scattermapbox"
           }
          ],
          "scatterpolar": [
           {
            "marker": {
             "colorbar": {
              "outlinewidth": 0,
              "ticks": ""
             }
            },
            "type": "scatterpolar"
           }
          ],
          "scatterpolargl": [
           {
            "marker": {
             "colorbar": {
              "outlinewidth": 0,
              "ticks": ""
             }
            },
            "type": "scatterpolargl"
           }
          ],
          "scatterternary": [
           {
            "marker": {
             "colorbar": {
              "outlinewidth": 0,
              "ticks": ""
             }
            },
            "type": "scatterternary"
           }
          ],
          "surface": [
           {
            "colorbar": {
             "outlinewidth": 0,
             "ticks": ""
            },
            "colorscale": [
             [
              0,
              "#0d0887"
             ],
             [
              0.1111111111111111,
              "#46039f"
             ],
             [
              0.2222222222222222,
              "#7201a8"
             ],
             [
              0.3333333333333333,
              "#9c179e"
             ],
             [
              0.4444444444444444,
              "#bd3786"
             ],
             [
              0.5555555555555556,
              "#d8576b"
             ],
             [
              0.6666666666666666,
              "#ed7953"
             ],
             [
              0.7777777777777778,
              "#fb9f3a"
             ],
             [
              0.8888888888888888,
              "#fdca26"
             ],
             [
              1,
              "#f0f921"
             ]
            ],
            "type": "surface"
           }
          ],
          "table": [
           {
            "cells": {
             "fill": {
              "color": "#EBF0F8"
             },
             "line": {
              "color": "white"
             }
            },
            "header": {
             "fill": {
              "color": "#C8D4E3"
             },
             "line": {
              "color": "white"
             }
            },
            "type": "table"
           }
          ]
         },
         "layout": {
          "annotationdefaults": {
           "arrowcolor": "#2a3f5f",
           "arrowhead": 0,
           "arrowwidth": 1
          },
          "autotypenumbers": "strict",
          "coloraxis": {
           "colorbar": {
            "outlinewidth": 0,
            "ticks": ""
           }
          },
          "colorscale": {
           "diverging": [
            [
             0,
             "#8e0152"
            ],
            [
             0.1,
             "#c51b7d"
            ],
            [
             0.2,
             "#de77ae"
            ],
            [
             0.3,
             "#f1b6da"
            ],
            [
             0.4,
             "#fde0ef"
            ],
            [
             0.5,
             "#f7f7f7"
            ],
            [
             0.6,
             "#e6f5d0"
            ],
            [
             0.7,
             "#b8e186"
            ],
            [
             0.8,
             "#7fbc41"
            ],
            [
             0.9,
             "#4d9221"
            ],
            [
             1,
             "#276419"
            ]
           ],
           "sequential": [
            [
             0,
             "#0d0887"
            ],
            [
             0.1111111111111111,
             "#46039f"
            ],
            [
             0.2222222222222222,
             "#7201a8"
            ],
            [
             0.3333333333333333,
             "#9c179e"
            ],
            [
             0.4444444444444444,
             "#bd3786"
            ],
            [
             0.5555555555555556,
             "#d8576b"
            ],
            [
             0.6666666666666666,
             "#ed7953"
            ],
            [
             0.7777777777777778,
             "#fb9f3a"
            ],
            [
             0.8888888888888888,
             "#fdca26"
            ],
            [
             1,
             "#f0f921"
            ]
           ],
           "sequentialminus": [
            [
             0,
             "#0d0887"
            ],
            [
             0.1111111111111111,
             "#46039f"
            ],
            [
             0.2222222222222222,
             "#7201a8"
            ],
            [
             0.3333333333333333,
             "#9c179e"
            ],
            [
             0.4444444444444444,
             "#bd3786"
            ],
            [
             0.5555555555555556,
             "#d8576b"
            ],
            [
             0.6666666666666666,
             "#ed7953"
            ],
            [
             0.7777777777777778,
             "#fb9f3a"
            ],
            [
             0.8888888888888888,
             "#fdca26"
            ],
            [
             1,
             "#f0f921"
            ]
           ]
          },
          "colorway": [
           "#636efa",
           "#EF553B",
           "#00cc96",
           "#ab63fa",
           "#FFA15A",
           "#19d3f3",
           "#FF6692",
           "#B6E880",
           "#FF97FF",
           "#FECB52"
          ],
          "font": {
           "color": "#2a3f5f"
          },
          "geo": {
           "bgcolor": "white",
           "lakecolor": "white",
           "landcolor": "#E5ECF6",
           "showlakes": true,
           "showland": true,
           "subunitcolor": "white"
          },
          "hoverlabel": {
           "align": "left"
          },
          "hovermode": "closest",
          "mapbox": {
           "style": "light"
          },
          "paper_bgcolor": "white",
          "plot_bgcolor": "#E5ECF6",
          "polar": {
           "angularaxis": {
            "gridcolor": "white",
            "linecolor": "white",
            "ticks": ""
           },
           "bgcolor": "#E5ECF6",
           "radialaxis": {
            "gridcolor": "white",
            "linecolor": "white",
            "ticks": ""
           }
          },
          "scene": {
           "xaxis": {
            "backgroundcolor": "#E5ECF6",
            "gridcolor": "white",
            "gridwidth": 2,
            "linecolor": "white",
            "showbackground": true,
            "ticks": "",
            "zerolinecolor": "white"
           },
           "yaxis": {
            "backgroundcolor": "#E5ECF6",
            "gridcolor": "white",
            "gridwidth": 2,
            "linecolor": "white",
            "showbackground": true,
            "ticks": "",
            "zerolinecolor": "white"
           },
           "zaxis": {
            "backgroundcolor": "#E5ECF6",
            "gridcolor": "white",
            "gridwidth": 2,
            "linecolor": "white",
            "showbackground": true,
            "ticks": "",
            "zerolinecolor": "white"
           }
          },
          "shapedefaults": {
           "line": {
            "color": "#2a3f5f"
           }
          },
          "ternary": {
           "aaxis": {
            "gridcolor": "white",
            "linecolor": "white",
            "ticks": ""
           },
           "baxis": {
            "gridcolor": "white",
            "linecolor": "white",
            "ticks": ""
           },
           "bgcolor": "#E5ECF6",
           "caxis": {
            "gridcolor": "white",
            "linecolor": "white",
            "ticks": ""
           }
          },
          "title": {
           "x": 0.05
          },
          "xaxis": {
           "automargin": true,
           "gridcolor": "white",
           "linecolor": "white",
           "ticks": "",
           "title": {
            "standoff": 15
           },
           "zerolinecolor": "white",
           "zerolinewidth": 2
          },
          "yaxis": {
           "automargin": true,
           "gridcolor": "white",
           "linecolor": "white",
           "ticks": "",
           "title": {
            "standoff": 15
           },
           "zerolinecolor": "white",
           "zerolinewidth": 2
          }
         }
        },
        "title": {
         "text": "Heatmaps of Percentage Price Change for Milk by Country and Year"
        },
        "width": 1100,
        "xaxis": {
         "anchor": "y",
         "autorange": true,
         "domain": [
          0,
          0.45
         ],
         "range": [
          -0.5,
          5.5
         ],
         "scaleanchor": "y",
         "scaleratio": 1,
         "side": "top",
         "tickmode": "array",
         "ticktext": [
          "Australia",
          "Canada",
          "Japan",
          "South Africa",
          "Sweden",
          "Average"
         ],
         "tickvals": [
          0,
          1,
          2,
          3,
          4,
          5
         ],
         "title": {
          "font": {
           "family": "Arial",
           "size": 14
          }
         },
         "type": "category"
        },
        "xaxis2": {
         "anchor": "y2",
         "autorange": true,
         "domain": [
          0.55,
          1
         ],
         "range": [
          -0.5,
          5.5
         ],
         "scaleanchor": "y",
         "scaleratio": 1,
         "side": "top",
         "tickmode": "array",
         "ticktext": [
          "Australia",
          "Canada",
          "Japan",
          "South Africa",
          "Sweden",
          "Average"
         ],
         "tickvals": [
          0,
          1,
          2,
          3,
          4,
          5
         ],
         "title": {
          "font": {
           "family": "Arial",
           "size": 14
          }
         },
         "type": "category"
        },
        "yaxis": {
         "anchor": "x",
         "autorange": true,
         "domain": [
          0,
          1
         ],
         "range": [
          2017.5,
          2022.5
         ],
         "side": "left",
         "tickfont": {
          "family": "sans-serif"
         },
         "ticks": "",
         "ticksuffix": " ",
         "type": "linear"
        },
        "yaxis2": {
         "anchor": "x2",
         "autorange": true,
         "domain": [
          0,
          1
         ],
         "range": [
          2017.5,
          2022.5
         ],
         "side": "left",
         "tickfont": {
          "family": "sans-serif"
         },
         "ticks": "",
         "ticksuffix": " ",
         "type": "linear"
        }
       }
      },
      "image/png": "[encoded data removed]",
      "text/html": [
       "<div>                            <div id=\"f372e53d-2db6-4872-926a-839796e7af2e\" class=\"plotly-graph-div\" style=\"height:500px; width:1100px;\"></div>            <script type=\"text/javascript\">                require([\"plotly\"], function(Plotly) {                    window.PLOTLYENV=window.PLOTLYENV || {};                                    if (document.getElementById(\"f372e53d-2db6-4872-926a-839796e7af2e\")) {                    Plotly.newPlot(                        \"f372e53d-2db6-4872-926a-839796e7af2e\",                        [{\"colorscale\":[[0.0,\"#f2f2f2\"],[0.003937007874015748,\"#f1f2f1\"],[0.007874015748031496,\"#f1f1f1\"],[0.011811023622047244,\"#f0f1f0\"],[0.015748031496062992,\"#eff1f0\"],[0.01968503937007874,\"#eef0ef\"],[0.023622047244094488,\"#eef0ef\"],[0.027559055118110236,\"#edf0ee\"],[0.031496062992125984,\"#ecefee\"],[0.03543307086614173,\"#ecefed\"],[0.03937007874015748,\"#ebefed\"],[0.04330708661417323,\"#eaeeec\"],[0.047244094488188976,\"#e9eeec\"],[0.051181102362204724,\"#e9eeeb\"],[0.05511811023622047,\"#e8edeb\"],[0.05905511811023622,\"#e7edea\"],[0.06299212598425197,\"#e7edea\"],[0.06692913385826772,\"#e6ece9\"],[0.07086614173228346,\"#e5ece9\"],[0.07480314960629922,\"#e4ebe8\"],[0.07874015748031496,\"#e4ebe7\"],[0.08267716535433071,\"#e3ebe7\"],[0.08661417322834646,\"#e2eae6\"],[0.09055118110236221,\"#e2eae6\"],[0.09448818897637795,\"#e1eae5\"],[0.0984251968503937,\"#e0e9e5\"],[0.10236220472440945,\"#dfe9e4\"],[0.1062992125984252,\"#dfe9e4\"],[0.11023622047244094,\"#dee8e3\"],[0.1141732283464567,\"#dde8e3\"],[0.11811023622047244,\"#dde8e2\"],[0.1220472440944882,\"#dce7e2\"],[0.12598425196850394,\"#dbe7e1\"],[0.12992125984251968,\"#dae7e1\"],[0.13385826771653545,\"#dae6e0\"],[0.1377952755905512,\"#d9e6e0\"],[0.14173228346456693,\"#d8e6df\"],[0.14566929133858267,\"#d8e5de\"],[0.14960629921259844,\"#d7e5de\"],[0.15354330708661418,\"#d6e5dd\"],[0.15748031496062992,\"#d5e4dd\"],[0.16141732283464566,\"#d5e4dc\"],[0.16535433070866143,\"#d4e4dc\"],[0.16929133858267717,\"#d3e3db\"],[0.1732283464566929,\"#d3e3db\"],[0.17716535433070865,\"#d2e3da\"],[0.18110236220472442,\"#d1e2da\"],[0.18503937007874016,\"#d1e2d9\"],[0.1889763779527559,\"#d0e2d9\"],[0.19291338582677164,\"#cfe1d8\"],[0.1968503937007874,\"#cee1d8\"],[0.20078740157480315,\"#cee1d7\"],[0.2047244094488189,\"#cde0d7\"],[0.20866141732283464,\"#cce0d6\"],[0.2125984251968504,\"#cce0d6\"],[0.21653543307086615,\"#cbdfd5\"],[0.2204724409448819,\"#cadfd4\"],[0.22440944881889763,\"#c9ded4\"],[0.2283464566929134,\"#c9ded3\"],[0.23228346456692914,\"#c8ded3\"],[0.23622047244094488,\"#c7ddd2\"],[0.24015748031496062,\"#c7ddd2\"],[0.2440944881889764,\"#c6ddd1\"],[0.24803149606299213,\"#c5dcd1\"],[0.25196850393700787,\"#c4dcd0\"],[0.2559055118110236,\"#c4dcd0\"],[0.25984251968503935,\"#c3dbcf\"],[0.2637795275590551,\"#c2dbcf\"],[0.2677165354330709,\"#c2dbce\"],[0.27165354330708663,\"#c1dace\"],[0.2755905511811024,\"#c0dacd\"],[0.2795275590551181,\"#bfdacd\"],[0.28346456692913385,\"#bfd9cc\"],[0.2874015748031496,\"#bed9cb\"],[0.29133858267716534,\"#bdd9cb\"],[0.2952755905511811,\"#bdd8ca\"],[0.2992125984251969,\"#bcd8ca\"],[0.3031496062992126,\"#bbd8c9\"],[0.30708661417322836,\"#bad7c9\"],[0.3110236220472441,\"#bad7c8\"],[0.31496062992125984,\"#b9d7c8\"],[0.3188976377952756,\"#b8d6c7\"],[0.3228346456692913,\"#b8d6c7\"],[0.32677165354330706,\"#b7d6c6\"],[0.33070866141732286,\"#b6d5c6\"],[0.3346456692913386,\"#b5d5c5\"],[0.33858267716535434,\"#b5d5c5\"],[0.3425196850393701,\"#b4d4c4\"],[0.3464566929133858,\"#b3d4c4\"],[0.35039370078740156,\"#b3d4c3\"],[0.3543307086614173,\"#b2d3c3\"],[0.35826771653543305,\"#b1d3c2\"],[0.36220472440944884,\"#b0d2c1\"],[0.3661417322834646,\"#b0d2c1\"],[0.3700787401574803,\"#afd2c0\"],[0.37401574803149606,\"#aed1c0\"],[0.3779527559055118,\"#aed1bf\"],[0.38188976377952755,\"#add1bf\"],[0.3858267716535433,\"#acd0be\"],[0.38976377952755903,\"#abd0be\"],[0.3937007874015748,\"#abd0bd\"],[0.39763779527559057,\"#aacfbd\"],[0.4015748031496063,\"#a9cfbc\"],[0.40551181102362205,\"#a9cfbc\"],[0.4094488188976378,\"#a8cebb\"],[0.41338582677165353,\"#a7cebb\"],[0.41732283464566927,\"#a6ceba\"],[0.421259842519685,\"#a6cdba\"],[0.4251968503937008,\"#a5cdb9\"],[0.42913385826771655,\"#a4cdb8\"],[0.4330708661417323,\"#a4ccb8\"],[0.43700787401574803,\"#a3ccb7\"],[0.4409448818897638,\"#a2ccb7\"],[0.4448818897637795,\"#a1cbb6\"],[0.44881889763779526,\"#a1cbb6\"],[0.452755905511811,\"#a0cbb5\"],[0.4566929133858268,\"#9fcab5\"],[0.46062992125984253,\"#9fcab4\"],[0.4645669291338583,\"#9ecab4\"],[0.468503937007874,\"#9dc9b3\"],[0.47244094488188976,\"#9cc9b3\"],[0.4763779527559055,\"#9cc9b2\"],[0.48031496062992124,\"#9bc8b2\"],[0.484251968503937,\"#9ac8b1\"],[0.4881889763779528,\"#9ac8b1\"],[0.4921259842519685,\"#99c7b0\"],[0.49606299212598426,\"#98c7b0\"],[0.5,\"#98c6af\"],[0.5039370078740157,\"#97c6ae\"],[0.5078740157480315,\"#96c6ae\"],[0.5118110236220472,\"#95c5ad\"],[0.515748031496063,\"#95c5ad\"],[0.5196850393700787,\"#94c5ac\"],[0.5236220472440944,\"#93c4ac\"],[0.5275590551181102,\"#93c4ab\"],[0.531496062992126,\"#92c4ab\"],[0.5354330708661418,\"#91c3aa\"],[0.5393700787401575,\"#90c3aa\"],[0.5433070866141733,\"#90c3a9\"],[0.547244094488189,\"#8fc2a9\"],[0.5511811023622047,\"#8ec2a8\"],[0.5551181102362205,\"#8ec2a8\"],[0.5590551181102362,\"#8dc1a7\"],[0.562992125984252,\"#8cc1a7\"],[0.5669291338582677,\"#8bc1a6\"],[0.5708661417322834,\"#8bc0a6\"],[0.5748031496062992,\"#8ac0a5\"],[0.5787401574803149,\"#89c0a4\"],[0.5826771653543307,\"#89bfa4\"],[0.5866141732283464,\"#88bfa3\"],[0.5905511811023622,\"#87bfa3\"],[0.594488188976378,\"#86bea2\"],[0.5984251968503937,\"#86bea2\"],[0.6023622047244095,\"#85bea1\"],[0.6062992125984252,\"#84bda1\"],[0.610236220472441,\"#84bda0\"],[0.6141732283464567,\"#83bda0\"],[0.6181102362204725,\"#82bc9f\"],[0.6220472440944882,\"#81bc9f\"],[0.6259842519685039,\"#81bc9e\"],[0.6299212598425197,\"#80bb9e\"],[0.6338582677165354,\"#7fbb9d\"],[0.6377952755905512,\"#7fbb9d\"],[0.6417322834645669,\"#7eba9c\"],[0.6456692913385826,\"#7dba9b\"],[0.6496062992125984,\"#7cb99b\"],[0.6535433070866141,\"#7cb99a\"],[0.65748031496063,\"#7bb99a\"],[0.6614173228346457,\"#7ab899\"],[0.6653543307086615,\"#7ab899\"],[0.6692913385826772,\"#79b898\"],[0.6732283464566929,\"#78b798\"],[0.6771653543307087,\"#77b797\"],[0.6811023622047244,\"#77b797\"],[0.6850393700787402,\"#76b696\"],[0.6889763779527559,\"#75b696\"],[0.6929133858267716,\"#75b695\"],[0.6968503937007874,\"#74b595\"],[0.7007874015748031,\"#73b594\"],[0.7047244094488189,\"#72b594\"],[0.7086614173228346,\"#72b493\"],[0.7125984251968503,\"#71b493\"],[0.7165354330708661,\"#70b492\"],[0.7204724409448819,\"#70b391\"],[0.7244094488188977,\"#6fb391\"],[0.7283464566929134,\"#6eb390\"],[0.7322834645669292,\"#6db290\"],[0.7362204724409449,\"#6db28f\"],[0.7401574803149606,\"#6cb28f\"],[0.7440944881889764,\"#6bb18e\"],[0.7480314960629921,\"#6bb18e\"],[0.7519685039370079,\"#6ab18d\"],[0.7559055118110236,\"#69b08d\"],[0.7598425196850394,\"#68b08c\"],[0.7637795275590551,\"#68b08c\"],[0.7677165354330708,\"#67af8b\"],[0.7716535433070866,\"#66af8b\"],[0.7755905511811023,\"#66af8a\"],[0.7795275590551181,\"#65ae8a\"],[0.7834645669291339,\"#64ae89\"],[0.7874015748031497,\"#63ad88\"],[0.7913385826771654,\"#63ad88\"],[0.7952755905511811,\"#62ad87\"],[0.7992125984251969,\"#61ac87\"],[0.8031496062992126,\"#61ac86\"],[0.8070866141732284,\"#60ac86\"],[0.8110236220472441,\"#5fab85\"],[0.8149606299212598,\"#5eab85\"],[0.8188976377952756,\"#5eab84\"],[0.8228346456692913,\"#5daa84\"],[0.8267716535433071,\"#5caa83\"],[0.8307086614173228,\"#5caa83\"],[0.8346456692913385,\"#5ba982\"],[0.8385826771653543,\"#5aa982\"],[0.84251968503937,\"#5aa981\"],[0.8464566929133859,\"#59a881\"],[0.8503937007874016,\"#58a880\"],[0.8543307086614174,\"#57a880\"],[0.8582677165354331,\"#57a77f\"],[0.8622047244094488,\"#56a77e\"],[0.8661417322834646,\"#55a77e\"],[0.8700787401574803,\"#55a67d\"],[0.8740157480314961,\"#54a67d\"],[0.8779527559055118,\"#53a67c\"],[0.8818897637795275,\"#52a57c\"],[0.8858267716535433,\"#52a57b\"],[0.889763779527559,\"#51a57b\"],[0.8937007874015748,\"#50a47a\"],[0.8976377952755905,\"#50a47a\"],[0.9015748031496063,\"#4fa479\"],[0.905511811023622,\"#4ea379\"],[0.9094488188976378,\"#4da378\"],[0.9133858267716536,\"#4da378\"],[0.9173228346456693,\"#4ca277\"],[0.9212598425196851,\"#4ba277\"],[0.9251968503937008,\"#4ba276\"],[0.9291338582677166,\"#4aa175\"],[0.9330708661417323,\"#49a175\"],[0.937007874015748,\"#48a074\"],[0.9409448818897638,\"#48a074\"],[0.9448818897637795,\"#47a073\"],[0.9488188976377953,\"#469f73\"],[0.952755905511811,\"#469f72\"],[0.9566929133858267,\"#459f72\"],[0.9606299212598425,\"#449e71\"],[0.9645669291338582,\"#439e71\"],[0.968503937007874,\"#439e70\"],[0.9724409448818898,\"#429d70\"],[0.9763779527559056,\"#419d6f\"],[0.9803149606299213,\"#419d6f\"],[0.984251968503937,\"#409c6e\"],[0.9881889763779528,\"#3f9c6e\"],[0.9921259842519685,\"#3e9c6d\"],[0.9960629921259843,\"#3e9b6d\"],[1.0,\"#3d9b6c\"]],\"hovertemplate\":\"Country: %{y}\\u003cbr\\u003eYear: %{x}\\u003cbr\\u003eValue: $%{z:.2f}\\u003cextra\\u003e\\u003c\\u002fextra\\u003e\",\"showlegend\":false,\"showscale\":false,\"x\":[\"Australia\",\"Canada\",\"Japan\",\"South Africa\",\"Sweden\",\"Average\"],\"y\":[2018,2019,2020,2021,2022],\"z\":[[8.536585365853666,2.7173913043478164,0.7462686567164185,2.5641025641025665,5.000000000000004,1.176],[7.865168539325837,2.6455026455026482,2.2222222222222077,2.4999999999999885,7.547169811320741,1.2225],[4.1666666666666705,0.5154639175257737,0.0,4.878048780487809,1.7391304347826104,1.2615],[14.999999999999991,3.589743589743593,0.724637681159421,3.4883720930232593,8.547008547008556,1.3098333333333334],[1.7094017094017109,3.44827586206898,2.158273381294966,5.555555555555548,8.593749999999991,1.3798333333333332]],\"type\":\"heatmap\",\"xaxis\":\"x\",\"yaxis\":\"y\"},{\"colorscale\":[[0.0,\"rgb(247,251,255)\"],[0.125,\"rgb(222,235,247)\"],[0.25,\"rgb(198,219,239)\"],[0.375,\"rgb(158,202,225)\"],[0.5,\"rgb(107,174,214)\"],[0.625,\"rgb(66,146,198)\"],[0.75,\"rgb(33,113,181)\"],[0.875,\"rgb(8,81,156)\"],[1.0,\"rgb(8,48,107)\"]],\"hovertemplate\":\"Country: %{y}\\u003cbr\\u003eYear: %{x}\\u003cbr\\u003eValue: %{z:.2f}\\u003cextra\\u003e\\u003c\\u002fextra\\u003e\",\"showlegend\":false,\"showscale\":false,\"x\":[\"Australia\",\"Canada\",\"Japan\",\"South Africa\",\"Sweden\",\"Average\"],\"y\":[2018,2019,2020,2021,2022],\"z\":[[7.259001161440192,2.310706891452225,0.6345821910853899,2.1803593232164684,4.251700680272113,1.0],[6.4336756967900515,2.1640103439694465,1.8177686889343214,2.0449897750511155,6.1735540378901765,1.0],[3.3029462280354105,0.4086119044992261,0.0,3.866863876724383,1.3786210343104324,1.0],[11.451838656317591,2.740610960486265,0.5532289205950535,2.663218292166886,6.525264191633965,1.0],[1.2388465100145267,2.4990524426155187,1.564155125953593,4.026251157547203,6.228107259330831,1.0]],\"type\":\"heatmap\",\"xaxis\":\"x2\",\"yaxis\":\"y2\"}],                        {\"template\":{\"data\":{\"histogram2dcontour\":[{\"type\":\"histogram2dcontour\",\"colorbar\":{\"outlinewidth\":0,\"ticks\":\"\"},\"colorscale\":[[0.0,\"#0d0887\"],[0.1111111111111111,\"#46039f\"],[0.2222222222222222,\"#7201a8\"],[0.3333333333333333,\"#9c179e\"],[0.4444444444444444,\"#bd3786\"],[0.5555555555555556,\"#d8576b\"],[0.6666666666666666,\"#ed7953\"],[0.7777777777777778,\"#fb9f3a\"],[0.8888888888888888,\"#fdca26\"],[1.0,\"#f0f921\"]]}],\"choropleth\":[{\"type\":\"choropleth\",\"colorbar\":{\"outlinewidth\":0,\"ticks\":\"\"}}],\"histogram2d\":[{\"type\":\"histogram2d\",\"colorbar\":{\"outlinewidth\":0,\"ticks\":\"\"},\"colorscale\":[[0.0,\"#0d0887\"],[0.1111111111111111,\"#46039f\"],[0.2222222222222222,\"#7201a8\"],[0.3333333333333333,\"#9c179e\"],[0.4444444444444444,\"#bd3786\"],[0.5555555555555556,\"#d8576b\"],[0.6666666666666666,\"#ed7953\"],[0.7777777777777778,\"#fb9f3a\"],[0.8888888888888888,\"#fdca26\"],[1.0,\"#f0f921\"]]}],\"heatmap\":[{\"type\":\"heatmap\",\"colorbar\":{\"outlinewidth\":0,\"ticks\":\"\"},\"colorscale\":[[0.0,\"#0d0887\"],[0.1111111111111111,\"#46039f\"],[0.2222222222222222,\"#7201a8\"],[0.3333333333333333,\"#9c179e\"],[0.4444444444444444,\"#bd3786\"],[0.5555555555555556,\"#d8576b\"],[0.6666666666666666,\"#ed7953\"],[0.7777777777777778,\"#fb9f3a\"],[0.8888888888888888,\"#fdca26\"],[1.0,\"#f0f921\"]]}],\"heatmapgl\":[{\"type\":\"heatmapgl\",\"colorbar\":{\"outlinewidth\":0,\"ticks\":\"\"},\"colorscale\":[[0.0,\"#0d0887\"],[0.1111111111111111,\"#46039f\"],[0.2222222222222222,\"#7201a8\"],[0.3333333333333333,\"#9c179e\"],[0.4444444444444444,\"#bd3786\"],[0.5555555555555556,\"#d8576b\"],[0.6666666666666666,\"#ed7953\"],[0.7777777777777778,\"#fb9f3a\"],[0.8888888888888888,\"#fdca26\"],[1.0,\"#f0f921\"]]}],\"contourcarpet\":[{\"type\":\"contourcarpet\",\"colorbar\":{\"outlinewidth\":0,\"ticks\":\"\"}}],\"contour\":[{\"type\":\"contour\",\"colorbar\":{\"outlinewidth\":0,\"ticks\":\"\"},\"colorscale\":[[0.0,\"#0d0887\"],[0.1111111111111111,\"#46039f\"],[0.2222222222222222,\"#7201a8\"],[0.3333333333333333,\"#9c179e\"],[0.4444444444444444,\"#bd3786\"],[0.5555555555555556,\"#d8576b\"],[0.6666666666666666,\"#ed7953\"],[0.7777777777777778,\"#fb9f3a\"],[0.8888888888888888,\"#fdca26\"],[1.0,\"#f0f921\"]]}],\"surface\":[{\"type\":\"surface\",\"colorbar\":{\"outlinewidth\":0,\"ticks\":\"\"},\"colorscale\":[[0.0,\"#0d0887\"],[0.1111111111111111,\"#46039f\"],[0.2222222222222222,\"#7201a8\"],[0.3333333333333333,\"#9c179e\"],[0.4444444444444444,\"#bd3786\"],[0.5555555555555556,\"#d8576b\"],[0.6666666666666666,\"#ed7953\"],[0.7777777777777778,\"#fb9f3a\"],[0.8888888888888888,\"#fdca26\"],[1.0,\"#f0f921\"]]}],\"mesh3d\":[{\"type\":\"mesh3d\",\"colorbar\":{\"outlinewidth\":0,\"ticks\":\"\"}}],\"scatter\":[{\"fillpattern\":{\"fillmode\":\"overlay\",\"size\":10,\"solidity\":0.2},\"type\":\"scatter\"}],\"parcoords\":[{\"type\":\"parcoords\",\"line\":{\"colorbar\":{\"outlinewidth\":0,\"ticks\":\"\"}}}],\"scatterpolargl\":[{\"type\":\"scatterpolargl\",\"marker\":{\"colorbar\":{\"outlinewidth\":0,\"ticks\":\"\"}}}],\"bar\":[{\"error_x\":{\"color\":\"#2a3f5f\"},\"error_y\":{\"color\":\"#2a3f5f\"},\"marker\":{\"line\":{\"color\":\"#E5ECF6\",\"width\":0.5},\"pattern\":{\"fillmode\":\"overlay\",\"size\":10,\"solidity\":0.2}},\"type\":\"bar\"}],\"scattergeo\":[{\"type\":\"scattergeo\",\"marker\":{\"colorbar\":{\"outlinewidth\":0,\"ticks\":\"\"}}}],\"scatterpolar\":[{\"type\":\"scatterpolar\",\"marker\":{\"colorbar\":{\"outlinewidth\":0,\"ticks\":\"\"}}}],\"histogram\":[{\"marker\":{\"pattern\":{\"fillmode\":\"overlay\",\"size\":10,\"solidity\":0.2}},\"type\":\"histogram\"}],\"scattergl\":[{\"type\":\"scattergl\",\"marker\":{\"colorbar\":{\"outlinewidth\":0,\"ticks\":\"\"}}}],\"scatter3d\":[{\"type\":\"scatter3d\",\"line\":{\"colorbar\":{\"outlinewidth\":0,\"ticks\":\"\"}},\"marker\":{\"colorbar\":{\"outlinewidth\":0,\"ticks\":\"\"}}}],\"scattermapbox\":[{\"type\":\"scattermapbox\",\"marker\":{\"colorbar\":{\"outlinewidth\":0,\"ticks\":\"\"}}}],\"scatterternary\":[{\"type\":\"scatterternary\",\"marker\":{\"colorbar\":{\"outlinewidth\":0,\"ticks\":\"\"}}}],\"scattercarpet\":[{\"type\":\"scattercarpet\",\"marker\":{\"colorbar\":{\"outlinewidth\":0,\"ticks\":\"\"}}}],\"carpet\":[{\"aaxis\":{\"endlinecolor\":\"#2a3f5f\",\"gridcolor\":\"white\",\"linecolor\":\"white\",\"minorgridcolor\":\"white\",\"startlinecolor\":\"#2a3f5f\"},\"baxis\":{\"endlinecolor\":\"#2a3f5f\",\"gridcolor\":\"white\",\"linecolor\":\"white\",\"minorgridcolor\":\"white\",\"startlinecolor\":\"#2a3f5f\"},\"type\":\"carpet\"}],\"table\":[{\"cells\":{\"fill\":{\"color\":\"#EBF0F8\"},\"line\":{\"color\":\"white\"}},\"header\":{\"fill\":{\"color\":\"#C8D4E3\"},\"line\":{\"color\":\"white\"}},\"type\":\"table\"}],\"barpolar\":[{\"marker\":{\"line\":{\"color\":\"#E5ECF6\",\"width\":0.5},\"pattern\":{\"fillmode\":\"overlay\",\"size\":10,\"solidity\":0.2}},\"type\":\"barpolar\"}],\"pie\":[{\"automargin\":true,\"type\":\"pie\"}]},\"layout\":{\"autotypenumbers\":\"strict\",\"colorway\":[\"#636efa\",\"#EF553B\",\"#00cc96\",\"#ab63fa\",\"#FFA15A\",\"#19d3f3\",\"#FF6692\",\"#B6E880\",\"#FF97FF\",\"#FECB52\"],\"font\":{\"color\":\"#2a3f5f\"},\"hovermode\":\"closest\",\"hoverlabel\":{\"align\":\"left\"},\"paper_bgcolor\":\"white\",\"plot_bgcolor\":\"#E5ECF6\",\"polar\":{\"bgcolor\":\"#E5ECF6\",\"angularaxis\":{\"gridcolor\":\"white\",\"linecolor\":\"white\",\"ticks\":\"\"},\"radialaxis\":{\"gridcolor\":\"white\",\"linecolor\":\"white\",\"ticks\":\"\"}},\"ternary\":{\"bgcolor\":\"#E5ECF6\",\"aaxis\":{\"gridcolor\":\"white\",\"linecolor\":\"white\",\"ticks\":\"\"},\"baxis\":{\"gridcolor\":\"white\",\"linecolor\":\"white\",\"ticks\":\"\"},\"caxis\":{\"gridcolor\":\"white\",\"linecolor\":\"white\",\"ticks\":\"\"}},\"coloraxis\":{\"colorbar\":{\"outlinewidth\":0,\"ticks\":\"\"}},\"colorscale\":{\"sequential\":[[0.0,\"#0d0887\"],[0.1111111111111111,\"#46039f\"],[0.2222222222222222,\"#7201a8\"],[0.3333333333333333,\"#9c179e\"],[0.4444444444444444,\"#bd3786\"],[0.5555555555555556,\"#d8576b\"],[0.6666666666666666,\"#ed7953\"],[0.7777777777777778,\"#fb9f3a\"],[0.8888888888888888,\"#fdca26\"],[1.0,\"#f0f921\"]],\"sequentialminus\":[[0.0,\"#0d0887\"],[0.1111111111111111,\"#46039f\"],[0.2222222222222222,\"#7201a8\"],[0.3333333333333333,\"#9c179e\"],[0.4444444444444444,\"#bd3786\"],[0.5555555555555556,\"#d8576b\"],[0.6666666666666666,\"#ed7953\"],[0.7777777777777778,\"#fb9f3a\"],[0.8888888888888888,\"#fdca26\"],[1.0,\"#f0f921\"]],\"diverging\":[[0,\"#8e0152\"],[0.1,\"#c51b7d\"],[0.2,\"#de77ae\"],[0.3,\"#f1b6da\"],[0.4,\"#fde0ef\"],[0.5,\"#f7f7f7\"],[0.6,\"#e6f5d0\"],[0.7,\"#b8e186\"],[0.8,\"#7fbc41\"],[0.9,\"#4d9221\"],[1,\"#276419\"]]},\"xaxis\":{\"gridcolor\":\"white\",\"linecolor\":\"white\",\"ticks\":\"\",\"title\":{\"standoff\":15},\"zerolinecolor\":\"white\",\"automargin\":true,\"zerolinewidth\":2},\"yaxis\":{\"gridcolor\":\"white\",\"linecolor\":\"white\",\"ticks\":\"\",\"title\":{\"standoff\":15},\"zerolinecolor\":\"white\",\"automargin\":true,\"zerolinewidth\":2},\"scene\":{\"xaxis\":{\"backgroundcolor\":\"#E5ECF6\",\"gridcolor\":\"white\",\"linecolor\":\"white\",\"showbackground\":true,\"ticks\":\"\",\"zerolinecolor\":\"white\",\"gridwidth\":2},\"yaxis\":{\"backgroundcolor\":\"#E5ECF6\",\"gridcolor\":\"white\",\"linecolor\":\"white\",\"showbackground\":true,\"ticks\":\"\",\"zerolinecolor\":\"white\",\"gridwidth\":2},\"zaxis\":{\"backgroundcolor\":\"#E5ECF6\",\"gridcolor\":\"white\",\"linecolor\":\"white\",\"showbackground\":true,\"ticks\":\"\",\"zerolinecolor\":\"white\",\"gridwidth\":2}},\"shapedefaults\":{\"line\":{\"color\":\"#2a3f5f\"}},\"annotationdefaults\":{\"arrowcolor\":\"#2a3f5f\",\"arrowhead\":0,\"arrowwidth\":1},\"geo\":{\"bgcolor\":\"white\",\"landcolor\":\"#E5ECF6\",\"subunitcolor\":\"white\",\"showland\":true,\"showlakes\":true,\"lakecolor\":\"white\"},\"title\":{\"x\":0.05},\"mapbox\":{\"style\":\"light\"}}},\"xaxis\":{\"anchor\":\"y\",\"domain\":[0.0,0.45],\"title\":{\"font\":{\"size\":14,\"family\":\"Arial\"}},\"side\":\"top\",\"tickmode\":\"array\",\"tickvals\":[0,1,2,3,4,5],\"ticktext\":[\"Australia\",\"Canada\",\"Japan\",\"South Africa\",\"Sweden\",\"Average\"],\"scaleanchor\":\"y\",\"scaleratio\":1},\"yaxis\":{\"anchor\":\"x\",\"domain\":[0.0,1.0],\"tickfont\":{\"family\":\"sans-serif\"},\"side\":\"left\",\"ticks\":\"\",\"ticksuffix\":\" \"},\"xaxis2\":{\"anchor\":\"y2\",\"domain\":[0.55,1.0],\"title\":{\"font\":{\"size\":14,\"family\":\"Arial\"}},\"side\":\"top\",\"tickmode\":\"array\",\"tickvals\":[0,1,2,3,4,5],\"ticktext\":[\"Australia\",\"Canada\",\"Japan\",\"South Africa\",\"Sweden\",\"Average\"],\"scaleanchor\":\"y\",\"scaleratio\":1},\"yaxis2\":{\"anchor\":\"x2\",\"domain\":[0.0,1.0],\"tickfont\":{\"family\":\"sans-serif\"},\"side\":\"left\",\"ticks\":\"\",\"ticksuffix\":\" \"},\"annotations\":[{\"font\":{\"size\":16},\"showarrow\":false,\"text\":\"Percentage Price Change Heatmap\",\"x\":0.225,\"xanchor\":\"center\",\"xref\":\"paper\",\"y\":1.075,\"yanchor\":\"bottom\",\"yref\":\"paper\"},{\"font\":{\"size\":16},\"showarrow\":false,\"text\":\"Normalized Percentage Price Change Heatmap\",\"x\":0.775,\"xanchor\":\"center\",\"xref\":\"paper\",\"y\":1.075,\"yanchor\":\"bottom\",\"yref\":\"paper\"},{\"font\":{\"color\":\"black\"},\"showarrow\":false,\"text\":\"0.75%\",\"x\":\"Japan\",\"xref\":\"x\",\"y\":2018,\"yref\":\"y\"},{\"font\":{\"color\":\"black\"},\"showarrow\":false,\"text\":\"2.56%\",\"x\":\"South Africa\",\"xref\":\"x\",\"y\":2018,\"yref\":\"y\"},{\"font\":{\"color\":\"black\"},\"showarrow\":false,\"text\":\"5.00%\",\"x\":\"Sweden\",\"xref\":\"x\",\"y\":2018,\"yref\":\"y\"},{\"font\":{\"color\":\"black\"},\"showarrow\":false,\"text\":\"1.18%\",\"x\":\"Average\",\"xref\":\"x\",\"y\":2018,\"yref\":\"y\"},{\"font\":{\"color\":\"black\"},\"showarrow\":false,\"text\":\"7.87%\",\"x\":\"Australia\",\"xref\":\"x\",\"y\":2019,\"yref\":\"y\"},{\"font\":{\"color\":\"black\"},\"showarrow\":false,\"text\":\"2.65%\",\"x\":\"Canada\",\"xref\":\"x\",\"y\":2019,\"yref\":\"y\"},{\"font\":{\"color\":\"black\"},\"showarrow\":false,\"text\":\"2.22%\",\"x\":\"Japan\",\"xref\":\"x\",\"y\":2019,\"yref\":\"y\"},{\"font\":{\"color\":\"black\"},\"showarrow\":false,\"text\":\"2.50%\",\"x\":\"South Africa\",\"xref\":\"x\",\"y\":2019,\"yref\":\"y\"},{\"font\":{\"color\":\"black\"},\"showarrow\":false,\"text\":\"7.55%\",\"x\":\"Sweden\",\"xref\":\"x\",\"y\":2019,\"yref\":\"y\"},{\"font\":{\"color\":\"black\"},\"showarrow\":false,\"text\":\"1.22%\",\"x\":\"Average\",\"xref\":\"x\",\"y\":2019,\"yref\":\"y\"},{\"font\":{\"color\":\"black\"},\"showarrow\":false,\"text\":\"4.17%\",\"x\":\"Australia\",\"xref\":\"x\",\"y\":2020,\"yref\":\"y\"},{\"font\":{\"color\":\"black\"},\"showarrow\":false,\"text\":\"0.52%\",\"x\":\"Canada\",\"xref\":\"x\",\"y\":2020,\"yref\":\"y\"},{\"font\":{\"color\":\"black\"},\"showarrow\":false,\"text\":\"0.00%\",\"x\":\"Japan\",\"xref\":\"x\",\"y\":2020,\"yref\":\"y\"},{\"font\":{\"color\":\"black\"},\"showarrow\":false,\"text\":\"4.88%\",\"x\":\"South Africa\",\"xref\":\"x\",\"y\":2020,\"yref\":\"y\"},{\"font\":{\"color\":\"black\"},\"showarrow\":false,\"text\":\"1.74%\",\"x\":\"Sweden\",\"xref\":\"x\",\"y\":2020,\"yref\":\"y\"},{\"font\":{\"color\":\"black\"},\"showarrow\":false,\"text\":\"1.26%\",\"x\":\"Average\",\"xref\":\"x\",\"y\":2020,\"yref\":\"y\"},{\"font\":{\"color\":\"black\"},\"showarrow\":false,\"text\":\"15.00%\",\"x\":\"Australia\",\"xref\":\"x\",\"y\":2021,\"yref\":\"y\"},{\"font\":{\"color\":\"black\"},\"showarrow\":false,\"text\":\"3.59%\",\"x\":\"Canada\",\"xref\":\"x\",\"y\":2021,\"yref\":\"y\"},{\"font\":{\"color\":\"black\"},\"showarrow\":false,\"text\":\"0.72%\",\"x\":\"Japan\",\"xref\":\"x\",\"y\":2021,\"yref\":\"y\"},{\"font\":{\"color\":\"black\"},\"showarrow\":false,\"text\":\"3.49%\",\"x\":\"South Africa\",\"xref\":\"x\",\"y\":2021,\"yref\":\"y\"},{\"font\":{\"color\":\"black\"},\"showarrow\":false,\"text\":\"8.55%\",\"x\":\"Sweden\",\"xref\":\"x\",\"y\":2021,\"yref\":\"y\"},{\"font\":{\"color\":\"black\"},\"showarrow\":false,\"text\":\"1.31%\",\"x\":\"Average\",\"xref\":\"x\",\"y\":2021,\"yref\":\"y\"},{\"font\":{\"color\":\"black\"},\"showarrow\":false,\"text\":\"1.71%\",\"x\":\"Australia\",\"xref\":\"x\",\"y\":2022,\"yref\":\"y\"},{\"font\":{\"color\":\"black\"},\"showarrow\":false,\"text\":\"3.45%\",\"x\":\"Canada\",\"xref\":\"x\",\"y\":2022,\"yref\":\"y\"},{\"font\":{\"color\":\"black\"},\"showarrow\":false,\"text\":\"2.16%\",\"x\":\"Japan\",\"xref\":\"x\",\"y\":2022,\"yref\":\"y\"},{\"font\":{\"color\":\"black\"},\"showarrow\":false,\"text\":\"5.56%\",\"x\":\"South Africa\",\"xref\":\"x\",\"y\":2022,\"yref\":\"y\"},{\"font\":{\"color\":\"black\"},\"showarrow\":false,\"text\":\"8.59%\",\"x\":\"Sweden\",\"xref\":\"x\",\"y\":2022,\"yref\":\"y\"},{\"font\":{\"color\":\"black\"},\"showarrow\":false,\"text\":\"1.38%\",\"x\":\"Average\",\"xref\":\"x\",\"y\":2022,\"yref\":\"y\"},{\"font\":{\"color\":\"black\"},\"showarrow\":false,\"text\":\"7.26\",\"x\":\"Australia\",\"xref\":\"x2\",\"y\":2018,\"yref\":\"y2\"},{\"font\":{\"color\":\"black\"},\"showarrow\":false,\"text\":\"2.31\",\"x\":\"Canada\",\"xref\":\"x2\",\"y\":2018,\"yref\":\"y2\"},{\"font\":{\"color\":\"black\"},\"showarrow\":false,\"text\":\"0.63\",\"x\":\"Japan\",\"xref\":\"x2\",\"y\":2018,\"yref\":\"y2\"},{\"font\":{\"color\":\"black\"},\"showarrow\":false,\"text\":\"2.18\",\"x\":\"South Africa\",\"xref\":\"x2\",\"y\":2018,\"yref\":\"y2\"},{\"font\":{\"color\":\"black\"},\"showarrow\":false,\"text\":\"4.25\",\"x\":\"Sweden\",\"xref\":\"x2\",\"y\":2018,\"yref\":\"y2\"},{\"font\":{\"color\":\"black\"},\"showarrow\":false,\"text\":\"1.00\",\"x\":\"Average\",\"xref\":\"x2\",\"y\":2018,\"yref\":\"y2\"},{\"font\":{\"color\":\"black\"},\"showarrow\":false,\"text\":\"6.43\",\"x\":\"Australia\",\"xref\":\"x2\",\"y\":2019,\"yref\":\"y2\"},{\"font\":{\"color\":\"black\"},\"showarrow\":false,\"text\":\"2.16\",\"x\":\"Canada\",\"xref\":\"x2\",\"y\":2019,\"yref\":\"y2\"},{\"font\":{\"color\":\"black\"},\"showarrow\":false,\"text\":\"1.82\",\"x\":\"Japan\",\"xref\":\"x2\",\"y\":2019,\"yref\":\"y2\"},{\"font\":{\"color\":\"black\"},\"showarrow\":false,\"text\":\"2.04\",\"x\":\"South Africa\",\"xref\":\"x2\",\"y\":2019,\"yref\":\"y2\"},{\"font\":{\"color\":\"black\"},\"showarrow\":false,\"text\":\"6.17\",\"x\":\"Sweden\",\"xref\":\"x2\",\"y\":2019,\"yref\":\"y2\"},{\"font\":{\"color\":\"black\"},\"showarrow\":false,\"text\":\"1.00\",\"x\":\"Average\",\"xref\":\"x2\",\"y\":2019,\"yref\":\"y2\"},{\"font\":{\"color\":\"black\"},\"showarrow\":false,\"text\":\"3.30\",\"x\":\"Australia\",\"xref\":\"x2\",\"y\":2020,\"yref\":\"y2\"},{\"font\":{\"color\":\"black\"},\"showarrow\":false,\"text\":\"0.41\",\"x\":\"Canada\",\"xref\":\"x2\",\"y\":2020,\"yref\":\"y2\"},{\"font\":{\"color\":\"black\"},\"showarrow\":false,\"text\":\"0.00\",\"x\":\"Japan\",\"xref\":\"x2\",\"y\":2020,\"yref\":\"y2\"},{\"font\":{\"color\":\"black\"},\"showarrow\":false,\"text\":\"3.87\",\"x\":\"South Africa\",\"xref\":\"x2\",\"y\":2020,\"yref\":\"y2\"},{\"font\":{\"color\":\"black\"},\"showarrow\":false,\"text\":\"1.38\",\"x\":\"Sweden\",\"xref\":\"x2\",\"y\":2020,\"yref\":\"y2\"},{\"font\":{\"color\":\"black\"},\"showarrow\":false,\"text\":\"1.00\",\"x\":\"Average\",\"xref\":\"x2\",\"y\":2020,\"yref\":\"y2\"},{\"font\":{\"color\":\"black\"},\"showarrow\":false,\"text\":\"11.45\",\"x\":\"Australia\",\"xref\":\"x2\",\"y\":2021,\"yref\":\"y2\"},{\"font\":{\"color\":\"black\"},\"showarrow\":false,\"text\":\"2.74\",\"x\":\"Canada\",\"xref\":\"x2\",\"y\":2021,\"yref\":\"y2\"},{\"font\":{\"color\":\"black\"},\"showarrow\":false,\"text\":\"0.55\",\"x\":\"Japan\",\"xref\":\"x2\",\"y\":2021,\"yref\":\"y2\"},{\"font\":{\"color\":\"black\"},\"showarrow\":false,\"text\":\"2.66\",\"x\":\"South Africa\",\"xref\":\"x2\",\"y\":2021,\"yref\":\"y2\"},{\"font\":{\"color\":\"black\"},\"showarrow\":false,\"text\":\"6.53\",\"x\":\"Sweden\",\"xref\":\"x2\",\"y\":2021,\"yref\":\"y2\"},{\"font\":{\"color\":\"black\"},\"showarrow\":false,\"text\":\"1.00\",\"x\":\"Average\",\"xref\":\"x2\",\"y\":2021,\"yref\":\"y2\"},{\"font\":{\"color\":\"black\"},\"showarrow\":false,\"text\":\"1.24\",\"x\":\"Australia\",\"xref\":\"x2\",\"y\":2022,\"yref\":\"y2\"},{\"font\":{\"color\":\"black\"},\"showarrow\":false,\"text\":\"2.50\",\"x\":\"Canada\",\"xref\":\"x2\",\"y\":2022,\"yref\":\"y2\"},{\"font\":{\"color\":\"black\"},\"showarrow\":false,\"text\":\"1.56\",\"x\":\"Japan\",\"xref\":\"x2\",\"y\":2022,\"yref\":\"y2\"},{\"font\":{\"color\":\"black\"},\"showarrow\":false,\"text\":\"4.03\",\"x\":\"South Africa\",\"xref\":\"x2\",\"y\":2022,\"yref\":\"y2\"},{\"font\":{\"color\":\"black\"},\"showarrow\":false,\"text\":\"6.23\",\"x\":\"Sweden\",\"xref\":\"x2\",\"y\":2022,\"yref\":\"y2\"},{\"font\":{\"color\":\"black\"},\"showarrow\":false,\"text\":\"1.00\",\"x\":\"Average\",\"xref\":\"x2\",\"y\":2022,\"yref\":\"y2\"}],\"title\":{\"text\":\"Heatmaps of Percentage Price Change for Milk by Country and Year\"},\"margin\":{\"l\":100,\"r\":100,\"t\":100,\"b\":100},\"width\":1100,\"height\":500},                        {\"responsive\": true}                    ).then(function(){\n",
       "                            \n",
       "var gd = document.getElementById('f372e53d-2db6-4872-926a-839796e7af2e');\n",
       "var x = new MutationObserver(function (mutations, observer) {{\n",
       "        var display = window.getComputedStyle(gd).display;\n",
       "        if (!display || display === 'none') {{\n",
       "            console.log([gd, 'removed!']);\n",
       "            Plotly.purge(gd);\n",
       "            observer.disconnect();\n",
       "        }}\n",
       "}});\n",
       "\n",
       "// Listen for the removal of the full notebook cells\n",
       "var notebookContainer = gd.closest('#notebook-container');\n",
       "if (notebookContainer) {{\n",
       "    x.observe(notebookContainer, {childList: true});\n",
       "}}\n",
       "\n",
       "// Listen for the clearing of the current output cell\n",
       "var outputEl = gd.closest('.output');\n",
       "if (outputEl) {{\n",
       "    x.observe(outputEl, {childList: true});\n",
       "}}\n",
       "\n",
       "                        })                };                });            </script>        </div>"
      ]
     },
     "metadata": {},
     "output_type": "display_data"
    }
   ],
   "source": [
    "graphing.inter_country_price_heatmaps(inter_country_price_stats, inter_country_price_stats_norm, \"Milk\", \"PERC_PRICE_CHANGE_START_YEAR_TO_END_YEAR\")"
   ]
  },
  {
   "cell_type": "code",
   "execution_count": null,
   "id": "dfe5bbe4-5ec7-4c3f-93fb-efd5ab02f0ae",
   "metadata": {},
   "outputs": [],
   "source": []
  },
  {
   "cell_type": "code",
   "execution_count": null,
   "id": "26f797b2-a895-4490-898a-bb94dff1cce3",
   "metadata": {},
   "outputs": [],
   "source": []
  }
 ],
 "metadata": {
  "kernelspec": {
   "display_name": "Python 3 (ipykernel)",
   "language": "python",
   "name": "python3"
  },
  "language_info": {
   "codemirror_mode": {
    "name": "ipython",
    "version": 3
   },
   "file_extension": ".py",
   "mimetype": "text/x-python",
   "name": "python",
   "nbconvert_exporter": "python",
   "pygments_lexer": "ipython3",
   "version": "3.12.4"
  }
 },
 "nbformat": 4,
 "nbformat_minor": 5
}
